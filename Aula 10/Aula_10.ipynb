{
 "cells": [
  {
   "cell_type": "markdown",
   "metadata": {},
   "source": [
    "Importa as bibliotecas que iremos utilizar"
   ]
  },
  {
   "cell_type": "code",
   "execution_count": 3,
   "metadata": {},
   "outputs": [],
   "source": [
    "import pandas as pd\n",
    "import numpy as np "
   ]
  },
  {
   "cell_type": "markdown",
   "metadata": {},
   "source": [
    "# 1 - Análise da Base de Dados\n",
    "\n",
    "Nesta base de dados temos a rotatividade de clientes em empresas de telecomunicações.\n",
    "\n",
    "O conjunto de dados inclui informações sobre:\n",
    "\n",
    "* Clientes que saíram no último mês – a coluna é chamada de cancelou\n",
    "* Serviços para os quais cada cliente se inscreveu – telefone, várias linhas, internet, segurança online, backup online, proteção de dispositivos, suporte técnico e streaming de TV e filmes\n",
    "* Informações da conta do cliente – há quanto tempo eles são clientes, contrato, forma de pagamento, cobrança sem papel, cobranças mensais e cobranças totais\n",
    "* Informações demográficas sobre os clientes – sexo, faixa etária e se eles têm parceiros e dependentes"
   ]
  },
  {
   "cell_type": "code",
   "execution_count": 4,
   "metadata": {},
   "outputs": [],
   "source": [
    "# REaliza a leitura da base de dados\n",
    "df = pd.read_csv('telco.csv')"
   ]
  },
  {
   "cell_type": "code",
   "execution_count": 5,
   "metadata": {},
   "outputs": [
    {
     "data": {
      "text/html": [
       "<div>\n",
       "<style scoped>\n",
       "    .dataframe tbody tr th:only-of-type {\n",
       "        vertical-align: middle;\n",
       "    }\n",
       "\n",
       "    .dataframe tbody tr th {\n",
       "        vertical-align: top;\n",
       "    }\n",
       "\n",
       "    .dataframe thead th {\n",
       "        text-align: right;\n",
       "    }\n",
       "</style>\n",
       "<table border=\"1\" class=\"dataframe\">\n",
       "  <thead>\n",
       "    <tr style=\"text-align: right;\">\n",
       "      <th></th>\n",
       "      <th>id_cliente</th>\n",
       "      <th>genero</th>\n",
       "      <th>idoso</th>\n",
       "      <th>casado</th>\n",
       "      <th>dependentes</th>\n",
       "      <th>meses_cliente</th>\n",
       "      <th>servico_de_telefone</th>\n",
       "      <th>varias_linhas</th>\n",
       "      <th>servico_de_internet</th>\n",
       "      <th>seguranca_online</th>\n",
       "      <th>...</th>\n",
       "      <th>protecao_de_dispositivo</th>\n",
       "      <th>suporte_tecnico</th>\n",
       "      <th>tv</th>\n",
       "      <th>streaming_de_filmes</th>\n",
       "      <th>contrato</th>\n",
       "      <th>fatura_sem_papel</th>\n",
       "      <th>forma_de_pagamento</th>\n",
       "      <th>cobrancas_mensais</th>\n",
       "      <th>custos_totais</th>\n",
       "      <th>cancelou</th>\n",
       "    </tr>\n",
       "  </thead>\n",
       "  <tbody>\n",
       "    <tr>\n",
       "      <th>0</th>\n",
       "      <td>7590-VHVEG</td>\n",
       "      <td>feminino</td>\n",
       "      <td>nao</td>\n",
       "      <td>sim</td>\n",
       "      <td>nao</td>\n",
       "      <td>1</td>\n",
       "      <td>nao</td>\n",
       "      <td>nao</td>\n",
       "      <td>DSL</td>\n",
       "      <td>nao</td>\n",
       "      <td>...</td>\n",
       "      <td>nao</td>\n",
       "      <td>nao</td>\n",
       "      <td>nao</td>\n",
       "      <td>nao</td>\n",
       "      <td>mensal</td>\n",
       "      <td>sim</td>\n",
       "      <td>cheque eletronico</td>\n",
       "      <td>29.85</td>\n",
       "      <td>29.85</td>\n",
       "      <td>nao</td>\n",
       "    </tr>\n",
       "    <tr>\n",
       "      <th>1</th>\n",
       "      <td>5575-GNVDE</td>\n",
       "      <td>masculino</td>\n",
       "      <td>nao</td>\n",
       "      <td>nao</td>\n",
       "      <td>nao</td>\n",
       "      <td>34</td>\n",
       "      <td>sim</td>\n",
       "      <td>nao</td>\n",
       "      <td>DSL</td>\n",
       "      <td>sim</td>\n",
       "      <td>...</td>\n",
       "      <td>sim</td>\n",
       "      <td>nao</td>\n",
       "      <td>nao</td>\n",
       "      <td>nao</td>\n",
       "      <td>anual</td>\n",
       "      <td>nao</td>\n",
       "      <td>cheque</td>\n",
       "      <td>56.95</td>\n",
       "      <td>1889.50</td>\n",
       "      <td>nao</td>\n",
       "    </tr>\n",
       "  </tbody>\n",
       "</table>\n",
       "<p>2 rows × 21 columns</p>\n",
       "</div>"
      ],
      "text/plain": [
       "   id_cliente     genero idoso casado dependentes  meses_cliente  \\\n",
       "0  7590-VHVEG   feminino   nao    sim         nao              1   \n",
       "1  5575-GNVDE  masculino   nao    nao         nao             34   \n",
       "\n",
       "  servico_de_telefone varias_linhas servico_de_internet seguranca_online  ...  \\\n",
       "0                 nao           nao                 DSL              nao  ...   \n",
       "1                 sim           nao                 DSL              sim  ...   \n",
       "\n",
       "  protecao_de_dispositivo suporte_tecnico   tv streaming_de_filmes contrato  \\\n",
       "0                     nao             nao  nao                 nao   mensal   \n",
       "1                     sim             nao  nao                 nao    anual   \n",
       "\n",
       "  fatura_sem_papel forma_de_pagamento cobrancas_mensais  custos_totais  \\\n",
       "0              sim  cheque eletronico             29.85          29.85   \n",
       "1              nao             cheque             56.95        1889.50   \n",
       "\n",
       "   cancelou  \n",
       "0       nao  \n",
       "1       nao  \n",
       "\n",
       "[2 rows x 21 columns]"
      ]
     },
     "execution_count": 5,
     "metadata": {},
     "output_type": "execute_result"
    }
   ],
   "source": [
    "# Exibe as duas primeiras linhas\n",
    "df.head(2)"
   ]
  },
  {
   "cell_type": "code",
   "execution_count": 6,
   "metadata": {},
   "outputs": [
    {
     "data": {
      "text/plain": [
       "id_cliente                 0\n",
       "genero                     0\n",
       "idoso                      0\n",
       "casado                     0\n",
       "dependentes                0\n",
       "meses_cliente              0\n",
       "servico_de_telefone        0\n",
       "varias_linhas              0\n",
       "servico_de_internet        0\n",
       "seguranca_online           0\n",
       "backup_online              0\n",
       "protecao_de_dispositivo    0\n",
       "suporte_tecnico            0\n",
       "tv                         0\n",
       "streaming_de_filmes        0\n",
       "contrato                   0\n",
       "fatura_sem_papel           0\n",
       "forma_de_pagamento         0\n",
       "cobrancas_mensais          0\n",
       "custos_totais              0\n",
       "cancelou                   0\n",
       "dtype: int64"
      ]
     },
     "execution_count": 6,
     "metadata": {},
     "output_type": "execute_result"
    }
   ],
   "source": [
    "# Exibe quantidade de valores nulos por coluna\n",
    "df.isnull().sum()"
   ]
  },
  {
   "cell_type": "code",
   "execution_count": null,
   "metadata": {},
   "outputs": [],
   "source": [
    "# Exibe o tipo de dados das colunas\n",
    "df.dtypes"
   ]
  },
  {
   "cell_type": "code",
   "execution_count": null,
   "metadata": {},
   "outputs": [],
   "source": [
    "# Exibe informações descritivas a respeito das colunas numéricas\n",
    "df.describe().T"
   ]
  },
  {
   "cell_type": "code",
   "execution_count": null,
   "metadata": {},
   "outputs": [],
   "source": [
    "# Exibe informações descritivas a respeito das colunas não numéricas\n",
    "df.describe(include='O').T"
   ]
  },
  {
   "cell_type": "markdown",
   "metadata": {},
   "source": [
    "Analisando as informações a cima, nas colunas não numéricas, apenas a coluna id_cliente possui vários valores únicos, tendo as outras colunas no máximo 4 valores únicos.\n",
    "\n",
    "A coluna id_cliente é um identificador único para cada cliente e em nada agrega para um modelo de machine learning. Sabendo disto, devemos excluir esta coluna.\n",
    "\n",
    "A coluna genero deve possuir masculino e feminino.\n",
    "\n",
    "Das outras colunas não numéricas que possuem apenas 2 valores únicos, podemos inferir que são \"nao\" e \"sim\", logo, podemos converter tais valores para 0 e 1, respectivamente.\n",
    "\n",
    "As colunas servico_de_internet, contrato e forma_de_pagamento não aparentam seguir um padrão numérico nos valores únicos, então podemos usar o label encoder para converter os valores textuais para numéricos."
   ]
  },
  {
   "cell_type": "markdown",
   "metadata": {},
   "source": [
    "# 2 - Preparar a Base de Dados"
   ]
  },
  {
   "cell_type": "code",
   "execution_count": null,
   "metadata": {},
   "outputs": [],
   "source": [
    "# Apaga a coluna id_cliente\n",
    "df.drop('id_cliente', inplace=True, axis=1)"
   ]
  },
  {
   "cell_type": "markdown",
   "metadata": {},
   "source": [
    "## 2.1 - Converter Dados textuais para numéricos com `loc`"
   ]
  },
  {
   "cell_type": "code",
   "execution_count": null,
   "metadata": {},
   "outputs": [],
   "source": [
    "# Exibe os valores únicos da coluna genero\n",
    "df.genero.unique()"
   ]
  },
  {
   "cell_type": "markdown",
   "metadata": {},
   "source": [
    "```Python\n",
    "df.loc[df['idoso'] == 'nao','idoso'] = 0\n",
    "df.loc[df['idoso'] == 'sim','idoso'] = 1\n",
    "df['idoso'] = pd.to_numeric(df['idoso'])\n",
    "\n",
    "df.loc[df['casado'] == 'nao','casado'] = 0\n",
    "df.loc[df['casado'] == 'sim','casado'] = 1\n",
    "df['casado'] = pd.to_numeric(df['casado'])\n",
    "\n",
    "df.loc[df['dependentes'] == 'nao','dependentes'] = 0\n",
    "df.loc[df['dependentes'] == 'sim','dependentes'] = 1\n",
    "df['dependentes'] = pd.to_numeric(df['dependentes'])\n",
    "\n",
    "df.loc[df['servico_de_telefone'] == 'nao','servico_de_telefone'] = 0\n",
    "df.loc[df['servico_de_telefone'] == 'sim','servico_de_telefone'] = 1\n",
    "df['servico_de_telefone'] = pd.to_numeric(df['servico_de_telefone'])\n",
    "\n",
    "df.loc[df['varias_linhas'] == 'nao','varias_linhas'] = 0\n",
    "df.loc[df['varias_linhas'] == 'sim','varias_linhas'] = 1\n",
    "df['varias_linhas'] = pd.to_numeric(df['varias_linhas'])\n",
    "\n",
    "df.loc[df['seguranca_online'] == 'nao','seguranca_online'] = 0\n",
    "df.loc[df['seguranca_online'] == 'sim','seguranca_online'] = 1\n",
    "df['seguranca_online'] = pd.to_numeric(df['seguranca_online'])\n",
    "\n",
    "df.loc[df['backup_online'] == 'nao','backup_online'] = 0\n",
    "df.loc[df['backup_online'] == 'sim','backup_online'] = 1\n",
    "df['backup_online'] = pd.to_numeric(df['backup_online'])\n",
    "\n",
    "df.loc[df['protecao_de_dispositivo'] == 'nao','protecao_de_dispositivo'] = 0\n",
    "df.loc[df['protecao_de_dispositivo'] == 'sim','protecao_de_dispositivo'] = 1\n",
    "df['protecao_de_dispositivo'] = pd.to_numeric(df['protecao_de_dispositivo'])\n",
    "\n",
    "df.loc[df['suporte_tecnico'] == 'nao','suporte_tecnico'] = 0\n",
    "df.loc[df['suporte_tecnico'] == 'sim','suporte_tecnico'] = 1\n",
    "df['suporte_tecnico'] = pd.to_numeric(df['suporte_tecnico'])\n",
    "\n",
    "df.loc[df['tv'] == 'nao','tv'] = 0\n",
    "df.loc[df['tv'] == 'sim','tv'] = 1\n",
    "df['tv'] = pd.to_numeric(df['tv'])\n",
    "\n",
    "df.loc[df['streaming_de_filmes'] == 'nao','streaming_de_filmes'] = 0\n",
    "df.loc[df['streaming_de_filmes'] == 'sim','streaming_de_filmes'] = 1\n",
    "df['streaming_de_filmes'] = pd.to_numeric(df['streaming_de_filmes'])\n",
    "\n",
    "df.loc[df['fatura_sem_papel'] == 'nao','fatura_sem_papel'] = 0\n",
    "df.loc[df['fatura_sem_papel'] == 'sim','fatura_sem_papel'] = 1\n",
    "df['fatura_sem_papel'] = pd.to_numeric(df['fatura_sem_papel'])\n",
    "\n",
    "df.loc[df['cancelou'] == 'nao','cancelou'] = 0\n",
    "df.loc[df['cancelou'] == 'sim','cancelou'] = 1\n",
    "df['cancelou'] = pd.to_numeric(df['cancelou'])\n",
    "```"
   ]
  },
  {
   "cell_type": "code",
   "execution_count": null,
   "metadata": {},
   "outputs": [],
   "source": [
    "# Converte os valores da coluna genero de masculino para 0\n",
    "df.loc[df['genero'] == 'masculino','genero'] = 0\n",
    "# Converte os valores da coluna genero de feminino para 1\n",
    "df.loc[df['genero'] == 'feminino','genero'] = 1\n",
    "# Converte a coluna genero para o tipo de dados numérico\n",
    "df['genero'] = pd.to_numeric(df['genero'])"
   ]
  },
  {
   "cell_type": "code",
   "execution_count": null,
   "metadata": {},
   "outputs": [],
   "source": [
    "# Primeiro, criamos um dicionário para mapear as strings \"nao\" e \"sim\" para valores numéricos.\n",
    "# Neste caso, \"nao\" é mapeado para 0 e \"sim\" é mapeado para 1.\n",
    "mapeamento = {'nao': 0, 'sim': 1}\n",
    "\n",
    "# Em seguida, listamos todas as colunas do dataframe df que precisam ser convertidas.\n",
    "# Estas colunas atualmente têm valores como \"nao\" e \"sim\" que queremos transformar em 0 e 1, respectivamente.\n",
    "colunas = [\n",
    "    'idoso', 'casado', 'dependentes', 'servico_de_telefone',\n",
    "    'varias_linhas', 'seguranca_online', 'backup_online',\n",
    "    'protecao_de_dispositivo', 'suporte_tecnico', 'tv',\n",
    "    'streaming_de_filmes', 'fatura_sem_papel', 'cancelou'\n",
    "]\n",
    "\n",
    "\n",
    "# Aqui, fazemos a operação principal:\n",
    "# 1. df[colunas] seleciona todas as colunas listadas acima no dataframe df.\n",
    "# 2. .replace(mapeamento) substitui os valores nas colunas selecionadas usando o dicionário de mapeamento.\n",
    "#    Isso transforma \"nao\" em 0 e \"sim\" em 1.\n",
    "# 3. .astype(int) converte o tipo de dados das colunas selecionadas para inteiro.\n",
    "# Atribuímos o resultado de volta a df[colunas], efetivamente atualizando o dataframe com os novos valores.\n",
    "df[colunas] = df[colunas].replace(mapeamento).astype(int)"
   ]
  },
  {
   "cell_type": "code",
   "execution_count": null,
   "metadata": {},
   "outputs": [],
   "source": [
    "df.info()"
   ]
  },
  {
   "cell_type": "markdown",
   "metadata": {},
   "source": [
    "São muitas colunas com valores sim e não. Podemos pensar de forma mais inteligente para fazer este tratamento, usando nossos loops de repetição"
   ]
  },
  {
   "cell_type": "markdown",
   "metadata": {},
   "source": [
    "## 2.2 - Converter Dados textuais para numéricos com `Label Encoder`\n",
    "Analisando o código a cima, temos apenas 3 colunas do tipo object. vamos analisar quais os valores únicos de cada uma:"
   ]
  },
  {
   "cell_type": "code",
   "execution_count": null,
   "metadata": {},
   "outputs": [],
   "source": [
    "# Seleciona as colunas do tipo \"object\"\n",
    "colunas_object = df.select_dtypes(include=['object']).columns.tolist()\n",
    "colunas_object"
   ]
  },
  {
   "cell_type": "code",
   "execution_count": null,
   "metadata": {},
   "outputs": [],
   "source": [
    "df[colunas_object].head()"
   ]
  },
  {
   "cell_type": "code",
   "execution_count": null,
   "metadata": {},
   "outputs": [],
   "source": [
    "df['servico_de_internet'].unique()"
   ]
  },
  {
   "cell_type": "code",
   "execution_count": null,
   "metadata": {},
   "outputs": [],
   "source": [
    "df['contrato'].unique()"
   ]
  },
  {
   "cell_type": "code",
   "execution_count": null,
   "metadata": {},
   "outputs": [],
   "source": [
    "df['forma_de_pagamento'].unique()"
   ]
  },
  {
   "cell_type": "markdown",
   "metadata": {},
   "source": [
    "\n",
    "Como não são valores que podemos substituir por valores numéricos de forma intuitiva, vamos usar o label encoder."
   ]
  },
  {
   "cell_type": "code",
   "execution_count": null,
   "metadata": {},
   "outputs": [],
   "source": [
    "# Primeiro passo, importar a biblioteca necessária\n",
    "from sklearn.preprocessing import LabelEncoder\n",
    "\n",
    "# Chamamos a função LabelEncoder e atribuimos à variável le \n",
    "le = LabelEncoder()"
   ]
  },
  {
   "cell_type": "code",
   "execution_count": null,
   "metadata": {},
   "outputs": [],
   "source": [
    "# Se der erro ao executar este comando, \n",
    "# será necessaŕio instalar a biblioteca sklearn\n",
    "# Para isto, tire o comentário da linha abaixo e execute\n",
    "#!pip install sklearn"
   ]
  },
  {
   "cell_type": "markdown",
   "metadata": {},
   "source": [
    "# Importância de Salvar o LabelEncoder\n",
    "\n",
    "Quando utilizamos a técnica de codificação de labels (ou \"label encoding\") em nossos dados, estamos, na verdade, \n",
    "criando um mapeamento entre os valores originais das colunas e os novos valores numéricos. Para garantir que possamos \n",
    "decodificar esses números de volta para seus valores originais no futuro, é fundamental salvar esse mapeamento.\n",
    "\n",
    "Utilizando a biblioteca `pickle`, podemos facilmente salvar cada objeto `LabelEncoder` ajustado em um arquivo separado.\n",
    "No entanto, como o código acima salva o objeto `le` em cada iteração do loop, o objeto é sobrescrito \n",
    "a cada nova coluna processada. Assim, ao final do loop, só temos acesso ao último `LabelEncoder` utilizado.\n",
    "\n",
    "Se quisermos reverter os valores numéricos para os valores originais de qualquer coluna, \n",
    "precisamos do `LabelEncoder` específico para aquela coluna. Por isso, o código acima salva cada \n",
    "`LabelEncoder` em um arquivo separado, nomeado com o nome da coluna.\n",
    "\n",
    "Contudo, é fundamental estar ciente de que, ao usar esta abordagem, será criado um arquivo `.pkl` \n",
    "para cada coluna na lista `colunas_object`. Assim, é importante gerenciar e organizar esses arquivos \n",
    "adequadamente para evitar confusões no futuro."
   ]
  },
  {
   "cell_type": "code",
   "execution_count": null,
   "metadata": {},
   "outputs": [],
   "source": [
    "# Importação da biblioteca pickle, que permite serializar (ou \"salvar\") \n",
    "# objetos Python em um arquivo e depois desserializar (ou \"carregar\") esses objetos de volta.\n",
    "import pickle"
   ]
  },
  {
   "cell_type": "code",
   "execution_count": null,
   "metadata": {},
   "outputs": [],
   "source": [
    "# Para cada coluna na lista colunas_object (que supomos conter os nomes das colunas de tipo object no dataframe df):\n",
    "for coluna in colunas_object:\n",
    "    # Aqui estamos usando o objeto LabelEncoder (denominado \"le\") para transformar os valores \n",
    "    # de texto da coluna atual em números.\n",
    "    # A função fit_transform faz duas coisas: \n",
    "    # 1. \"fit\" aprende o mapeamento entre os valores de texto e os números.\n",
    "    # 2. \"transform\" aplica esse mapeamento, convertendo os valores de texto em números.\n",
    "    df[coluna] = le.fit_transform(df[coluna])\n",
    "    \n",
    "    # Após ajustar o LabelEncoder à coluna atual, queremos salvar esse objeto \"le\" \n",
    "    # para poder reverter a transformação no futuro, se necessário.\n",
    "    # Aqui, estamos abrindo (ou criando) um arquivo com o nome da coluna (por exemplo, \"idade.pkl\") \n",
    "    # no modo de gravação binária ('wb').\n",
    "    with open(f'{coluna}.pkl', 'wb') as file:\n",
    "        # Usando a função dump do pickle, serializamos e gravamos o objeto \"le\" no arquivo.\n",
    "        pickle.dump(le, file)"
   ]
  },
  {
   "cell_type": "code",
   "execution_count": null,
   "metadata": {},
   "outputs": [],
   "source": [
    "f'{coluna}.pkl'"
   ]
  },
  {
   "cell_type": "code",
   "execution_count": 1,
   "metadata": {},
   "outputs": [
    {
     "ename": "NameError",
     "evalue": "name 'df' is not defined",
     "output_type": "error",
     "traceback": [
      "\u001b[1;31m---------------------------------------------------------------------------\u001b[0m",
      "\u001b[1;31mNameError\u001b[0m                                 Traceback (most recent call last)",
      "\u001b[1;32m~\\AppData\\Local\\Temp\\ipykernel_5412\\1608615758.py\u001b[0m in \u001b[0;36m<module>\u001b[1;34m\u001b[0m\n\u001b[0;32m      1\u001b[0m \u001b[1;31m# Todas colunas com valores numéricos\u001b[0m\u001b[1;33m\u001b[0m\u001b[1;33m\u001b[0m\u001b[0m\n\u001b[1;32m----> 2\u001b[1;33m \u001b[0mdf\u001b[0m\u001b[1;33m.\u001b[0m\u001b[0minfo\u001b[0m\u001b[1;33m(\u001b[0m\u001b[1;33m)\u001b[0m\u001b[1;33m\u001b[0m\u001b[1;33m\u001b[0m\u001b[0m\n\u001b[0m",
      "\u001b[1;31mNameError\u001b[0m: name 'df' is not defined"
     ]
    }
   ],
   "source": [
    "# Todas colunas com valores numéricos \n",
    "df.info()"
   ]
  },
  {
   "cell_type": "markdown",
   "metadata": {},
   "source": [
    "# 3 - Separar os dados em X e y de Treinamento e Teste\n",
    "\n",
    "\n",
    "Para ciência de dados, é comum separar os valores em X (X maiúsculo mesmo) e y (y minúsculo mesmo) onde:\n",
    "\n",
    "* `X` são nossas variáveis independentes (Atributos)\n",
    "\n",
    "* `y` é a variável dependente, o que queremos prever (nosso alvo), pode ser uma classe, categoria ou um valor numérico contínuo\n",
    "\n",
    "Geralmente, em 99,9% dos casos, o valor que iremos prever está na última coluna da tabela, logo, o X são todas as colunas da primeira até a penúltima, e o y será nossa última coluna.\n",
    "\n",
    "\n",
    "\n",
    "\n"
   ]
  },
  {
   "cell_type": "code",
   "execution_count": null,
   "metadata": {},
   "outputs": [],
   "source": [
    "from sklearn.model_selection import train_test_split"
   ]
  },
  {
   "cell_type": "code",
   "execution_count": null,
   "metadata": {},
   "outputs": [],
   "source": [
    "X = df.drop('cancelou', axis=1)\n",
    "X"
   ]
  },
  {
   "cell_type": "code",
   "execution_count": null,
   "metadata": {},
   "outputs": [],
   "source": [
    "y = df[['cancelou']]\n",
    "y"
   ]
  },
  {
   "cell_type": "markdown",
   "metadata": {},
   "source": [
    "A partir deste momento, não iremos utilizar tabela, iremos utilizar matrizes, conhecidas por arrays numpy (numpy é a biblioteca do python para manipular matrizes)\n",
    "\n",
    "A quantidade de dados utilizados para o teste geralmente  fica entre 40% e 20%. Esta porcentagem de dados para testes é definida no parâmetro test_size"
   ]
  },
  {
   "cell_type": "code",
   "execution_count": null,
   "metadata": {},
   "outputs": [],
   "source": [
    "# Separa os dados em treinamento e teste com 30% para teste\n",
    "X_train, X_test, y_train, y_test = train_test_split(X, y, test_size=0.30, random_state=42)"
   ]
  },
  {
   "cell_type": "markdown",
   "metadata": {},
   "source": [
    "# 4 - Normalizar a base de dados\n",
    "\n",
    "\n",
    "Não podemos equecer de não normalizar a coluna da nossa classe alvo pois é uma classificação"
   ]
  },
  {
   "cell_type": "code",
   "execution_count": null,
   "metadata": {},
   "outputs": [],
   "source": [
    "# Importa a biblioteca para normalizar os dados com Min Max \n",
    "from sklearn.preprocessing import MinMaxScaler\n",
    "\n",
    "# Cria um ainstância do normalizador\n",
    "normalizador = MinMaxScaler()\n",
    "\n",
    "# Normaliza o X_train e aprende quais são os valores mínimos e máximos de cada coluna de X\n",
    "X_train = normalizador.fit_transform(X_train)\n",
    "\n",
    "# Normaliza o X_trest com os valores mínimos e máximos de cada coluna de X do X_train\n",
    "X_test = normalizador.transform(X_test)"
   ]
  },
  {
   "cell_type": "markdown",
   "metadata": {},
   "source": [
    "# 4 - Vamos treinar um algoritmo de machine learning!!"
   ]
  },
  {
   "cell_type": "code",
   "execution_count": null,
   "metadata": {},
   "outputs": [],
   "source": [
    "# Biblioteca de algoritmo de machine Learning Naive Bayes\n",
    "from sklearn.naive_bayes import GaussianNB\n",
    "\n",
    "# Bibliotecas apara avaliar desempenho de modelos de machine learning de classificação\n",
    "from sklearn.metrics import classification_report, confusion_matrix\n",
    "\n",
    "# Bibliotecas de Gráficos\n",
    "import matplotlib.pyplot as plt\n",
    "import seaborn as sns"
   ]
  },
  {
   "cell_type": "code",
   "execution_count": null,
   "metadata": {},
   "outputs": [],
   "source": [
    "# Criando e treinando o modelo Naive Bayes\n",
    "nb_model = GaussianNB()\n",
    "nb_model.fit(X_train, y_train)"
   ]
  },
  {
   "cell_type": "code",
   "execution_count": null,
   "metadata": {},
   "outputs": [],
   "source": [
    "# Realizando previsões\n",
    "y_pred = nb_model.predict(X_test)\n",
    "\n",
    "# Criando a matriz de confusão\n",
    "conf_matrix = confusion_matrix(y_test, y_pred)\n",
    "\n",
    "# Plotando a matriz de confusão com um heatmap\n",
    "plt.figure(figsize=(8,6))\n",
    "sns.heatmap(conf_matrix, annot=True, fmt='g', cmap=\"Blues\")\n",
    "plt.xlabel('Predicted')\n",
    "plt.ylabel('Actual')\n",
    "plt.title('Confusion Matrix')\n",
    "plt.show()\n",
    "\n",
    "# Exibindo o classification report\n",
    "print(classification_report(y_test, y_pred))"
   ]
  },
  {
   "cell_type": "markdown",
   "metadata": {},
   "source": [
    "# Explicação: Naive Bayes\n",
    "\n",
    "O algoritmo Naive Bayes é um método de classificação probabilístico baseado no teorema de Bayes.\n",
    "Em resumo, ele:\n",
    "- Estima a probabilidade de uma instância pertencer a uma classe específica.\n",
    "- Assume que os recursos (features) são independentes entre si (daí o \"naive\" ou \"ingênuo\").\n",
    "\n",
    "# Explicação: Matriz de Confusão\n",
    "\n",
    "A matriz de confusão é uma tabela que apresenta as frequências:\n",
    "- Verdadeiro Positivo (VP): Casos reais foram previstos corretamente.\n",
    "- Falso Positivo (FP): Casos foram incorretamente previstos como positivos.\n",
    "- Verdadeiro Negativo (VN): Casos negativos foram previstos corretamente.\n",
    "- Falso Negativo (FN): Casos foram incorretamente previstos como negativos.\n",
    "\n",
    "# Explicação: Métricas do Classification Report\n",
    "\n",
    "- **Precisão (Precision)**: Dos casos previstos como positivos, quantos são realmente positivos?\n",
    "  `Precision = VP / (VP + FP)`\n",
    "  \n",
    "- **Recall (Sensibilidade)**: Dos casos que são realmente positivos, quantos previmos corretamente?\n",
    "  `Recall = VP / (VP + FN)`\n",
    "\n",
    "- **F1-Score**: Média harmônica entre precisão e recall, oferece um balanço entre as duas métricas.\n",
    "  `F1 = 2 * (Precision * Recall) / (Precision + Recall)`\n",
    "\n",
    "- **Support**: Número de ocorrências reais da classe no conjunto de teste.\n",
    "\n",
    "- **Accuracy (Acurácia)**: De todas as classificações, quantas o modelo classificou corretamente?\n",
    "  `Accuracy = (VP + VN) / (VP + FP + FN + VN)`\n",
    "\n",
    "Espero que estas explicações ajudem a entender os conceitos fundamentais apresentados aqui."
   ]
  },
  {
   "cell_type": "markdown",
   "metadata": {},
   "source": [
    "# Funções em Python\n",
    "\n",
    "No Python, uma função é um bloco de código reutilizável que executa uma ação específica. Elas oferecem uma maneira de estruturar seu código em blocos separados, permitindo que você organize seu código, o torne mais legível e reutilize em outros lugares.\n",
    "\n",
    "## Como definir uma função:\n",
    "\n",
    "Para criar uma função no Python, você precisa seguir a seguinte sintaxe:\n",
    "\n",
    "```python\n",
    "def nome_da_funcao(argumentos):\n",
    "    # Código da função\n",
    "    return resultado\n",
    "```\n",
    "- ``def`` é a palavra-chave que inicia a definição da função.\n",
    "- ``nome_da_funcao`` é o nome que você deseja dar à função.\n",
    "- ``argumentos`` são variáveis que você passa para a função.\n",
    "- ``return`` é a palavra-chave que retorna um valor da função."
   ]
  },
  {
   "cell_type": "code",
   "execution_count": null,
   "metadata": {},
   "outputs": [],
   "source": [
    "# Definindo a função de soma\n",
    "def soma(a, b):\n",
    "    \"\"\"\n",
    "    Esta função aceita dois argumentos e retorna a soma de ambos.\n",
    "    \n",
    "    Argumentos:\n",
    "    a -- Primeiro número\n",
    "    b -- Segundo número\n",
    "    \n",
    "    Retorna:\n",
    "    A soma de a e b\n",
    "    \"\"\"\n",
    "    return a + b\n",
    "\n",
    "# Definindo a função de multiplicação\n",
    "def multiplicacao(a, b):\n",
    "    \"\"\"\n",
    "    Esta função aceita dois argumentos e retorna o produto de ambos.\n",
    "    \n",
    "    Argumentos:\n",
    "    a -- Primeiro número\n",
    "    b -- Segundo número\n",
    "    \n",
    "    Retorna:\n",
    "    O produto de a e b\n",
    "    \"\"\"\n",
    "    return a * b\n",
    "\n",
    "# Definindo a função que verifica se um número é par ou ímpar\n",
    "def verifica_paridade(n):\n",
    "    \"\"\"\n",
    "    Esta função aceita um número e retorna uma string indicando se é \"par\" ou \"ímpar\".\n",
    "    \n",
    "    Argumento:\n",
    "    n -- Número a ser verificado\n",
    "    \n",
    "    Retorna:\n",
    "    Uma string \"par\" se o número for par, e \"ímpar\" se for ímpar.\n",
    "    \"\"\"\n",
    "    if n % 2 == 0:\n",
    "        return \"par\"\n",
    "    else:\n",
    "        return \"ímpar\""
   ]
  },
  {
   "cell_type": "markdown",
   "metadata": {},
   "source": [
    "Repare que ao definir as funções, nada foi retornado."
   ]
  },
  {
   "cell_type": "code",
   "execution_count": null,
   "metadata": {},
   "outputs": [],
   "source": [
    "# Testando as funções\n",
    "soma(5, 3)  # Deve imprimir 8"
   ]
  },
  {
   "cell_type": "code",
   "execution_count": null,
   "metadata": {},
   "outputs": [],
   "source": [
    "multiplicacao(5, 3)  # Deve imprimir 15"
   ]
  },
  {
   "cell_type": "code",
   "execution_count": null,
   "metadata": {},
   "outputs": [],
   "source": [
    "verifica_paridade(5)  # Deve imprimir \"ímpar\""
   ]
  },
  {
   "cell_type": "markdown",
   "metadata": {},
   "source": [
    "Seguindo esta lógica, podemos criar uma função para exibir as métricas de desempenho do modelo."
   ]
  },
  {
   "cell_type": "code",
   "execution_count": null,
   "metadata": {},
   "outputs": [],
   "source": [
    "def avaliar_model(y_test, y_pred):\n",
    "    # Criando a matriz de confusão\n",
    "    conf_matrix = confusion_matrix(y_test, y_pred)\n",
    "\n",
    "    # Plotando a matriz de confusão com um heatmap\n",
    "    plt.figure(figsize=(8,6))\n",
    "    sns.heatmap(conf_matrix, annot=True, fmt='g', cmap=\"Blues\")\n",
    "    plt.xlabel('Predicted')\n",
    "    plt.ylabel('Actual')\n",
    "    plt.title('Confusion Matrix')\n",
    "    plt.show()\n",
    "\n",
    "    # Exibindo o classification report\n",
    "    print(classification_report(y_test, y_pred))"
   ]
  },
  {
   "cell_type": "markdown",
   "metadata": {},
   "source": [
    "# Outros tipos de modelos:\n",
    "Existem diversos tipos de modelos, alguns muito similares na forma de aplicação, mas podem gerar acurácias melhores ou piores.\n",
    "\n",
    "Cada bloco de código abaixo é o treinamento e teste de um modelo diferente, sobre a mesma base de dados."
   ]
  },
  {
   "cell_type": "code",
   "execution_count": null,
   "metadata": {},
   "outputs": [],
   "source": [
    "from sklearn.linear_model import LogisticRegression\n",
    "from sklearn.metrics import accuracy_score\n",
    "\n",
    "# Cria uma instância do algorítmo de Regressão Logística\n",
    "lrmodel = LogisticRegression()\n",
    "\n",
    "# Treina o modelo com a base de treinamento\n",
    "lrmodel_treinado = lrmodel.fit(X_train, y_train)\n",
    "\n",
    "# Realiza a predição dos valores de teste\n",
    "y_predict = lrmodel_treinado.predict(X_test)\n",
    "\n",
    "avaliar_model(y_test, y_predict)"
   ]
  },
  {
   "cell_type": "code",
   "execution_count": null,
   "metadata": {},
   "outputs": [],
   "source": [
    "from sklearn import svm\n",
    "\n",
    "# Cria uma instância do modelo\n",
    "svmc = svm.SVC()\n",
    "# Treina o modelo com a base de treinamento\n",
    "svmc.fit(X_train, y_train)\n",
    "\n",
    "# Realiza a predição dos valores de teste\n",
    "y_predict = svmc.predict(X_test)\n",
    "\n",
    "avaliar_model(y_test, y_predict)"
   ]
  },
  {
   "cell_type": "code",
   "execution_count": null,
   "metadata": {},
   "outputs": [],
   "source": [
    "from sklearn.linear_model import SGDClassifier\n",
    "\n",
    "# Cria uma instância do modelo\n",
    "sgd = SGDClassifier()\n",
    "# Treina o modelo com a base de treinamento\n",
    "sgd.fit(X_train, y_train)\n",
    "\n",
    "# Realiza a predição dos valores de teste\n",
    "y_predict = sgd.predict(X_test)\n",
    "\n",
    "avaliar_model(y_test, y_predict)"
   ]
  },
  {
   "cell_type": "code",
   "execution_count": null,
   "metadata": {},
   "outputs": [],
   "source": [
    "from sklearn.neighbors import NearestCentroid\n",
    "\n",
    "# Cria uma instância do modelo\n",
    "nct = NearestCentroid()\n",
    "# Treina o modelo com a base de treinamento\n",
    "nct.fit(X_train, y_train)\n",
    "\n",
    "# Realiza a predição dos valores de teste\n",
    "y_predict = nct.predict(X_test)\n",
    "\n",
    "avaliar_model(y_test, y_predict)"
   ]
  },
  {
   "cell_type": "code",
   "execution_count": null,
   "metadata": {},
   "outputs": [],
   "source": [
    "from sklearn import tree\n",
    "\n",
    "# Cria uma instância do modelo\n",
    "dtc = tree.DecisionTreeClassifier()\n",
    "# Treina o modelo com a base de treinamento\n",
    "dtc.fit(X_train, y_train)\n",
    "\n",
    "# Realiza a predição dos valores de teste\n",
    "y_predict = dtc.predict(X_test)\n",
    "\n",
    "avaliar_model(y_test, y_predict)"
   ]
  },
  {
   "cell_type": "code",
   "execution_count": null,
   "metadata": {},
   "outputs": [],
   "source": [
    "from sklearn.ensemble import RandomForestClassifier\n",
    "\n",
    "# Cria uma instância do modelo\n",
    "rdmf = RandomForestClassifier()\n",
    "# Treina o modelo com a base de treinamento\n",
    "rdmf.fit(X_train, y_train)\n",
    "\n",
    "# Realiza a predição dos valores de teste\n",
    "y_predict = rdmf.predict(X_test)\n",
    "\n",
    "avaliar_model(y_test, y_predict)"
   ]
  },
  {
   "cell_type": "code",
   "execution_count": null,
   "metadata": {},
   "outputs": [],
   "source": [
    "from sklearn.ensemble import ExtraTreesClassifier\n",
    "\n",
    "# Cria uma instância do modelo\n",
    "ext_clf = ExtraTreesClassifier()\n",
    "# Treina o modelo com a base de treinamento\n",
    "ext_clf.fit(X_train, y_train)\n",
    "\n",
    "# Realiza a predição dos valores de teste\n",
    "y_predict = ext_clf.predict(X_test)\n",
    "\n",
    "avaliar_model(y_test, y_predict)"
   ]
  },
  {
   "cell_type": "code",
   "execution_count": null,
   "metadata": {},
   "outputs": [],
   "source": [
    "from sklearn.neural_network import MLPClassifier\n",
    "\n",
    "# Cria uma instância do modelo\n",
    "mlp = MLPClassifier()\n",
    "# Treina o modelo com a base de treinamento\n",
    "mlp.fit(X_train, y_train)\n",
    "\n",
    "# Realiza a predição dos valores de teste\n",
    "y_predict = mlp.predict(X_test)\n",
    "\n",
    "avaliar_model(y_test, y_predict)"
   ]
  },
  {
   "cell_type": "markdown",
   "metadata": {},
   "source": [
    "Analisando as acurácias dos modelos, vemos que ficaram bem próximas, mas em machine learning, maior acurácia significa melhor resultado.\n",
    "\n",
    "Aqui, o algoritmo que resultou na melhor acurácia foram: SGDClassifier, svm, LogisticRegression\n",
    "\n",
    "Na prática, poderíamos utilizar um destes modelos com outros clientes da empresa e prever com nosso modelo quais clientes provavelmente irão cancelar o contrato e, antes que isto ocorra, criar uma campanha de marketing direcionada a estes clientes, ofertando planos mais em conta, mais vantagens... Assim evitando a evasão de clientes.\n",
    "\n",
    "Na aula que vem iremos aprender como aplicar estes modelos com dados de um ou mais clientes para prever se o cliente irá cancelar ou não o contrato. "
   ]
  },
  {
   "cell_type": "markdown",
   "metadata": {},
   "source": [
    "# Exercícios\n",
    "\n",
    "A base de dados `campanha_banco.csv` possui informaçõs sobre campanhas de marketing de um banco x, oferecendo um determinado produto aos clientes (como por exemplo, seguro de pix, seguro de vida, empréstimo, proposta de invertimento em fundo de investimentos...)\n",
    "\n",
    "Infelizmente, por questões de sigilo de dados, o banco não pode informar qual o tipo de campanha e 8 colunas possuem valores mas não possuem a descrição do que a coluna representa. \n",
    "\n",
    "A base de dados já teve os dados textuais convertidos para numéricos. \n",
    "\n",
    "1 - Realize a leitura da base de dados;\n",
    "\n",
    "2 - Realize uma breve análise da base de dados;\n",
    "\n",
    "3 - Crie a variável X (Para receber os dados de todas as colunas menos a última);\n",
    "\n",
    "4 - Crie a variável y para receber os dados da coluna `aceitou_proposta`;\n",
    "\n",
    "5 - Use o train_test_split para separar a base de dados em treinamento e teste (separe 30% dos dados para teste);\n",
    "\n",
    "6 - Realize a normalização do X de treinamento e teste;\n",
    "\n",
    "7 - Aplique a base de treinamento em no mínimo 4 modelos;\n",
    "\n",
    "8 - Verifique qual modelo resultou na melhor acurácia e exiba a matriz d confusão dele."
   ]
  },
  {
   "cell_type": "code",
   "execution_count": null,
   "metadata": {},
   "outputs": [],
   "source": []
  },
  {
   "cell_type": "code",
   "execution_count": null,
   "metadata": {},
   "outputs": [],
   "source": []
  },
  {
   "cell_type": "code",
   "execution_count": null,
   "metadata": {},
   "outputs": [],
   "source": []
  },
  {
   "cell_type": "code",
   "execution_count": null,
   "metadata": {},
   "outputs": [],
   "source": []
  },
  {
   "cell_type": "code",
   "execution_count": null,
   "metadata": {},
   "outputs": [],
   "source": []
  },
  {
   "cell_type": "code",
   "execution_count": null,
   "metadata": {},
   "outputs": [],
   "source": []
  },
  {
   "cell_type": "code",
   "execution_count": null,
   "metadata": {},
   "outputs": [],
   "source": []
  },
  {
   "cell_type": "code",
   "execution_count": null,
   "metadata": {},
   "outputs": [],
   "source": []
  },
  {
   "cell_type": "code",
   "execution_count": null,
   "metadata": {},
   "outputs": [],
   "source": []
  },
  {
   "cell_type": "code",
   "execution_count": null,
   "metadata": {},
   "outputs": [],
   "source": []
  },
  {
   "cell_type": "code",
   "execution_count": null,
   "metadata": {},
   "outputs": [],
   "source": []
  },
  {
   "cell_type": "code",
   "execution_count": null,
   "metadata": {},
   "outputs": [],
   "source": []
  },
  {
   "cell_type": "code",
   "execution_count": null,
   "metadata": {},
   "outputs": [],
   "source": []
  },
  {
   "cell_type": "code",
   "execution_count": null,
   "metadata": {},
   "outputs": [],
   "source": []
  },
  {
   "cell_type": "code",
   "execution_count": null,
   "metadata": {},
   "outputs": [],
   "source": []
  },
  {
   "cell_type": "code",
   "execution_count": null,
   "metadata": {},
   "outputs": [],
   "source": []
  },
  {
   "cell_type": "code",
   "execution_count": null,
   "metadata": {},
   "outputs": [],
   "source": []
  },
  {
   "cell_type": "code",
   "execution_count": null,
   "metadata": {},
   "outputs": [],
   "source": []
  },
  {
   "cell_type": "code",
   "execution_count": null,
   "metadata": {},
   "outputs": [],
   "source": []
  },
  {
   "cell_type": "code",
   "execution_count": null,
   "metadata": {},
   "outputs": [],
   "source": []
  },
  {
   "cell_type": "code",
   "execution_count": null,
   "metadata": {},
   "outputs": [],
   "source": []
  },
  {
   "cell_type": "code",
   "execution_count": null,
   "metadata": {},
   "outputs": [],
   "source": []
  },
  {
   "cell_type": "code",
   "execution_count": null,
   "metadata": {},
   "outputs": [],
   "source": []
  }
 ],
 "metadata": {
  "kernelspec": {
   "display_name": "Python 3 (ipykernel)",
   "language": "python",
   "name": "python3"
  },
  "language_info": {
   "codemirror_mode": {
    "name": "ipython",
    "version": 3
   },
   "file_extension": ".py",
   "mimetype": "text/x-python",
   "name": "python",
   "nbconvert_exporter": "python",
   "pygments_lexer": "ipython3",
   "version": "3.9.13"
  },
  "vscode": {
   "interpreter": {
    "hash": "f43ba6cefd8f24580ff42e8af3aabb69fa421e7aad4e479f4a62a25e10b01fe1"
   }
  }
 },
 "nbformat": 4,
 "nbformat_minor": 2
}
