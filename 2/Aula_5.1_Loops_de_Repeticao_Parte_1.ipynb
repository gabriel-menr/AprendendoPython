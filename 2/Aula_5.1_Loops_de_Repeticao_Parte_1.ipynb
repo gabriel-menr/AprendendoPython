{
 "cells": [
  {
   "cell_type": "markdown",
   "metadata": {},
   "source": [
    "# 1 - Estruturas de Repetição\n",
    "\n",
    "### Introdução\n",
    "* É comum a repetição de procedimentos para realizar tarefas.\n",
    "* Estes procedimentos não são repetidos eternamente, se encerram quando o objetivo é atingido.\n",
    "* A estrutura de Controle de Repetição é utilizada\n",
    "quando se deseja que um determinado conjunto de instruções ou comandos sejam executados um número definido ou indefinido de vezes, ou enquanto uma terminada condição prevalecer ou até que seja alcançada.\n",
    "\n",
    "### Introdução – Exemplos de repetição\n",
    "* Uma pessoa apertando o parafuso, gira a chave de fenda até que o parafuso esteja apertado o suficiente. A cada volta, é verificado se já está bem firme.\n",
    "* Uma instrução para ler um arquivo com 100 registros, enquanto não chegar ao final não para.\n",
    "* Calcular a média do registro de notas de 100 alunos \n",
    "* Fazer 1000 chamadas a um site específico.\n",
    "\n",
    "### Características\n",
    "* Todas as estruturas de repetição têm uma característica comum:\n",
    "    * O fato de haver uma verificação de condição para determinar se a repetição prossegue ou não.\n",
    "    * Em vez de fazermos um trabalho braçal, escrevendo a mesma instrução várias vezes, podemos utilizar `uma estrutura que indique que tal instrução será executada quantas vezes for necessária`.\n",
    "    \n",
    "* As estruturas de repetição são também chamadas de Laços ou Loops.\n",
    "* Quanto ao critério de parada, os laços podem utilizar:\n",
    "    * Repetição com Teste no Início;\n",
    "    * Repetição com Teste no Final ou\n",
    "    * Repetição com Variáveis de Controle.\n",
    "* As estruturas que podemos utilizar são:\n",
    "    * enquanto...faca\n",
    "    * repita...Ate\n",
    "    * para...faça"
   ]
  },
  {
   "cell_type": "markdown",
   "metadata": {},
   "source": [
    "# 1.1 - Estruturas de Repetição com Teste no início\n",
    "* Repetição com Teste no Início\n",
    "* Neste caso a condição de teste é verificada antes de cada execução, se é “permitido” executar o trecho do algoritmo ou não.\n",
    "* Trata-se de um laço que se mantém repetindo enquanto uma dada condição permanecer verdadeira.\n",
    "* No python a estrutura utilizada para teste no início é o `while` (em português, while significa enquanto)\n",
    "    * `while` condição:\n",
    "    * _____Instruções"
   ]
  },
  {
   "cell_type": "code",
   "execution_count": 3,
   "metadata": {},
   "outputs": [],
   "source": [
    "numero = 0"
   ]
  },
  {
   "cell_type": "code",
   "execution_count": 2,
   "metadata": {},
   "outputs": [
    {
     "data": {
      "text/plain": [
       "True"
      ]
     },
     "execution_count": 2,
     "metadata": {},
     "output_type": "execute_result"
    }
   ],
   "source": [
    "numero < 3"
   ]
  },
  {
   "cell_type": "code",
   "execution_count": 4,
   "metadata": {},
   "outputs": [
    {
     "name": "stdout",
     "output_type": "stream",
     "text": [
      "0\n",
      "1\n",
      "2\n"
     ]
    }
   ],
   "source": [
    "# Cria a variável numero com valor 0\n",
    "numero = 0\n",
    "\n",
    "# Cria a estrutura de repetição que será executada enquanto a variável numero for menor do que 3\n",
    "while numero < 3:\n",
    "    # Aqui embaixo irão as intruções do que será executado enquanto a variável numero for menor que 3\n",
    "    # Repare que assim como no if, também utilizamos um tab de distância\n",
    "    # Irá fazer o print do número\n",
    "    print(numero)\n",
    "    # Irá acrescentar mais uma unidade a variável número\n",
    "    numero +=1"
   ]
  },
  {
   "cell_type": "code",
   "execution_count": 5,
   "metadata": {},
   "outputs": [
    {
     "data": {
      "text/plain": [
       "3"
      ]
     },
     "execution_count": 5,
     "metadata": {},
     "output_type": "execute_result"
    }
   ],
   "source": [
    "numero"
   ]
  },
  {
   "cell_type": "code",
   "execution_count": 6,
   "metadata": {},
   "outputs": [],
   "source": [
    "# Cria a variável numero com valor 5\n",
    "numero = 5\n",
    "\n",
    "# Cria a estrutura de repetição que será executada enquanto a variável numero for menor do que 3\n",
    "while numero < 3:\n",
    "    # Aqui embaixo irão as intruções do que será executado enquanto a variável numero for menor que 3\n",
    "    # Repare que assim como no if, também utilizamos um tab de distância\n",
    "\n",
    "    # Irá fazer o print do número\n",
    "    print(numero)\n",
    "\n",
    "    # Irá acrescentar mais uma unidade a variável número\n",
    "    numero +=1\n",
    "\n",
    "# Repare que nada foi executado pois o teste no início verificou que a variável numero é maior que 3"
   ]
  },
  {
   "cell_type": "markdown",
   "metadata": {},
   "source": [
    "Assim como na estrutura condicional do if, o while só sera executado se a determinada verificação for verdadeira.\n",
    "\n",
    "Na estrutura de repetição com o teste no início, caso a verificação seja falsa, nada será executado."
   ]
  },
  {
   "cell_type": "markdown",
   "metadata": {},
   "source": [
    "### Exemplo 1:\n",
    "Solicitar números ao usuário até que ele digite 0"
   ]
  },
  {
   "cell_type": "code",
   "execution_count": 8,
   "metadata": {},
   "outputs": [
    {
     "name": "stdout",
     "output_type": "stream",
     "text": [
      "Digite um número inteiro ou 0 para encerrar o programa8\n",
      "Digite um número inteiro ou 0 para encerrar o programa0\n"
     ]
    }
   ],
   "source": [
    "# Cria a variável número que solicitará um valor ao usuário\n",
    "numero = int(input('Digite um número inteiro ou 0 para encerrar o programa'))\n",
    "\n",
    "# Loop será executado enquanto a variável número for diferente de 0\n",
    "while numero != 0:\n",
    "    # Solicita novamente que o usuário digite outro valor para a variável número\n",
    "    numero = int(input('Digite um número inteiro ou 0 para encerrar o programa'))"
   ]
  },
  {
   "cell_type": "markdown",
   "metadata": {},
   "source": [
    "Diferente da estrutura if, caso queira acrescentar mais de uma condição para o `while`, é necessário que as condições estejam entre parênteses"
   ]
  },
  {
   "cell_type": "markdown",
   "metadata": {},
   "source": [
    "### Exemplo 2:\n",
    "Programa que peça uma nota, entre zero e dez. Mostre uma mensagem caso o valor seja inválido e continue pedindo até que o usuário informe um valor válido."
   ]
  },
  {
   "cell_type": "code",
   "execution_count": 10,
   "metadata": {},
   "outputs": [
    {
     "name": "stdout",
     "output_type": "stream",
     "text": [
      "Digite uma nota de 0 até 100.5\n"
     ]
    }
   ],
   "source": [
    "# Cria a variável nota e solicita que o usuário digite a nota\n",
    "nota = float(input('Digite uma nota de 0 até 10'))\n",
    "\n",
    "# Verifica se a nota está entre 0 e 10\n",
    "while (nota < 0) or (nota > 10):\n",
    "    # Caso a nota seja menor que 0 ou maior que 10 irá solicitar novamente que o usuário digite a nota\n",
    "    nota = float(input('Digite uma nota de 0 até 10'))"
   ]
  },
  {
   "cell_type": "markdown",
   "metadata": {},
   "source": [
    "# 1.2 - Estruturas de Repetição com Teste no Final\n",
    "* Repetição com Teste no final\n",
    "* Funciona de forma similar ao comando enquanto exceto pelo fato de que a condição de controle só é testada após a execução do bloco de instruções.\n",
    "* Isso garante que os comandos serão executados pelo menos uma vez.\n",
    "\n",
    "No python não existe uma estrutura de repetição para isto. O que pode ser feito é uma adaptação da estrutura While que será sempre verdadeira e iremos utilizar o comando `break` dentro de um if para encerrar o loop"
   ]
  },
  {
   "cell_type": "code",
   "execution_count": 11,
   "metadata": {},
   "outputs": [
    {
     "data": {
      "text/plain": [
       "False"
      ]
     },
     "execution_count": 11,
     "metadata": {},
     "output_type": "execute_result"
    }
   ],
   "source": [
    "nota > 5"
   ]
  },
  {
   "cell_type": "code",
   "execution_count": 12,
   "metadata": {},
   "outputs": [
    {
     "data": {
      "text/plain": [
       "True"
      ]
     },
     "execution_count": 12,
     "metadata": {},
     "output_type": "execute_result"
    }
   ],
   "source": [
    "True"
   ]
  },
  {
   "cell_type": "code",
   "execution_count": 13,
   "metadata": {},
   "outputs": [
    {
     "name": "stdout",
     "output_type": "stream",
     "text": [
      "0\n",
      "1\n",
      "2\n",
      "3\n",
      "4\n"
     ]
    }
   ],
   "source": [
    "# Cria a variável numero com valor 0\n",
    "numero = 0\n",
    "# Criamos uma estrutura de repetição que sempre será verdadeira\n",
    "while True:\n",
    "    # Irá fazer o print do número\n",
    "    print(numero)\n",
    "    # Irá acrescentar mais uma unidade a variável número\n",
    "    numero +=1\n",
    "    # O if faz a função de verificar a determinada condição\n",
    "    if numero >= 5:\n",
    "        break"
   ]
  },
  {
   "cell_type": "code",
   "execution_count": 14,
   "metadata": {},
   "outputs": [
    {
     "name": "stdout",
     "output_type": "stream",
     "text": [
      "6\n"
     ]
    }
   ],
   "source": [
    "# Cria a variável numero com valor 0\n",
    "numero = 5\n",
    "\n",
    "# Criamos uma estrutura de repetição que sempre será verdadeira\n",
    "while True:\n",
    "    # Irá fazer o print do número\n",
    "    # Irá acrescentar mais uma unidade a variável número\n",
    "    numero +=1\n",
    "    print(numero)\n",
    "    # O if faz a função de verificar a determinada condição\n",
    "    if numero >= 3:\n",
    "        break"
   ]
  },
  {
   "cell_type": "markdown",
   "metadata": {},
   "source": [
    "Repare no código que mesmo a variável numero sendo maior que 3, o while foi executado uma vez, exibindo o valor da variável numero"
   ]
  },
  {
   "cell_type": "markdown",
   "metadata": {},
   "source": [
    "# 1.3 - Estrutura de Repetição com variável de controle\n",
    "* A estrutura de repetição com variáveis de controle é um pouco diferente das outras estruturas, pois ele não precisa de um índice sendo incrementado no corpo do laço. \n",
    "\n",
    "* Na estrutura para...faça, a variável de controle é inicializada com valor inicial e no início de cada iteração, seu valor é comparado com valor final.\n",
    "\n",
    "* Se o valor da variável for menor ou igual a valor final, a lista de comandos é executada e após ser executado o último comando da lista, a variável de controle é incrementada.\n",
    "\n",
    "* No python, a estrutura de repetição para...faça é representada apenas pela palavra `for`.\n",
    "\n",
    "* Na estrutura de repetição `for` podem ser definidor 3 parâmetros:\n",
    "    * O valor Inicial (Não Obrigatório); \n",
    "    * O valor Final (Obrigatório);\n",
    "    * O passo (Não é obrigatório, mas só pode ser definido se tiver o início e o final)"
   ]
  },
  {
   "cell_type": "code",
   "execution_count": 15,
   "metadata": {},
   "outputs": [
    {
     "name": "stdout",
     "output_type": "stream",
     "text": [
      "0\n",
      "1\n",
      "2\n",
      "3\n",
      "4\n",
      "5\n",
      "6\n",
      "7\n",
      "8\n",
      "9\n"
     ]
    }
   ],
   "source": [
    "# Nesta estrutura, não é necessário criar e definir um valor para uma variável antes da estrutura.\n",
    "\n",
    "# Na própri estrutura definimos o nome de uma variável que irá receber os valores do loop\n",
    "# Criamos uma estrutura que tem o início em 0, fim em 10 e o passo 1\n",
    "for var in range(0,10,1):\n",
    "    print(var)\n",
    "# Repare que o valor final não será executado"
   ]
  },
  {
   "cell_type": "markdown",
   "metadata": {},
   "source": [
    "A nossa variável var irá receber os valores de 0 até 10. A cada execução a var irá receber um novo valor e será executado o print do valor atribuído à var"
   ]
  },
  {
   "cell_type": "code",
   "execution_count": 16,
   "metadata": {},
   "outputs": [
    {
     "name": "stdout",
     "output_type": "stream",
     "text": [
      "0\n",
      "2\n",
      "4\n",
      "6\n",
      "8\n"
     ]
    }
   ],
   "source": [
    "# Criamos uma estrutura que tem o início em 0, fim em 10 e o passo 2\n",
    "for var in range(0,10,2):\n",
    "    print(var)\n",
    "# Repare que o valor final não será executado"
   ]
  },
  {
   "cell_type": "markdown",
   "metadata": {},
   "source": [
    "Agora com o passo definido para 2, a nossa var percorreu os valores de 0 até 9, mas andando de 2 em 2 posições.\n",
    "Na primeira execução a var foi 0, em seguida andou duas posições e foi 4, em seguida mais duas posições..."
   ]
  },
  {
   "cell_type": "code",
   "execution_count": 17,
   "metadata": {},
   "outputs": [
    {
     "name": "stdout",
     "output_type": "stream",
     "text": [
      "0\n",
      "3\n",
      "6\n",
      "9\n"
     ]
    }
   ],
   "source": [
    "# Criamos uma estrutura que tem o início em 0, fim em 10 e o passo 3\n",
    "for var in range(0,10,3):\n",
    "    print(var)"
   ]
  },
  {
   "cell_type": "markdown",
   "metadata": {},
   "source": [
    "Como informado anteriormente, o valor do passo não é obrigatório e, caso ele não seja definido, por padrão será adimitido o valor 1"
   ]
  },
  {
   "cell_type": "code",
   "execution_count": 18,
   "metadata": {},
   "outputs": [
    {
     "name": "stdout",
     "output_type": "stream",
     "text": [
      "1\n",
      "2\n",
      "3\n"
     ]
    }
   ],
   "source": [
    "# Criamos uma estrutura que tem o início em 1, fim em 4 e o passo 1 (não está definido, então por padrão é 1)\n",
    "for var in range(1,4):\n",
    "    print(var)"
   ]
  },
  {
   "cell_type": "code",
   "execution_count": 19,
   "metadata": {},
   "outputs": [
    {
     "name": "stdout",
     "output_type": "stream",
     "text": [
      "1\n",
      "2\n",
      "3\n"
     ]
    }
   ],
   "source": [
    "# Criamos uma estrutura que tem o início em 1, fim em 4 e o passo 1 \n",
    "for var in range(1,4,1):\n",
    "    print(var)"
   ]
  },
  {
   "cell_type": "code",
   "execution_count": 20,
   "metadata": {},
   "outputs": [
    {
     "name": "stdout",
     "output_type": "stream",
     "text": [
      "0\n",
      "1\n",
      "2\n",
      "3\n"
     ]
    }
   ],
   "source": [
    "# Criamos uma estrutura que tem o início em 0  (não está definido, então por padrão é 10, fim em 4 e o passo 1 (não está definido, então por padrão é 1)\n",
    "for var in range(4):\n",
    "    print(var)"
   ]
  },
  {
   "cell_type": "code",
   "execution_count": 21,
   "metadata": {},
   "outputs": [
    {
     "name": "stdout",
     "output_type": "stream",
     "text": [
      "0\n",
      "1\n",
      "2\n",
      "3\n"
     ]
    }
   ],
   "source": [
    "# Criamos uma estrutura que tem o início em 0, fim em 4 e o passo 1 (não está definido, então por padrão é 1)\n",
    "for var in range(0,4):\n",
    "    print(var)"
   ]
  },
  {
   "cell_type": "code",
   "execution_count": 22,
   "metadata": {},
   "outputs": [
    {
     "name": "stdout",
     "output_type": "stream",
     "text": [
      "0\n",
      "1\n",
      "2\n",
      "3\n",
      "4\n",
      "5\n",
      "6\n",
      "7\n",
      "8\n",
      "9\n"
     ]
    }
   ],
   "source": [
    "for var in range(10):\n",
    "    print(var)"
   ]
  },
  {
   "cell_type": "code",
   "execution_count": 23,
   "metadata": {},
   "outputs": [
    {
     "name": "stdout",
     "output_type": "stream",
     "text": [
      "0\n",
      "1\n",
      "2\n",
      "3\n"
     ]
    }
   ],
   "source": [
    "# Criamos uma estrutura que tem o início em 0, fim em 4 e o passo 1 \n",
    "for var in range(0,4,1):\n",
    "    print(var)"
   ]
  },
  {
   "cell_type": "markdown",
   "metadata": {},
   "source": [
    "Também mencionado anteriormente, o único valor obrigatório é o Final.\n",
    "\n",
    "Caso não seja definido o início, por padrão será zero e o passo 1"
   ]
  },
  {
   "cell_type": "markdown",
   "metadata": {},
   "source": [
    "# 2 - Exercícios"
   ]
  },
  {
   "cell_type": "markdown",
   "metadata": {},
   "source": [
    "1 - Faça um algoritmo para Imprimir a tabuada do número 5"
   ]
  },
  {
   "cell_type": "code",
   "execution_count": 24,
   "metadata": {},
   "outputs": [
    {
     "name": "stdout",
     "output_type": "stream",
     "text": [
      "5 x 0 = 0\n",
      "5 x 1 = 5\n",
      "5 x 2 = 10\n",
      "5 x 3 = 15\n",
      "5 x 4 = 20\n",
      "5 x 5 = 25\n",
      "5 x 6 = 30\n",
      "5 x 7 = 35\n",
      "5 x 8 = 40\n",
      "5 x 9 = 45\n",
      "5 x 10 = 50\n"
     ]
    }
   ],
   "source": [
    "# Desenvolva seu código aqui\n",
    "for var in range(0,11):\n",
    "    print(f'5 x {var} = {5 * var}')"
   ]
  },
  {
   "cell_type": "markdown",
   "metadata": {},
   "source": [
    "2 - Faça um algoritmo que leia um número inteiro e mostre o seu dobro na tela. O programa deve executar até o usuário digitar 0."
   ]
  },
  {
   "cell_type": "code",
   "execution_count": 26,
   "metadata": {},
   "outputs": [
    {
     "name": "stdout",
     "output_type": "stream",
     "text": [
      "Veja o dobro de algum numero(digite um numero): 3\n",
      "O dobro do seu numero é : 6 . Para finalizar digite 0 \n",
      "Veja o dobro de algum numero(digite um numero): 7\n",
      "O dobro do seu numero é : 14 . Para finalizar digite 0 \n",
      "Veja o dobro de algum numero(digite um numero): 0\n"
     ]
    }
   ],
   "source": [
    "# Desenvolva seu código aqui\n",
    "numero =int(input('Veja o dobro de algum numero(digite um numero): '))\n",
    "    \n",
    "while numero != 0 :\n",
    "    print(f'O dobro do seu numero é : {numero*2} . Para finalizar digite 0 ')\n",
    "    numero =int(input('Veja o dobro de algum numero(digite um numero): '))\n"
   ]
  },
  {
   "cell_type": "markdown",
   "metadata": {},
   "source": [
    "3 - Faça um algoritmo que some valores até o usuário digitar o valor 0 (usar a estrutura enquanto). "
   ]
  },
  {
   "cell_type": "code",
   "execution_count": 31,
   "metadata": {},
   "outputs": [
    {
     "name": "stdout",
     "output_type": "stream",
     "text": [
      "digite o primeiro numero da soma: 1\n",
      "digite o segundo numero da soma2\n",
      "A soma dos numeros é: 3. \n",
      " Para finalizar escreva 0\n",
      "digite o primeiro numero da soma: 1\n",
      "digite o segundo numero da soma2\n",
      "A soma dos numeros é: 3. \n",
      " Para finalizar escreva 0\n",
      "digite o primeiro numero da soma: 0\n"
     ]
    }
   ],
   "source": [
    "# Desenvolva seu código aqui\n",
    "primeiro = int(input('digite o primeiro numero da soma: '))\n",
    "segundo = int(input('digite o segundo numero da soma'))\n",
    "\n",
    "while (primeiro != 0 ) or (segundo != 0):\n",
    "    print(f'A soma dos numeros é: {primeiro+segundo}.', '\\n','Para finalizar escreva 0')\n",
    "    primeiro = int(input('digite o primeiro numero da soma: '))\n",
    "    if primeiro != 0:\n",
    "        segundo = int(input('digite o segundo numero da soma'))\n",
    "    else:\n",
    "        break"
   ]
  },
  {
   "cell_type": "markdown",
   "metadata": {},
   "source": [
    "4 – Escreva uma algoritmo que some 10 números. Esse algoritmo deverá perguntar ao usuário qual é o número e no final mostra o valor da soma."
   ]
  },
  {
   "cell_type": "code",
   "execution_count": 1,
   "metadata": {},
   "outputs": [
    {
     "name": "stdout",
     "output_type": "stream",
     "text": [
      "digite um numero para somar: 1\n",
      "digite um numero para somar com 1: 2\n",
      "A soma desses dois numeros é: 3\n",
      "digite um numero para somar com 3: 3\n",
      "A soma desses dois numeros é: 6\n",
      "digite um numero para somar com 6: 3\n",
      "A soma desses dois numeros é: 9\n",
      "digite um numero para somar com 9: 3\n",
      "A soma desses dois numeros é: 12\n",
      "digite um numero para somar com 12: 3\n",
      "A soma desses dois numeros é: 15\n",
      "digite um numero para somar com 15: 3\n",
      "A soma desses dois numeros é: 18\n",
      "digite um numero para somar com 18: 3\n",
      "A soma desses dois numeros é: 21\n",
      "digite um numero para somar com 21: 3\n",
      "A soma desses dois numeros é: 24\n",
      "digite um numero para somar com 24: 3\n",
      "A soma desses dois numeros é: 27\n",
      "digite um numero para somar com 27: 3\n",
      "A soma desses dois numeros é: 30\n"
     ]
    }
   ],
   "source": [
    "# Desenvolva seu código aqui\n",
    "numero = int(input('digite um numero para somar: '))\n",
    "\n",
    "for soma in range(0,10,1):\n",
    "    novo_numero = int(input(f'digite um numero para somar com {numero}: '))\n",
    "    numero = novo_numero + numero\n",
    "    print(f'A soma desses dois numeros é: {numero}')\n",
    "\n"
   ]
  },
  {
   "cell_type": "markdown",
   "metadata": {},
   "source": [
    "5 - Escreva um algoritmo que calcule a média dos números digitados pelo usuário, se eles forem pares. Termine a leitura se o usuário digitar zero (0)"
   ]
  },
  {
   "cell_type": "code",
   "execution_count": 16,
   "metadata": {},
   "outputs": [
    {
     "name": "stdout",
     "output_type": "stream",
     "text": [
      "Escreva um numero para inserir a uma lista e obter a media: .Para sair da operação digite 0. 1\n",
      "Escreva um numero para inserir a uma lista e obter a media: .Para sair da operação digite 0. 1\n",
      "Escreva um numero para inserir a uma lista e obter a media: .Para sair da operação digite 0. 1\n",
      "Escreva um numero para inserir a uma lista e obter a media: .Para sair da operação digite 0. 1\n",
      "Escreva um numero para inserir a uma lista e obter a media: .Para sair da operação digite 0. 1\n",
      "Escreva um numero para inserir a uma lista e obter a media: .Para sair da operação digite 0. 2\n",
      "Escreva um numero para inserir a uma lista e obter a media: .Para sair da operação digite 0. 2\n",
      "A media dos numeros da lista [2, 2] é : 2.0 \n",
      "Escreva um numero para inserir a uma lista e obter a media: .Para sair da operação digite 0. 3\n",
      "Escreva um numero para inserir a uma lista e obter a media: .Para sair da operação digite 0. 3\n",
      "Escreva um numero para inserir a uma lista e obter a media: .Para sair da operação digite 0. 3\n",
      "Escreva um numero para inserir a uma lista e obter a media: .Para sair da operação digite 0. 3\n",
      "Escreva um numero para inserir a uma lista e obter a media: .Para sair da operação digite 0. 4\n",
      "A media dos numeros da lista [2, 2, 4] é : 2.6666666666666665 \n",
      "Escreva um numero para inserir a uma lista e obter a media: .Para sair da operação digite 0. 5\n",
      "Escreva um numero para inserir a uma lista e obter a media: .Para sair da operação digite 0. 6\n",
      "A media dos numeros da lista [2, 2, 4, 6] é : 3.5 \n",
      "Escreva um numero para inserir a uma lista e obter a media: .Para sair da operação digite 0. 0\n"
     ]
    }
   ],
   "source": [
    "# Desenvolva seu código aqui\n",
    "lista = []\n",
    "numero = int(input('Escreva um numero para inserir a uma lista e obter a media: .Para sair da operação digite 0. '))\n",
    "while numero != 0: \n",
    "    if numero % 2 == 0:\n",
    "        lista.append(numero)\n",
    "        if len(lista) >= 2:\n",
    "            media = sum(lista)/len(lista)\n",
    "            print(f'A media dos numeros da lista {lista} é : {media} ')\n",
    "    numero = int(input('Escreva um numero para inserir a uma lista e obter a media: .Para sair da operação digite 0. '))       "
   ]
  },
  {
   "cell_type": "markdown",
   "metadata": {},
   "source": [
    "6 - Escreva um programa que lido um número, calcule e informe o seu fatorial. Ex.: 5! = 5 * 4 * 3 * 2 * 1 = 120."
   ]
  },
  {
   "cell_type": "code",
   "execution_count": 21,
   "metadata": {},
   "outputs": [
    {
     "name": "stdout",
     "output_type": "stream",
     "text": [
      "dogite um numero para calcular o fatorial(!) dele: 3\n",
      "O fatorial de 3! é : 6\n"
     ]
    }
   ],
   "source": [
    "# Desenvolva seu código aqui\n",
    "lista = []\n",
    "fator = 1\n",
    "numero =int(input('dogite um numero para calcular o fatorial(!) dele: '))\n",
    "if numero == 0:\n",
    "    print('O fatorial de 0 é 1')\n",
    "else:\n",
    "    while numero !=0:\n",
    "        lista.append(numero)\n",
    "        numero -= 1\n",
    "    for num in lista:\n",
    "        fator= fator * num\n",
    "    print(f'O fatorial de {lista[0]}! é : {fator}')\n",
    "    "
   ]
  },
  {
   "cell_type": "markdown",
   "metadata": {},
   "source": [
    "7 – Escreva um algoritmo que verifique e imprima os números pares contidos entre 1 e 100"
   ]
  },
  {
   "cell_type": "code",
   "execution_count": 27,
   "metadata": {},
   "outputs": [
    {
     "name": "stdout",
     "output_type": "stream",
     "text": [
      "2\n",
      "4\n",
      "6\n",
      "8\n",
      "10\n",
      "12\n",
      "14\n",
      "16\n",
      "18\n",
      "20\n",
      "22\n",
      "24\n",
      "26\n",
      "28\n",
      "30\n",
      "32\n",
      "34\n",
      "36\n",
      "38\n",
      "40\n",
      "42\n",
      "44\n",
      "46\n",
      "48\n",
      "50\n",
      "52\n",
      "54\n",
      "56\n",
      "58\n",
      "60\n",
      "62\n",
      "64\n",
      "66\n",
      "68\n",
      "70\n",
      "72\n",
      "74\n",
      "76\n",
      "78\n",
      "80\n",
      "82\n",
      "84\n",
      "86\n",
      "88\n",
      "90\n",
      "92\n",
      "94\n",
      "96\n",
      "98\n",
      "100\n"
     ]
    }
   ],
   "source": [
    "# Desenvolva seu código aqui\n",
    "for num in range(0,101,2):\n",
    "    if num != 0:\n",
    "        print(num)"
   ]
  },
  {
   "cell_type": "markdown",
   "metadata": {},
   "source": [
    "8 - Faça um programa que peça três notas, faça a média e, caso a média seja menor que 0 ou maior que 10, mostre uma mensagem informando valor inválido e continue pedindo as 3 notas e calculando a média até que o usuário informe valores que resultem uma média válida."
   ]
  },
  {
   "cell_type": "code",
   "execution_count": 7,
   "metadata": {},
   "outputs": [
    {
     "name": "stdout",
     "output_type": "stream",
     "text": [
      "Escreva sua primeira nota: 12\n",
      "Escreva sua segunda nota: 11\n",
      "Escreva sua terceira nota: 34\n",
      "19.0\n",
      "Os valores de nota são de 0~10. Algum dos valores a seguir estão errados: 12, 11, 34\n",
      "Escreva sua primeira nota: 2\n",
      "Escreva sua segunda nota: 3\n",
      "Escreva sua terceira nota: 4\n",
      "3.0\n",
      "Sua média é: 3.0\n"
     ]
    }
   ],
   "source": [
    "# Desenvolva seu código aqui\n",
    "while True:\n",
    "    primeira = int(input('Escreva sua primeira nota: '))\n",
    "    segunda =int(input('Escreva sua segunda nota: '))\n",
    "    terceira =int(input('Escreva sua terceira nota: '))\n",
    "\n",
    "    media = (primeira + segunda + terceira )/3\n",
    "    print(media)\n",
    "    if (media >= 0) and (media <= 10):\n",
    "        print(f'Sua média é: {media}')\n",
    "        break\n",
    "    else:\n",
    "        print(f'Os valores de nota são de 0~10. Algum dos valores a seguir estão errados: {primeira}, {segunda}, {terceira}')  "
   ]
  },
  {
   "cell_type": "markdown",
   "metadata": {},
   "source": [
    "9 - Faça um programa que leia um nome de usuário e a sua senha e não aceite a senha igual ao nome do usuário, mostrando uma mensagem de erro e voltando a pedir as informações."
   ]
  },
  {
   "cell_type": "code",
   "execution_count": 11,
   "metadata": {},
   "outputs": [
    {
     "name": "stdout",
     "output_type": "stream",
     "text": [
      "Digite seu primeiro nome: ana\n",
      "Escreva sua senha(que não seja seu nome):  ana\n",
      "Seu nome e senha são iguais: ana e ana. \n",
      " Digite seu nome e uma senha diferente:\n",
      "Digite seu primeiro nome: bigode\n",
      "Escreva sua senha(que não seja seu nome):  grosso\n",
      "Seu nome e senha é: bigode e senha: grosso\n"
     ]
    }
   ],
   "source": [
    "# Desenvolva seu código aqui\n",
    "while True:\n",
    "    nome = input('Digite seu primeiro nome: ')\n",
    "    senha = input('Escreva sua senha(que não seja seu nome):  ')\n",
    "    \n",
    "    if nome != senha:\n",
    "        print(f'Seu nome e senha é: {nome} e senha: {senha}')\n",
    "        break\n",
    "    else:\n",
    "        print(f'Seu nome e senha são iguais: {nome} e {senha}.','\\n','Digite seu nome e uma senha diferente:')\n"
   ]
  },
  {
   "cell_type": "markdown",
   "metadata": {},
   "source": [
    "10 - Faça um programa que leia e valide as seguintes informações:\n",
    "* Nome: maior que 3 caracteres;\n",
    "* Idade: entre 0 e 150;\n",
    "* Salário: maior que zero;\n",
    "* Sexo: 'f' ou 'm';\n",
    "* Estado Civil: 's', 'c', 'v', 'd';\n",
    "* Use a função len(string) para saber o tamanho de um texto (número de caracteres).\n",
    "\n",
    "Continue solicitando as informações até que todas as condições sejam satisfeitas.\n",
    "\n",
    "Dica: Utilize mais de uma estrutura while "
   ]
  },
  {
   "cell_type": "code",
   "execution_count": 43,
   "metadata": {},
   "outputs": [
    {
     "name": "stdout",
     "output_type": "stream",
     "text": [
      "Digite seu nome: alan\n",
      "Digite sua idade: 31\n",
      "Digite seu salario: 233\n",
      "Digite seu sexo(f ou m): m\n",
      "Digite seu estado civil. Sendo \"s\" para solteiro, \"c\" para casado, \"v\" para viuvo e \"d\" para divorciado d\n",
      "Seus dados são: Nome: alan, Idade: 31, Salario: 233.0, Sexo: m e Estd civil: d.\n"
     ]
    }
   ],
   "source": [
    "# Desenvolva seu código aqui\n",
    "nome = input('Digite seu nome: ')\n",
    "while len(nome) <= 3:\n",
    "    nome = input('Digite seu nome: ')\n",
    "\n",
    "idade = int(input('Digite sua idade: '))\n",
    "while (idade < 0) or (idade > 150):\n",
    "    idade = int(input('Digite sua idade: '))\n",
    "    \n",
    "salario = float(input('Digite seu salario: '))\n",
    "while salario < 0:\n",
    "    salario = float(input('Digite seu salario: '))\n",
    "\n",
    "sexo = input('Digite seu sexo(f ou m): ')\n",
    "while True:\n",
    "    if (sexo == 'f') or (sexo == 'm'):\n",
    "        break\n",
    "    else:\n",
    "        sexo = input('Digite seu sexo(f ou m): ')\n",
    "      \n",
    "estado_civ = input('Digite seu estado civil. Sendo \"s\" para solteiro, \"c\" para casado, \"v\" para viuvo e \"d\" para divorciado ')\n",
    "while True:\n",
    "    if (estado_civ == 's') or (estado_civ == 'c') or (estado_civ == 'v') or (estado_civ == 'd') :\n",
    "        break\n",
    "    else:\n",
    "        estado_civ = input('Digite seu estado civil. Sendo \"s\" para solteiro, \"c\" para casado, \"v\" para viuvo e \"d\" para divorciado ')\n",
    "\n",
    "print(f'Seus dados são: Nome: {nome}, Idade: {idade}, Salario: {salario}, Sexo: {sexo} e Estd civil: {estado_civ}.')"
   ]
  },
  {
   "cell_type": "markdown",
   "metadata": {},
   "source": [
    "11 - Faça um programa que imprima na tela apenas os números ímpares entre 1 e 50."
   ]
  },
  {
   "cell_type": "code",
   "execution_count": 19,
   "metadata": {},
   "outputs": [
    {
     "name": "stdout",
     "output_type": "stream",
     "text": [
      "1\n",
      "3\n",
      "5\n",
      "7\n",
      "9\n",
      "11\n",
      "13\n",
      "15\n",
      "17\n",
      "19\n",
      "21\n",
      "23\n",
      "25\n",
      "27\n",
      "29\n",
      "31\n",
      "33\n",
      "35\n",
      "37\n",
      "39\n",
      "41\n",
      "43\n",
      "45\n",
      "47\n",
      "49\n"
     ]
    }
   ],
   "source": [
    "for numero in range(1,51,1):\n",
    "    if numero %2 != 0:\n",
    "        print(numero)\n",
    "        "
   ]
  },
  {
   "cell_type": "markdown",
   "metadata": {},
   "source": [
    "12 - Faça um programa que receba dois números inteiros e exiba os números pares que estão no intervalo compreendido por eles."
   ]
  },
  {
   "cell_type": "code",
   "execution_count": 26,
   "metadata": {},
   "outputs": [
    {
     "name": "stdout",
     "output_type": "stream",
     "text": [
      "Digite um numero: 10\n",
      "Digite outro numero: 2\n",
      "Está é a sequencia de numeros pares entre os valores digitados: \n",
      "2\n",
      "4\n",
      "6\n",
      "8\n"
     ]
    }
   ],
   "source": [
    "# Desenvolva seu código aqui\n",
    "while True:\n",
    "    numero1 = int(input('Digite um numero: '))\n",
    "    numero2 = int(input('Digite outro numero: '))\n",
    "    print('Está é a sequencia de numeros pares entre os valores digitados: ')\n",
    "    if numero1 < numero2:\n",
    "        for numero in range(numero1,numero2):\n",
    "            if numero %2 == 0:\n",
    "                print(numero)\n",
    "        break\n",
    "    else:\n",
    "        for numero in range(numero2,numero1):\n",
    "            if numero %2 == 0:\n",
    "                print(numero)\n",
    "        break"
   ]
  },
  {
   "cell_type": "markdown",
   "metadata": {},
   "source": [
    "13 - Desenvolva um gerador de tabuada, capaz de gerar a tabuada de qualquer número inteiro entre 1 a 10. O usuário deve informar de qual numero ele deseja"
   ]
  },
  {
   "cell_type": "code",
   "execution_count": 32,
   "metadata": {},
   "outputs": [
    {
     "name": "stdout",
     "output_type": "stream",
     "text": [
      "Digite um numero para mostrar sua taboada de 1 a 10: 2\n",
      "2 X 1 = 2\n",
      "2 X 2 = 4\n",
      "2 X 3 = 6\n",
      "2 X 4 = 8\n",
      "2 X 5 = 10\n",
      "2 X 6 = 12\n",
      "2 X 7 = 14\n",
      "2 X 8 = 16\n",
      "2 X 9 = 18\n",
      "2 X 10 = 20\n"
     ]
    }
   ],
   "source": [
    "# Desenvolva seu código aqui\n",
    "multiplicador = int(input('Digite um numero para mostrar sua taboada de 1 a 10: '))\n",
    "\n",
    "for numero in range(1,11,1):\n",
    "    \n",
    "    multiplicacao = multiplicador * numero\n",
    "    print(f'{multiplicador} X {numero} = {multiplicacao}')\n",
    "\n"
   ]
  },
  {
   "cell_type": "markdown",
   "metadata": {},
   "source": [
    "14 - Faça um programa que peça 10 números inteiros, calcule e mostre a quantidade de números pares e a quantidade de números ímpares."
   ]
  },
  {
   "cell_type": "code",
   "execution_count": 4,
   "metadata": {},
   "outputs": [
    {
     "name": "stdout",
     "output_type": "stream",
     "text": [
      "Escreva o numero de posição 0: 1\n",
      "[1]\n",
      "Escreva o numero de posição 1: 2\n",
      "[1, 2]\n",
      "Escreva o numero de posição 2: 3\n",
      "[1, 2, 3]\n",
      "Escreva o numero de posição 3: 4\n",
      "[1, 2, 3, 4]\n",
      "Escreva o numero de posição 4: 5\n",
      "[1, 2, 3, 4, 5]\n",
      "Escreva o numero de posição 5: 6\n",
      "[1, 2, 3, 4, 5, 6]\n",
      "Escreva o numero de posição 6: 7\n",
      "[1, 2, 3, 4, 5, 6, 7]\n",
      "Escreva o numero de posição 7: 8\n",
      "[1, 2, 3, 4, 5, 6, 7, 8]\n",
      "Escreva o numero de posição 8: 9\n",
      "[1, 2, 3, 4, 5, 6, 7, 8, 9]\n",
      "Escreva o numero de posição 9: 10\n",
      "[1, 2, 3, 4, 5, 6, 7, 8, 9, 10]\n",
      "Sua lista de numeros apresenta 5 numeros pares e 5 numeros impares\n"
     ]
    }
   ],
   "source": [
    "# Desenvolva seu código aqui\n",
    "lista = []\n",
    "lista_par = []\n",
    "lista_impar = []\n",
    "for num in range(0,10,1):\n",
    "    numero = int(input(f'Escreva o numero de posição {num}: '))\n",
    "    lista.append(numero)\n",
    "    print(lista)\n",
    "for item in lista:\n",
    "    if item %2 == 0:\n",
    "        lista_par.append(item)\n",
    "        \n",
    "    else:\n",
    "        lista_impar.append(item)\n",
    "soma_par = len(lista_par)\n",
    "soma_impar = len(lista_impar)\n",
    "print(f'Sua lista de numeros apresenta {soma_par} numeros pares e {soma_impar} numeros impares')\n",
    "    "
   ]
  },
  {
   "cell_type": "markdown",
   "metadata": {},
   "source": [
    "15 - A sequência de Fibonacci é formada pela sequência 1,1,2,3,5,8,13,21,34,55,... Faça um programa capaz de gerar a série até 500.\n",
    "OBS: Na sequência de Fibonacci, o próximo número é sempre a soma dos dois números anteriores\n",
    "\n",
    "1 + 0 = 1\n",
    "\n",
    "1 + 1 = 2\n",
    "\n",
    "2 + 1 = 3\n",
    "\n",
    "3 + 2 = 5\n",
    "\n",
    "5 + 3 = 8\n"
   ]
  },
  {
   "cell_type": "code",
   "execution_count": 15,
   "metadata": {},
   "outputs": [
    {
     "name": "stdout",
     "output_type": "stream",
     "text": [
      "1\n",
      "2\n",
      "3\n",
      "5\n",
      "8\n",
      "13\n",
      "21\n",
      "34\n",
      "55\n",
      "89\n",
      "144\n",
      "233\n",
      "377\n",
      "610\n"
     ]
    }
   ],
   "source": [
    "# Desenvolva seu código aqui\n",
    "item_ant = 0\n",
    "item = 1\n",
    "for num in range(0,100,1):   \n",
    "    soma = item_ant + item \n",
    "    item_ant = item\n",
    "    item = soma\n",
    "    print(item)\n",
    "    if item >= 500:\n",
    "        break\n",
    "    "
   ]
  },
  {
   "cell_type": "markdown",
   "metadata": {},
   "source": [
    "16 - Faça um programa que solicite ao usuário a quantidade de notas que ele deseja calcular a média, em seguida solicite a quantidade de notas digitadas e calcule a média."
   ]
  },
  {
   "cell_type": "code",
   "execution_count": 39,
   "metadata": {},
   "outputs": [
    {
     "name": "stdout",
     "output_type": "stream",
     "text": [
      "Digite a quantidade de notas a serem incluidas na media: 5\n",
      "0\n",
      "digite sua nota: 3\n",
      "[3]\n",
      "1\n",
      "digite sua nota: 3\n",
      "[3, 3]\n",
      "2\n",
      "digite sua nota: 4\n",
      "[3, 3, 4]\n",
      "3\n",
      "digite sua nota: 3\n",
      "[3, 3, 4, 3]\n",
      "4\n",
      "digite sua nota: 5\n",
      "[3, 3, 4, 3, 5]\n",
      "A media é:3.6 \n"
     ]
    }
   ],
   "source": [
    "# Desenvolva seu código aqui\n",
    "lista = []\n",
    "quantidade = int(input('Digite a quantidade de notas a serem incluidas na media: '))\n",
    " \n",
    "for numero in range(0,quantidade,1):\n",
    "    print(numero)\n",
    "    nota = int(input('digite sua nota: '))\n",
    "    lista.append(nota)\n",
    "    print(lista)\n",
    "media = sum(lista)/quantidade\n",
    "print(f'A media é:{media} ')"
   ]
  },
  {
   "cell_type": "markdown",
   "metadata": {},
   "source": [
    "17 - Numa eleição existem três candidatos. Faça um programa que peça o número total de eleitores. Peça para cada eleitor votar e ao final mostrar o número de votos de cada candidato."
   ]
  },
  {
   "cell_type": "code",
   "execution_count": 55,
   "metadata": {},
   "outputs": [
    {
     "name": "stdout",
     "output_type": "stream",
     "text": [
      "Digite o numero de eleitores:5\n",
      "Digite o numero de seu candidato:\n",
      " [1] Zé pouca Telha | [2] Macaco Tião | [3] Shaolin Matador de porco 1\n",
      "Digite o numero de seu candidato:\n",
      " [1] Zé pouca Telha | [2] Macaco Tião | [3] Shaolin Matador de porco 2\n",
      "Digite o numero de seu candidato:\n",
      " [1] Zé pouca Telha | [2] Macaco Tião | [3] Shaolin Matador de porco 2\n",
      "Digite o numero de seu candidato:\n",
      " [1] Zé pouca Telha | [2] Macaco Tião | [3] Shaolin Matador de porco 2\n",
      "Digite o numero de seu candidato:\n",
      " [1] Zé pouca Telha | [2] Macaco Tião | [3] Shaolin Matador de porco 2\n",
      "Em nossa eleição 5 votaram e a relação de votos foi:\n",
      " Zé pouca Telha: 1 votos | Macaco Tião: 4 votos | Shaolin Matador de porco 0 votos \n"
     ]
    }
   ],
   "source": [
    "# Desenvolva seu código aqui\n",
    "ze=0\n",
    "macaco=0\n",
    "sha=0\n",
    "eleitor = int(input(\"Digite o numero de eleitores:\"))\n",
    "#eleitor +=1\n",
    "for num in range(1,(eleitor+1),1):\n",
    "    voto = int(input('Digite o numero de seu candidato:\\n [1] Zé pouca Telha | [2] Macaco Tião | [3] Shaolin Matador de porco '))\n",
    "    if voto == 1:\n",
    "        ze += 1\n",
    "    elif voto == 2:\n",
    "        macaco += 1\n",
    "    else:\n",
    "        sha += 1\n",
    "print(f'Em nossa eleição {eleitor} votaram e a relação de votos foi:\\n Zé pouca Telha: {ze} votos | Macaco Tião: {macaco} votos | Shaolin Matador de porco {sha} votos ')"
   ]
  },
  {
   "cell_type": "markdown",
   "metadata": {},
   "source": [
    "18 - Faça um programa que solicite a quantidade de turmas de ADS, em seguida solicite quantoas alunos cada turma possui e calcule a quantidade média de alunos por turma."
   ]
  },
  {
   "cell_type": "code",
   "execution_count": 56,
   "metadata": {},
   "outputs": [
    {
     "name": "stdout",
     "output_type": "stream",
     "text": [
      "Quantas turmas de ADS tem ? 5\n",
      "Quantos alunos tem na turma 0 de ADS: 20\n",
      "Quantos alunos tem na turma 1 de ADS: 50\n",
      "Quantos alunos tem na turma 2 de ADS: 20\n",
      "Quantos alunos tem na turma 3 de ADS: 40\n",
      "Quantos alunos tem na turma 4 de ADS: 30\n",
      "Quantos alunos tem na turma 5 de ADS: 20\n",
      "A media de alunos por turma de ADS é : 36.0\n"
     ]
    }
   ],
   "source": [
    "# Desenvolva seu código aqui\n",
    "lista = []\n",
    "qtd_turma = int(input('Quantas turmas de ADS tem ? '))\n",
    "for turma in range(0,(qtd_turma+1),1):\n",
    "    qtd_aluno = int(input(f'Quantos alunos tem na turma {turma} de ADS: '))\n",
    "    lista.append(qtd_aluno)\n",
    "media_aluno = sum(lista)/qtd_turma\n",
    "print(f'A media de alunos por turma de ADS é : {media_aluno}')"
   ]
  },
  {
   "cell_type": "markdown",
   "metadata": {},
   "source": [
    "19 - Faça um programa que calcule o valor total investido por um colecionador em sua coleção de CDs e o valor médio gasto em cada um deles. O usuário deverá informar a quantidade de CDs e o valor para em cada um."
   ]
  },
  {
   "cell_type": "code",
   "execution_count": 58,
   "metadata": {},
   "outputs": [
    {
     "name": "stdout",
     "output_type": "stream",
     "text": [
      "Quantos CDs você tem ? 5\n",
      "Qual foi o valor do CD numero 1: 5\n",
      "Qual foi o valor do CD numero 2: 5\n",
      "Qual foi o valor do CD numero 3: 5\n",
      "Qual foi o valor do CD numero 4: 5\n",
      "Qual foi o valor do CD numero 5: 5\n",
      "Você tem um total de 5, que te custaram um total de 25.0. Os quais vc pagou em media 5.0 por CD\n"
     ]
    }
   ],
   "source": [
    "# Desenvolva seu código aqui\n",
    "lista = []\n",
    "qtd_cd = int(input('Quantos CDs você tem ? '))\n",
    "for cd in range(1,(qtd_cd+1),1):\n",
    "    valor = float(input(f'Qual foi o valor do CD numero {cd}: '))\n",
    "    lista.append(valor)\n",
    "total_cd = sum(lista)\n",
    "media_por_cd = sum(lista)/qtd_cd\n",
    "print(f'Você tem um total de {qtd_cd}, que te custaram um total de {total_cd}. Os quais vc pagou em media {media_por_cd} por CD')"
   ]
  },
  {
   "cell_type": "markdown",
   "metadata": {},
   "source": [
    "20 - Uma loja onde todos os produtos são R$1,99 te contratou para criar um programa que solicite quantos itens o cliente esta levando e retorne o valor total da compra. O programa deve permanecer em execução até que seja digitado 0."
   ]
  },
  {
   "cell_type": "code",
   "execution_count": 59,
   "metadata": {},
   "outputs": [
    {
     "name": "stdout",
     "output_type": "stream",
     "text": [
      "Quantos produtos vai comprar? 4\n",
      "Valor Total da compra: 7.96 \n",
      "---------------Proxima Compra---------------\n",
      "Quantos produtos vai comprar? 0\n"
     ]
    }
   ],
   "source": [
    "# Desenvolva seu código aqui\n",
    "qtd_produto = int(input('Quantos produtos vai comprar? '))\n",
    "while qtd_produto != 0 :\n",
    "    valor_total = qtd_produto * 1.99\n",
    "    print(f'Valor Total da compra: {valor_total} ')\n",
    "    print('---------------Proxima Compra---------------')\n",
    "    qtd_produto = int(input('Quantos produtos vai comprar? '))\n",
    "    \n"
   ]
  }
 ],
 "metadata": {
  "kernelspec": {
   "display_name": "Python 3 (ipykernel)",
   "language": "python",
   "name": "python3"
  },
  "language_info": {
   "codemirror_mode": {
    "name": "ipython",
    "version": 3
   },
   "file_extension": ".py",
   "mimetype": "text/x-python",
   "name": "python",
   "nbconvert_exporter": "python",
   "pygments_lexer": "ipython3",
   "version": "3.9.13"
  },
  "vscode": {
   "interpreter": {
    "hash": "f43ba6cefd8f24580ff42e8af3aabb69fa421e7aad4e479f4a62a25e10b01fe1"
   }
  }
 },
 "nbformat": 4,
 "nbformat_minor": 2
}
