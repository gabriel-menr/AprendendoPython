{
 "cells": [
  {
   "cell_type": "markdown",
   "metadata": {},
   "source": [
    "# 1 - Listas\n",
    "\n",
    "Anteriormente, ao discutir as strings, introduzimos o conceito de uma **sequência** em Python. As listas podem ser pensadas na versão mais geral de uma **sequência** no Python. Diferentemente das strings, elas são mutáveis, o que significa que os elementos dentro de uma lista podem ser alterados!\n",
    "\n",
    "Nesta seção, aprenderemos sobre:\n",
    "\n",
    "    1.) Criando listas\n",
    "    2.) Listas de indexação e corte\n",
    "\n",
    "    \n",
    "\n",
    "As listas são construídas com colchetes [] e vírgulas separam todos os elementos da lista.\n",
    "\n",
    "Assim como em outras variáveis, os valores textuais que colocamos na lista devem estar entre asapas e os valores numéricos não \n",
    "\n",
    "Vamos em frente e ver como podemos construir listas!\n",
    "\n",
    "Documentação https://docs.python.org/3/tutorial/introduction.html#lists"
   ]
  },
  {
   "cell_type": "code",
   "execution_count": 1,
   "metadata": {},
   "outputs": [],
   "source": [
    "# Atribua uma lista a uma variável chamada lista_1\n",
    "lista_1 = [0,1,2,3,4,5,6]"
   ]
  },
  {
   "cell_type": "code",
   "execution_count": 2,
   "metadata": {},
   "outputs": [
    {
     "name": "stdout",
     "output_type": "stream",
     "text": [
      "[0, 1, 2, 3, 4, 5, 6]\n"
     ]
    }
   ],
   "source": [
    "# Exibir a lista\n",
    "print(lista_1)\n"
   ]
  },
  {
   "cell_type": "code",
   "execution_count": 3,
   "metadata": {},
   "outputs": [
    {
     "data": {
      "text/plain": [
       "0"
      ]
     },
     "execution_count": 3,
     "metadata": {},
     "output_type": "execute_result"
    }
   ],
   "source": [
    "# Exibir o item na posição 0 da lista\n",
    "lista_1[0]"
   ]
  },
  {
   "cell_type": "code",
   "execution_count": 4,
   "metadata": {},
   "outputs": [
    {
     "data": {
      "text/plain": [
       "1"
      ]
     },
     "execution_count": 4,
     "metadata": {},
     "output_type": "execute_result"
    }
   ],
   "source": [
    "# Exibir o item na posição 1 da lista\n",
    "lista_1[1]"
   ]
  },
  {
   "cell_type": "code",
   "execution_count": 5,
   "metadata": {},
   "outputs": [
    {
     "data": {
      "text/plain": [
       "[1, 2, 3, 4]"
      ]
     },
     "execution_count": 5,
     "metadata": {},
     "output_type": "execute_result"
    }
   ],
   "source": [
    "# Exibir os itens das posições 1 até a 5\n",
    "lista_1[1:5]"
   ]
  },
  {
   "cell_type": "markdown",
   "metadata": {},
   "source": [
    "As listas podem conter elementos de diferentes tipos de dados"
   ]
  },
  {
   "cell_type": "code",
   "execution_count": 6,
   "metadata": {},
   "outputs": [
    {
     "name": "stdout",
     "output_type": "stream",
     "text": [
      "['a', 10, 'casa', 'carro', 22.6]\n"
     ]
    }
   ],
   "source": [
    "# Repare que elementos textuais ficam dentro de aspas e os valores numéricos não\n",
    "lista_2 = ['a', 10, 'casa', 'carro', 22.6]\n",
    "print(lista_2)"
   ]
  },
  {
   "cell_type": "code",
   "execution_count": 7,
   "metadata": {},
   "outputs": [
    {
     "name": "stdout",
     "output_type": "stream",
     "text": [
      "a\n",
      "10\n",
      "casa\n"
     ]
    }
   ],
   "source": [
    "print(lista_2[0])\n",
    "print(lista_2[1])\n",
    "print(lista_2[2])"
   ]
  },
  {
   "cell_type": "markdown",
   "metadata": {},
   "source": [
    "# 2 - For com listas\n",
    "\n",
    "O loop de repetição for também podeser utilizado para percorrer listas.\n",
    "\n",
    "Anteriormente aprendemos que no for, definimos que a nossa variável percorre os valores de um valor de início ató um valor final com a função range() \n",
    "* EX: `for variavel in range(1,5,1)` A variável irá percorrer os valores 1,2,3 e 4\n",
    "\n",
    "Agora iremos aprender como usar o loop for para percorrer os elementos dentro da lista"
   ]
  },
  {
   "cell_type": "code",
   "execution_count": 8,
   "metadata": {},
   "outputs": [
    {
     "name": "stdout",
     "output_type": "stream",
     "text": [
      "0\n",
      "1\n",
      "2\n",
      "3\n",
      "4\n",
      "5\n",
      "6\n",
      "7\n",
      "8\n",
      "9\n",
      "10\n",
      "11\n",
      "12\n",
      "13\n",
      "14\n",
      "15\n",
      "16\n",
      "17\n",
      "18\n",
      "19\n"
     ]
    }
   ],
   "source": [
    "for variavel in range(20):\n",
    "    print(variavel)\n"
   ]
  },
  {
   "cell_type": "code",
   "execution_count": 9,
   "metadata": {},
   "outputs": [
    {
     "name": "stdout",
     "output_type": "stream",
     "text": [
      "1\n",
      "2\n",
      "3\n",
      "4\n",
      "5\n",
      "6\n"
     ]
    }
   ],
   "source": [
    "# Criar uma lista de números\n",
    "lista = [1,2,3,4,5,6]\n",
    "\n",
    "# Cria uma variável num que irá percorrer os elementos da lista por meio do loop for\n",
    "for num in lista:\n",
    "    # Exibe o valor da variável num\n",
    "    print(num)"
   ]
  },
  {
   "cell_type": "code",
   "execution_count": 11,
   "metadata": {},
   "outputs": [
    {
     "name": "stdout",
     "output_type": "stream",
     "text": [
      "A soma dos elementos da lista é 21\n"
     ]
    }
   ],
   "source": [
    "# Exemplo para somar todos os valores da lista\n",
    "\n",
    "# Criar uma lista de números\n",
    "lista = [1,2,3,4,5,6]\n",
    "\n",
    "\n",
    "# Cria uma variável que irá receber a soma dos elementos\n",
    "soma = 0\n",
    "\n",
    "# Cria uma variável num que irá percorrer os elementos da lista por meio do loop for\n",
    "for num in lista:\n",
    "    # A variável soma recebe o valor dela acrescido do valor da lista que num esta percorrendo\n",
    "    soma += num \n",
    "\n",
    "# Exibe o valor total da soma dos elementos da lista\n",
    "print(f'A soma dos elementos da lista é {soma}')"
   ]
  },
  {
   "cell_type": "markdown",
   "metadata": {},
   "source": [
    "Ótimo! Espero que isso faça sentido. Agora vamos adicionar uma instrução <code>if</code> para exibir somente números pares. \n",
    "#\n",
    "O resto da divisão `mod`, representado por `%` nos permite obter o restante em uma divisão, no caso de o resto de uma divisão por 2 ser 0, o número é par."
   ]
  },
  {
   "cell_type": "code",
   "execution_count": 12,
   "metadata": {},
   "outputs": [
    {
     "name": "stdout",
     "output_type": "stream",
     "text": [
      "2\n",
      "4\n",
      "6\n"
     ]
    }
   ],
   "source": [
    "# Criar uma lista de números\n",
    "lista = [1,2,3,4,5,6]\n",
    "\n",
    "# Cria-se uma variável num que irá percorrer os elementos da lista\n",
    "for num in lista:\n",
    "    # Verifica se o resto da divisão de num por 2 é igual a 0\n",
    "    if num % 2 == 0:\n",
    "        print(num)"
   ]
  },
  {
   "cell_type": "code",
   "execution_count": 13,
   "metadata": {},
   "outputs": [
    {
     "name": "stdout",
     "output_type": "stream",
     "text": [
      "1\n",
      "3\n",
      "5\n"
     ]
    }
   ],
   "source": [
    "#Para imprimir os ímpares\n",
    "for num in lista:\n",
    "    # Verifica se o resto da divisão de num por 2 é diferente de 0\n",
    "    if num % 2 != 0:\n",
    "        print(num)"
   ]
  },
  {
   "cell_type": "markdown",
   "metadata": {},
   "source": [
    "Também podemos colocar uma declaração <code>else</code> no loop, para exibir os números pares e um texto para os números ímpares"
   ]
  },
  {
   "cell_type": "code",
   "execution_count": 14,
   "metadata": {},
   "outputs": [
    {
     "name": "stdout",
     "output_type": "stream",
     "text": [
      "Número ímpar\n",
      "2\n",
      "Número ímpar\n",
      "4\n",
      "Número ímpar\n",
      "6\n"
     ]
    }
   ],
   "source": [
    "# Criar uma lista de números\n",
    "lista = [1,2,3,4,5,6]\n",
    "\n",
    "for num in lista:\n",
    "    if num % 2 == 0:\n",
    "        print(num)\n",
    "    else:\n",
    "        print('Número ímpar')"
   ]
  },
  {
   "cell_type": "markdown",
   "metadata": {},
   "source": [
    "# Exercícios\n",
    "Agora que vimos o conceito de listas e como as utilizar com o loop for, realize as atividades a seguiur.\n",
    "\n",
    "Quem terminar tudo durante a aula de hoje irá ganhar ponto extra, bem como quem resolver corretamente e explicar o exercício no quadro (Pontos extras podem ser acumulados) "
   ]
  },
  {
   "cell_type": "markdown",
   "metadata": {},
   "source": [
    "### 1 - Escreva um programa que exiba todos os números entre 5 e 100 que são divisíveis por 7, mas não são múltipos de 5."
   ]
  },
  {
   "cell_type": "code",
   "execution_count": 1,
   "metadata": {},
   "outputs": [
    {
     "name": "stdout",
     "output_type": "stream",
     "text": [
      "7\n",
      "14\n",
      "21\n",
      "28\n",
      "42\n",
      "49\n",
      "56\n",
      "63\n",
      "77\n",
      "84\n",
      "91\n",
      "98\n"
     ]
    }
   ],
   "source": [
    "# Desenvolva seu código aqui\n",
    "for num in range(5,100):\n",
    "    if num %5 != 0 and num %7 == 0:\n",
    "        print(num)"
   ]
  },
  {
   "cell_type": "markdown",
   "metadata": {},
   "source": [
    "### 2 - Faça um algorítmo que utilize o loop for para percorrer a lista e somar todos os valores presentes na lista\n",
    "\n",
    "lista = [10, 20, 30, 40, 50]"
   ]
  },
  {
   "cell_type": "code",
   "execution_count": 2,
   "metadata": {},
   "outputs": [
    {
     "name": "stdout",
     "output_type": "stream",
     "text": [
      "10\n",
      "30\n",
      "60\n",
      "100\n",
      "150\n"
     ]
    }
   ],
   "source": [
    "lista = [10, 20, 30, 40, 50]\n",
    "soma = 0\n",
    "# Desenvolva seu código aqui\n",
    "for valor in lista:\n",
    "    soma += valor \n",
    "    print(soma)\n"
   ]
  },
  {
   "cell_type": "markdown",
   "metadata": {},
   "source": [
    "### 3 - Dada a lista lista_de_nomes=[\"Pedro\", \"Luiza\", \"Eduardo\", \"Milena\", \"Janaina\", \"Fábio\", \"Abguail\"] e usando a estrutura de “loop”, crie e execute um programa em python que imprima a seguinte saída:\n",
    "\n",
    "Boa noite, Pedro!\n",
    "\n",
    "Boa noite, Luiza!\n",
    "\n",
    "Boa noite, Eduardo!\n",
    "\n",
    "Boa noite, Milena!\n",
    "\n",
    "Boa noite, Janaina!\n",
    "\n",
    "Boa noite, Fábio!\n",
    "\n",
    "Boa noite, Abguail!\n"
   ]
  },
  {
   "cell_type": "code",
   "execution_count": 3,
   "metadata": {},
   "outputs": [
    {
     "name": "stdout",
     "output_type": "stream",
     "text": [
      "Boa Noite, Pedro!\n",
      "Boa Noite, Luiza!\n",
      "Boa Noite, Eduardo!\n",
      "Boa Noite, Milena!\n",
      "Boa Noite, Janaina!\n",
      "Boa Noite, Fábio!\n",
      "Boa Noite, Abguail!\n"
     ]
    }
   ],
   "source": [
    "lista_de_nomes=[\"Pedro\", \"Luiza\", \"Eduardo\", \"Milena\", \"Janaina\", \"Fábio\", \"Abguail\"]\n",
    "# Desenvolva seu código aqui\n",
    "for nome in lista_de_nomes:\n",
    "    print(f'Boa Noite, {nome}!')"
   ]
  },
  {
   "cell_type": "markdown",
   "metadata": {},
   "source": [
    "### 4 - Usando as estruturas de “loop” e condicional, crie e execute um programa que imprima os números divisíveis por 7 e por 5 entre 1 e 200. "
   ]
  },
  {
   "cell_type": "code",
   "execution_count": 5,
   "metadata": {},
   "outputs": [
    {
     "name": "stdout",
     "output_type": "stream",
     "text": [
      "5\n",
      "7\n",
      "10\n",
      "14\n",
      "15\n",
      "20\n",
      "21\n",
      "25\n",
      "28\n",
      "30\n",
      "35\n",
      "40\n",
      "42\n",
      "45\n",
      "49\n",
      "50\n",
      "55\n",
      "56\n",
      "60\n",
      "63\n",
      "65\n",
      "70\n",
      "75\n",
      "77\n",
      "80\n",
      "84\n",
      "85\n",
      "90\n",
      "91\n",
      "95\n",
      "98\n",
      "100\n",
      "105\n",
      "110\n",
      "112\n",
      "115\n",
      "119\n",
      "120\n",
      "125\n",
      "126\n",
      "130\n",
      "133\n",
      "135\n",
      "140\n",
      "145\n",
      "147\n",
      "150\n",
      "154\n",
      "155\n",
      "160\n",
      "161\n",
      "165\n",
      "168\n",
      "170\n",
      "175\n",
      "180\n",
      "182\n",
      "185\n",
      "189\n",
      "190\n",
      "195\n",
      "196\n"
     ]
    }
   ],
   "source": [
    "# Desenvolva seu código aqui\n",
    "for num in range(1,200):\n",
    "    if num %5 == 0 or num %7 == 0:\n",
    "        print(num)"
   ]
  },
  {
   "cell_type": "markdown",
   "metadata": {},
   "source": [
    "### 5 - Usando a estrutura de `while`, crie e execute um programa em que imprima como resultado valores de um contador, em incrementos (passo) de 3, no intervalo entre 0 e 15. "
   ]
  },
  {
   "cell_type": "code",
   "execution_count": 12,
   "metadata": {},
   "outputs": [
    {
     "name": "stdout",
     "output_type": "stream",
     "text": [
      "[0, 3, 6, 9, 12, 15]\n"
     ]
    }
   ],
   "source": [
    "# Desenvolva seu código aqui\n",
    "lista = []\n",
    "num = 0\n",
    "while num <= 15:\n",
    "    lista.append(num)\n",
    "    num += 3\n",
    "print(lista)"
   ]
  },
  {
   "cell_type": "markdown",
   "metadata": {},
   "source": [
    "### 6 - Faça um programa que peça três notas, faça a média e, caso a média seja menor que 0 ou maior que 10, mostre uma mensagem informando valor inválido e continue pedindo as 3 notas e calculando a média até que o usuário informe valores que resultem uma média válida."
   ]
  },
  {
   "cell_type": "code",
   "execution_count": 16,
   "metadata": {},
   "outputs": [
    {
     "name": "stdout",
     "output_type": "stream",
     "text": [
      "Digite a primeira nota: -17\n",
      "Digite a segunda nota: -19\n",
      "Digite a terceira nota: 80\n",
      "Alguma nota apresenta um valor menor que 0 ou maior que 10: 1: -17,2: -19,3: 80 . \n"
     ]
    },
    {
     "ename": "KeyboardInterrupt",
     "evalue": "Interrupted by user",
     "output_type": "error",
     "traceback": [
      "\u001b[1;31m---------------------------------------------------------------------------\u001b[0m",
      "\u001b[1;31mKeyboardInterrupt\u001b[0m                         Traceback (most recent call last)",
      "\u001b[1;32m~\\AppData\\Local\\Temp\\ipykernel_18088\\1874464192.py\u001b[0m in \u001b[0;36m<module>\u001b[1;34m\u001b[0m\n\u001b[0;32m      1\u001b[0m \u001b[1;31m# Desenvolva seu código aqui\u001b[0m\u001b[1;33m\u001b[0m\u001b[1;33m\u001b[0m\u001b[0m\n\u001b[0;32m      2\u001b[0m \u001b[1;32mwhile\u001b[0m \u001b[1;32mTrue\u001b[0m\u001b[1;33m:\u001b[0m\u001b[1;33m\u001b[0m\u001b[1;33m\u001b[0m\u001b[0m\n\u001b[1;32m----> 3\u001b[1;33m     \u001b[0mnota1\u001b[0m \u001b[1;33m=\u001b[0m \u001b[0mint\u001b[0m\u001b[1;33m(\u001b[0m\u001b[0minput\u001b[0m\u001b[1;33m(\u001b[0m\u001b[1;34m'Digite a primeira nota: '\u001b[0m\u001b[1;33m)\u001b[0m\u001b[1;33m)\u001b[0m\u001b[1;33m\u001b[0m\u001b[1;33m\u001b[0m\u001b[0m\n\u001b[0m\u001b[0;32m      4\u001b[0m     \u001b[0mnota2\u001b[0m \u001b[1;33m=\u001b[0m \u001b[0mint\u001b[0m\u001b[1;33m(\u001b[0m\u001b[0minput\u001b[0m\u001b[1;33m(\u001b[0m\u001b[1;34m'Digite a segunda nota: '\u001b[0m\u001b[1;33m)\u001b[0m\u001b[1;33m)\u001b[0m\u001b[1;33m\u001b[0m\u001b[1;33m\u001b[0m\u001b[0m\n\u001b[0;32m      5\u001b[0m     \u001b[0mnota3\u001b[0m \u001b[1;33m=\u001b[0m \u001b[0mint\u001b[0m\u001b[1;33m(\u001b[0m\u001b[0minput\u001b[0m\u001b[1;33m(\u001b[0m\u001b[1;34m'Digite a terceira nota: '\u001b[0m\u001b[1;33m)\u001b[0m\u001b[1;33m)\u001b[0m\u001b[1;33m\u001b[0m\u001b[1;33m\u001b[0m\u001b[0m\n",
      "\u001b[1;32m~\\anaconda3\\lib\\site-packages\\ipykernel\\kernelbase.py\u001b[0m in \u001b[0;36mraw_input\u001b[1;34m(self, prompt)\u001b[0m\n\u001b[0;32m   1175\u001b[0m                 \u001b[1;34m\"raw_input was called, but this frontend does not support input requests.\"\u001b[0m\u001b[1;33m\u001b[0m\u001b[1;33m\u001b[0m\u001b[0m\n\u001b[0;32m   1176\u001b[0m             )\n\u001b[1;32m-> 1177\u001b[1;33m         return self._input_request(\n\u001b[0m\u001b[0;32m   1178\u001b[0m             \u001b[0mstr\u001b[0m\u001b[1;33m(\u001b[0m\u001b[0mprompt\u001b[0m\u001b[1;33m)\u001b[0m\u001b[1;33m,\u001b[0m\u001b[1;33m\u001b[0m\u001b[1;33m\u001b[0m\u001b[0m\n\u001b[0;32m   1179\u001b[0m             \u001b[0mself\u001b[0m\u001b[1;33m.\u001b[0m\u001b[0m_parent_ident\u001b[0m\u001b[1;33m[\u001b[0m\u001b[1;34m\"shell\"\u001b[0m\u001b[1;33m]\u001b[0m\u001b[1;33m,\u001b[0m\u001b[1;33m\u001b[0m\u001b[1;33m\u001b[0m\u001b[0m\n",
      "\u001b[1;32m~\\anaconda3\\lib\\site-packages\\ipykernel\\kernelbase.py\u001b[0m in \u001b[0;36m_input_request\u001b[1;34m(self, prompt, ident, parent, password)\u001b[0m\n\u001b[0;32m   1217\u001b[0m             \u001b[1;32mexcept\u001b[0m \u001b[0mKeyboardInterrupt\u001b[0m\u001b[1;33m:\u001b[0m\u001b[1;33m\u001b[0m\u001b[1;33m\u001b[0m\u001b[0m\n\u001b[0;32m   1218\u001b[0m                 \u001b[1;31m# re-raise KeyboardInterrupt, to truncate traceback\u001b[0m\u001b[1;33m\u001b[0m\u001b[1;33m\u001b[0m\u001b[0m\n\u001b[1;32m-> 1219\u001b[1;33m                 \u001b[1;32mraise\u001b[0m \u001b[0mKeyboardInterrupt\u001b[0m\u001b[1;33m(\u001b[0m\u001b[1;34m\"Interrupted by user\"\u001b[0m\u001b[1;33m)\u001b[0m \u001b[1;32mfrom\u001b[0m \u001b[1;32mNone\u001b[0m\u001b[1;33m\u001b[0m\u001b[1;33m\u001b[0m\u001b[0m\n\u001b[0m\u001b[0;32m   1220\u001b[0m             \u001b[1;32mexcept\u001b[0m \u001b[0mException\u001b[0m\u001b[1;33m:\u001b[0m\u001b[1;33m\u001b[0m\u001b[1;33m\u001b[0m\u001b[0m\n\u001b[0;32m   1221\u001b[0m                 \u001b[0mself\u001b[0m\u001b[1;33m.\u001b[0m\u001b[0mlog\u001b[0m\u001b[1;33m.\u001b[0m\u001b[0mwarning\u001b[0m\u001b[1;33m(\u001b[0m\u001b[1;34m\"Invalid Message:\"\u001b[0m\u001b[1;33m,\u001b[0m \u001b[0mexc_info\u001b[0m\u001b[1;33m=\u001b[0m\u001b[1;32mTrue\u001b[0m\u001b[1;33m)\u001b[0m\u001b[1;33m\u001b[0m\u001b[1;33m\u001b[0m\u001b[0m\n",
      "\u001b[1;31mKeyboardInterrupt\u001b[0m: Interrupted by user"
     ]
    }
   ],
   "source": [
    "# Desenvolva seu código aqui\n",
    "while True:\n",
    "    nota1 = int(input('Digite a primeira nota: ')) \n",
    "    nota2 = int(input('Digite a segunda nota: '))\n",
    "    nota3 = int(input('Digite a terceira nota: ')) \n",
    "    \n",
    "    media = (nota1 + nota2 + nota3)/3\n",
    "    if media < 0 or media >10:\n",
    "        print(f'Alguma nota apresenta um valor menor que 0 ou maior que 10: 1: {nota1},2: {nota2},3: {nota3} . ')\n",
    "    else:\n",
    "        print(f'A media das notas é : {media}')\n",
    "        break\n",
    "        \n",
    "\n"
   ]
  },
  {
   "cell_type": "markdown",
   "metadata": {},
   "source": [
    "### 7 - Uma loja onde todos os produtos são R$1,99 te contratou para criar um programa que solicite quantos itens o cliente esta levando e retorne o valor total da compra. O programa deve permanecer em execução até que seja digitado 0."
   ]
  },
  {
   "cell_type": "code",
   "execution_count": 17,
   "metadata": {},
   "outputs": [
    {
     "name": "stdout",
     "output_type": "stream",
     "text": [
      "Quantos produtos vai comprar? 4\n",
      "Valor Total da compra: 7.96 \n",
      "---------------Proxima Compra---------------\n",
      "Quantos produtos vai comprar? 8\n",
      "Valor Total da compra: 15.92 \n",
      "---------------Proxima Compra---------------\n",
      "Quantos produtos vai comprar? 0\n"
     ]
    }
   ],
   "source": [
    "# Desenvolva seu código aqui\n",
    "qtd_produto = int(input('Quantos produtos vai comprar? '))\n",
    "while qtd_produto != 0 :\n",
    "    valor_total = qtd_produto * 1.99\n",
    "    print(f'Valor Total da compra: {valor_total} ')\n",
    "    print('---------------Proxima Compra---------------')\n",
    "    qtd_produto = int(input('Quantos produtos vai comprar? '))\n",
    "    "
   ]
  },
  {
   "cell_type": "markdown",
   "metadata": {},
   "source": [
    "### 8 - Faça um programa que solicite a quantidade de turmas de ADS, em seguida solicite quantoas alunos cada turma possui e calcule a quantidade média de alunos por turma."
   ]
  },
  {
   "cell_type": "code",
   "execution_count": null,
   "metadata": {},
   "outputs": [],
   "source": [
    "# Desenvolva seu código aqui\n",
    "lista = []\n",
    "qtd_turma = int(input('Quantas turmas de ADS tem ? '))\n",
    "for turma in range(0,(qtd_turma+1),1):\n",
    "    qtd_aluno = int(input(f'Quantos alunos tem na turma {turma} de ADS: '))\n",
    "    lista.append(qtd_aluno)\n",
    "media_aluno = sum(lista)/qtd_turma\n",
    "print(f'A media de alunos por turma de ADS é : {media_aluno}')"
   ]
  },
  {
   "cell_type": "markdown",
   "metadata": {},
   "source": [
    "### 9 - Soma dos números\n",
    "* Crie uma variável numero e utilize a função int(input()) para atribuir um valor a ela;\n",
    "* Utilize o loop ``for`` para exibir a soma de todos os numeros de 1 até o valor da variável numero.\n",
    "\n",
    "EX: numero = 4\n",
    "\n",
    "Valor exibido deve ser 10\n",
    "\n",
    "Pois 1+2+3+4 = 10"
   ]
  },
  {
   "cell_type": "code",
   "execution_count": 21,
   "metadata": {},
   "outputs": [
    {
     "name": "stdout",
     "output_type": "stream",
     "text": [
      "digite um numero para somar todos os numero anteriores: 4\n",
      "[1, 2, 3, 4]\n",
      "A soma dos valores anteriores é 10\n"
     ]
    }
   ],
   "source": [
    "# Desenvolva seu código aqui\n",
    "lista = []\n",
    "entrada = int(input('digite um numero para somar todos os numero anteriores: '))\n",
    "for num in range(1,(entrada +1),1):\n",
    "    lista.append(num)\n",
    "print(lista)\n",
    "print(f'A soma dos valores anteriores é {sum(lista)}')"
   ]
  },
  {
   "cell_type": "markdown",
   "metadata": {},
   "source": [
    "### 10 - Média da soma dos números\n",
    "* Crie uma variável numero e utilize a função int(input()) para atribuir um valor a ela;\n",
    "* Utilize o loop ``for`` para realizar a soma de todos os numeros de 1 até o valor da variável numero;\n",
    "* calcule a média do valor da soma.\n",
    "\n",
    "EX: numero = 4\n",
    "\n",
    "Valor exibido deve ser 2.5\n",
    "\n",
    "Pois (1+2+3+4)/4 = 2.5"
   ]
  },
  {
   "cell_type": "code",
   "execution_count": 23,
   "metadata": {},
   "outputs": [
    {
     "name": "stdout",
     "output_type": "stream",
     "text": [
      "digite um numero para fazer a media da soma de todos os numero anteriores: 4\n",
      "A media dos valores anteriores é 2.5\n"
     ]
    }
   ],
   "source": [
    "# Desenvolva seu código aqui\n",
    "numero = int(input('digite um numero para fazer a media da soma de todos os numero anteriores: '))\n",
    "soma = 0\n",
    "for num in range(1,(numero +1 ), 1):\n",
    "    soma += num\n",
    "media = soma/numero\n",
    "\n",
    "print(f'A media dos valores anteriores é {media}')\n"
   ]
  },
  {
   "cell_type": "markdown",
   "metadata": {},
   "source": [
    "### 11 - Quantidade de Valores pares e ímpares na lista_numeros\n",
    "* Crie uma variavel quantidade_par e outra quantidade_impar;\n",
    "* Utilize o loop for para percorrer a lista_numeros;\n",
    "* Utilize as estruturas condicionais para verificar se o valor é par ou ímpar;\n",
    "* Exiba a quantidade de valores pares e a quantidade de valores ímpares."
   ]
  },
  {
   "cell_type": "code",
   "execution_count": null,
   "metadata": {},
   "outputs": [],
   "source": [
    "lista_numeros = [5,484,2,21,4,6,9,451,4,8,6,2,1,4,8,6,2,1,7,51,8,7,51,8,7,5,13,748,4,22,2,68,479,43,1,4,98,6841,64,84,86]\n",
    "# Desenvolva seu código aqui\n"
   ]
  },
  {
   "cell_type": "markdown",
   "metadata": {},
   "source": [
    "### 12 - Use a estrutura de loop for para percorrer a lista_varios_numeros, um contador e um if, para calcular quantos valores da lista_varios_numeros são divisíveis por 17."
   ]
  },
  {
   "cell_type": "code",
   "execution_count": null,
   "metadata": {},
   "outputs": [],
   "source": [
    "# Desenvolva seu código aqui\n",
    "lista_varios_numeros = [11,15,67,34,87,3345,68,654,5489,15,15,158,231,87,6,54,121,\n",
    "                       981,3284981,548,45,56,85,0,1874,1,64,8,1,515,15,15,12,30,330,\n",
    "                       87841,520,1,8,53,1,5,4,78,95610,20,68,76,15,18,15,34,72,15]\n"
   ]
  },
  {
   "cell_type": "markdown",
   "metadata": {},
   "source": [
    "### 13 - Faça um programa que solicite ao usuário a quantidade de notas que ele deseja calcular a média, em seguida solicite a quantidade de notas digitadas e calcule a média."
   ]
  },
  {
   "cell_type": "code",
   "execution_count": null,
   "metadata": {},
   "outputs": [],
   "source": [
    "# Desenvolva seu código aqui\n",
    "\n"
   ]
  },
  {
   "cell_type": "markdown",
   "metadata": {},
   "source": [
    "### 14 - Com o loop for, desenvolva um gerador de tabuada, capaz de gerar a tabuada de qualquer número inteiro entre 1 a 10. O usuário deve informar de qual numero ele deseja a tabuada"
   ]
  },
  {
   "cell_type": "code",
   "execution_count": null,
   "metadata": {},
   "outputs": [],
   "source": [
    "# Desenvolva seu código aqui\n"
   ]
  },
  {
   "cell_type": "markdown",
   "metadata": {},
   "source": [
    "### 15 - A sequência de Fibonacci é formada pela sequência 1,1,2,3,5,8,13,21,34,55,... Faça um programa capaz de gerar a série até 500.\n",
    "OBS: Na sequência de Fibonacci, o próximo número é sempre a soma dos dois números anteriores\n",
    "\n",
    "1 + 0 = 1\n",
    "\n",
    "1 + 1 = 2\n",
    "\n",
    "2 + 1 = 3\n",
    "\n",
    "3 + 2 = 5\n",
    "\n",
    "5 + 3 = 8"
   ]
  },
  {
   "cell_type": "code",
   "execution_count": null,
   "metadata": {},
   "outputs": [],
   "source": [
    "# Desenvolva seu código aqui\n",
    "# Desenvolva seu código aqui\n"
   ]
  }
 ],
 "metadata": {
  "kernelspec": {
   "display_name": "Python 3 (ipykernel)",
   "language": "python",
   "name": "python3"
  },
  "language_info": {
   "codemirror_mode": {
    "name": "ipython",
    "version": 3
   },
   "file_extension": ".py",
   "mimetype": "text/x-python",
   "name": "python",
   "nbconvert_exporter": "python",
   "pygments_lexer": "ipython3",
   "version": "3.9.13"
  },
  "vscode": {
   "interpreter": {
    "hash": "f43ba6cefd8f24580ff42e8af3aabb69fa421e7aad4e479f4a62a25e10b01fe1"
   }
  }
 },
 "nbformat": 4,
 "nbformat_minor": 2
}
