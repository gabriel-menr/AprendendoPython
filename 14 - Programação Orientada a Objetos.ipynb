{
 "cells": [
  {
   "cell_type": "markdown",
   "metadata": {},
   "source": [
    "# Introdução à Programação Orientada a Objetos\n",
    "\n",
    "A Programação Orientada a Objetos, ou POO, é uma forma de organizar e estruturar o código que se concentra em criar objetos que representam coisas do mundo real ou entidades de um sistema. Diferente do estilo tradicional de programação, onde as instruções e dados estão dispersos, a POO nos ajuda a agrupar dados e comportamentos relacionados em uma única estrutura: a **classe**.\n",
    "\n",
    "### 1. Conceitos Básicos de POO\n",
    "\n",
    "#### Classes e Objetos\n",
    "- Pense em uma **classe** como uma planta de uma casa ou um molde para um objeto. Ela define como algo deve ser construído, quais características ele deve ter (dados) e o que ele pode fazer (comportamentos).\n",
    "- Um **objeto**, por sua vez, é uma instância dessa classe. Quando criamos um objeto, estamos materializando essa planta em algo real que podemos manipular no código.\n",
    "\n",
    "#### Estrutura de uma Classe\n",
    "- **Atributos**: São dados que pertencem aos objetos. Por exemplo, um objeto \"Carro\" pode ter atributos como cor, modelo e ano de fabricação.\n",
    "- **Métodos**: São ações ou comportamentos que os objetos podem realizar. No caso de um \"Carro\", ele poderia ter métodos como acelerar, frear ou mudar de marcha.\n",
    "- **Construtor (`__init__`)**: Quando criamos um novo objeto, ele precisa ser configurado com alguns dados iniciais. O método `__init__` é uma função especial usada para isso, ajudando a definir os atributos do objeto no momento em que ele é criado.\n",
    "\n",
    "A POO nos permite organizar melhor nosso código, tornando-o mais fácil de entender e reutilizar. Ela também ajuda a resolver problemas de forma mais intuitiva, já que podemos pensar nas entidades do nosso programa como objetos que interagem entre si, muito parecido com o mundo real.\n"
   ]
  },
  {
   "cell_type": "code",
   "execution_count": 1,
   "metadata": {},
   "outputs": [],
   "source": [
    "# Exemplo de uma classe em Python para representar um Carro\n",
    "\n",
    "class Carro:\n",
    "    # O método __init__ é chamado de \"construtor\".\n",
    "    # Ele inicializa os atributos de um objeto quando criamos uma nova instância da classe.\n",
    "    def __init__(self, marca, modelo):\n",
    "        # Atributos da classe Carro\n",
    "        # 'self.marca' e 'self.modelo' são variáveis que guardam as características do carro.\n",
    "        # 'self' refere-se ao próprio objeto que está sendo criado, permitindo acesso aos seus dados e métodos.\n",
    "        self.marca = marca\n",
    "        self.modelo = modelo\n",
    "\n",
    "    # Método da classe para exibir informações do carro\n",
    "    def exibir_informacoes(self):\n",
    "        # Este método retorna uma string com as informações da marca e modelo do carro.\n",
    "        return f\"Marca: {self.marca}, Modelo: {self.modelo}\""
   ]
  },
  {
   "cell_type": "code",
   "execution_count": 2,
   "metadata": {},
   "outputs": [],
   "source": [
    "# Criando um objeto da classe Carro\n",
    "# Aqui, estamos criando uma instância da classe Carro chamada 'meu_carro' com a marca \"Toyota\" e o modelo \"Corolla\".\n",
    "meu_carro = Carro(\"Toyota\", \"Corolla\")"
   ]
  },
  {
   "cell_type": "code",
   "execution_count": 3,
   "metadata": {},
   "outputs": [
    {
     "name": "stdout",
     "output_type": "stream",
     "text": [
      "Marca: Toyota, Modelo: Corolla\n"
     ]
    }
   ],
   "source": [
    "# Chamando um método do objeto\n",
    "# Usamos 'meu_carro.exibir_informacoes()' para chamar o método que mostra as informações do carro.\n",
    "# Este método acessa os atributos 'marca' e 'modelo' definidos no objeto 'meu_carro'.\n",
    "print(meu_carro.exibir_informacoes())  # Saída: Marca: Toyota, Modelo: Corolla"
   ]
  },
  {
   "cell_type": "markdown",
   "metadata": {},
   "source": [
    "### 2. Herança e Polimorfismo\n",
    "\n",
    "Na POO, um conceito fundamental é a **herança**. A herança permite que possamos criar uma nova classe a partir de uma já existente. Assim, podemos aproveitar e expandir funcionalidades que já estão prontas, evitando repetição de código.\n",
    "\n",
    "#### A. Herança\n",
    "- **Herança** permite a criação de uma nova classe que é uma versão adaptada de uma classe existente. \n",
    "- Quando criamos uma nova classe (chamada **classe filha**), ela herda automaticamente todas as características (atributos) e comportamentos (métodos) da classe da qual se originou (chamada **classe pai**).\n",
    "- Isso permite que a classe filha possa ser parecida com a classe pai, mas com algumas particularidades próprias.\n",
    "\n",
    "#### B. Polimorfismo\n",
    "\n",
    "**Polimorfismo** é um conceito que significa “muitas formas”. Na Programação Orientada a Objetos, o polimorfismo permite que diferentes classes possam ter métodos com o mesmo nome, mas com comportamentos distintos. Isso significa que, dependendo de qual tipo de objeto estamos usando, o método pode funcionar de forma diferente.\n",
    "\n",
    "Por exemplo, pense em um método chamado `fazer_som()`. Em uma classe `Cachorro`, esse método poderia devolver \"latido\", enquanto em uma classe `Gato`, ele poderia devolver \"miado\". O polimorfismo permite que cada tipo de objeto responda de acordo com sua própria natureza, mas com a mesma interface (ou seja, o mesmo nome de método).\n",
    "\n",
    "Com o polimorfismo, conseguimos:\n",
    "- Escrever código que é mais flexível e adaptável.\n",
    "- Criar funções e métodos que podem operar em diferentes tipos de objetos, sem precisar saber exatamente de qual tipo eles são."
   ]
  },
  {
   "cell_type": "code",
   "execution_count": 5,
   "metadata": {},
   "outputs": [],
   "source": [
    "# Exemplo de Polimorfismo em Python com classes Animal, Cachorro e Gato\n",
    "\n",
    "# Classe base (pai)\n",
    "class Animal:\n",
    "    # Método comum a todos os animais\n",
    "    def fazer_som(self):\n",
    "        # Este método será sobrescrito nas classes filhas\n",
    "        raise NotImplementedError(\"Este método deve ser implementado pela classe filha\")\n",
    "\n",
    "# Classe filha Cachorro que herda de Animal\n",
    "class Cachorro(Animal):\n",
    "    # Implementa o método 'fazer_som' para Cachorro\n",
    "    def fazer_som(self):\n",
    "        return \"latido\"\n",
    "\n",
    "# Classe filha Gato que herda de Animal\n",
    "class Gato(Animal):\n",
    "    # Implementa o método 'fazer_som' para Gato\n",
    "    def fazer_som(self):\n",
    "        return \"miado\""
   ]
  },
  {
   "cell_type": "code",
   "execution_count": 6,
   "metadata": {},
   "outputs": [
    {
     "name": "stdout",
     "output_type": "stream",
     "text": [
      "latido\n"
     ]
    }
   ],
   "source": [
    "# Criando objeto da classe Cachorro\n",
    "meu_cachorro = Cachorro()\n",
    "print(meu_cachorro.fazer_som())  # Saída: latido"
   ]
  },
  {
   "cell_type": "code",
   "execution_count": 7,
   "metadata": {},
   "outputs": [
    {
     "name": "stdout",
     "output_type": "stream",
     "text": [
      "miado\n"
     ]
    }
   ],
   "source": [
    "# Criando objeto da classe Gato\n",
    "meu_gato = Gato()\n",
    "print(meu_gato.fazer_som())      # Saída: miado\n"
   ]
  },
  {
   "cell_type": "markdown",
   "metadata": {},
   "source": [
    "---"
   ]
  },
  {
   "cell_type": "code",
   "execution_count": 8,
   "metadata": {},
   "outputs": [],
   "source": [
    "# Classe pai\n",
    "class Veiculo:\n",
    "    # Método inicializador (construtor) que define atributos comuns para todos os veículos\n",
    "    def __init__(self, marca, modelo):\n",
    "        # Atributos da classe Veiculo, acessíveis a todas as classes filhas\n",
    "        self.marca = marca  # Armazena a marca do veículo\n",
    "        self.modelo = modelo  # Armazena o modelo do veículo\n",
    "\n",
    "    # Método para exibir informações gerais do veículo\n",
    "    def exibir_informacoes(self):\n",
    "        # Retorna uma string com as informações básicas do veículo\n",
    "        return f\"Veículo: {self.marca} {self.modelo}\"\n"
   ]
  },
  {
   "cell_type": "code",
   "execution_count": 9,
   "metadata": {},
   "outputs": [],
   "source": [
    "# Classe filha Carro que herda de Veiculo\n",
    "class Carro(Veiculo):\n",
    "    # Construtor que define um atributo específico de Carro\n",
    "    def __init__(self, marca, modelo, portas):\n",
    "        # Chama o construtor da classe pai para inicializar 'marca' e 'modelo'\n",
    "        super().__init__(marca, modelo)\n",
    "        # Novo atributo exclusivo da classe Carro\n",
    "        self.portas = portas  # Armazena o número de portas do carro\n",
    "\n",
    "    # Método sobrescrito para exibir informações detalhadas do Carro\n",
    "    def exibir_informacoes(self):\n",
    "        # Retorna uma string com as informações do carro, incluindo o número de portas\n",
    "        return f\"Carro: {self.marca} {self.modelo}, Portas: {self.portas}\""
   ]
  },
  {
   "cell_type": "code",
   "execution_count": 10,
   "metadata": {},
   "outputs": [],
   "source": [
    "# Classe filha Moto que herda de Veiculo\n",
    "class Moto(Veiculo):\n",
    "    # Construtor que define um atributo específico de Moto\n",
    "    def __init__(self, marca, modelo, cilindradas):\n",
    "        # Inicializa 'marca' e 'modelo' usando o construtor da classe pai\n",
    "        super().__init__(marca, modelo)\n",
    "        # Novo atributo exclusivo da classe Moto\n",
    "        self.cilindradas = cilindradas  # Armazena a capacidade do motor em cilindradas\n",
    "\n",
    "    # Método sobrescrito para exibir informações detalhadas da Moto\n",
    "    def exibir_informacoes(self):\n",
    "        # Retorna uma string com as informações da moto, incluindo as cilindradas\n",
    "        return f\"Moto: {self.marca} {self.modelo}, Cilindradas: {self.cilindradas}cc\""
   ]
  },
  {
   "cell_type": "code",
   "execution_count": 11,
   "metadata": {},
   "outputs": [],
   "source": [
    "# Classe filha Onibus que herda de Veiculo\n",
    "class Onibus(Veiculo):\n",
    "    # Construtor que define um atributo específico de Onibus\n",
    "    def __init__(self, marca, modelo, capacidade_passageiros):\n",
    "        # Chama o construtor da classe pai para inicializar 'marca' e 'modelo'\n",
    "        super().__init__(marca, modelo)\n",
    "        # Novo atributo exclusivo da classe Onibus\n",
    "        self.capacidade_passageiros = capacidade_passageiros  # Capacidade de passageiros do ônibus\n",
    "\n",
    "    # Método sobrescrito para exibir informações detalhadas do Ônibus\n",
    "    def exibir_informacoes(self):\n",
    "        # Retorna uma string com as informações do ônibus, incluindo a capacidade de passageiros\n",
    "        return f\"Ônibus: {self.marca} {self.modelo}, Capacidade: {self.capacidade_passageiros} passageiros\""
   ]
  },
  {
   "cell_type": "code",
   "execution_count": 12,
   "metadata": {},
   "outputs": [],
   "source": [
    "# Classe filha Lancha que herda de Veiculo\n",
    "class Lancha(Veiculo):\n",
    "    # Construtor que define um atributo específico de Lancha\n",
    "    def __init__(self, marca, modelo, comprimento):\n",
    "        # Chama o construtor da classe pai para inicializar 'marca' e 'modelo'\n",
    "        super().__init__(marca, modelo)\n",
    "        # Novo atributo exclusivo da classe Lancha\n",
    "        self.comprimento = comprimento  # Comprimento da lancha em metros\n",
    "\n",
    "    # Método sobrescrito para exibir informações detalhadas da Lancha\n",
    "    def exibir_informacoes(self):\n",
    "        # Retorna uma string com as informações da lancha, incluindo o comprimento\n",
    "        return f\"Lancha: {self.marca} {self.modelo}, Comprimento: {self.comprimento} metros\""
   ]
  },
  {
   "cell_type": "code",
   "execution_count": 13,
   "metadata": {},
   "outputs": [],
   "source": [
    "# Criando objetos de diferentes classes\n",
    "carro = Carro(\"Ford\", \"Focus\", 4)\n",
    "moto = Moto(\"Yamaha\", \"MT-07\", 689)\n",
    "onibus = Onibus(\"Mercedes-Benz\", \"O500\", 50)\n",
    "lancha = Lancha(\"Bayliner\", \"VR5\", 6)"
   ]
  },
  {
   "cell_type": "code",
   "execution_count": 14,
   "metadata": {},
   "outputs": [
    {
     "name": "stdout",
     "output_type": "stream",
     "text": [
      "Carro: Ford Focus, Portas: 4\n",
      "Moto: Yamaha MT-07, Cilindradas: 689cc\n",
      "Ônibus: Mercedes-Benz O500, Capacidade: 50 passageiros\n",
      "Lancha: Bayliner VR5, Comprimento: 6 metros\n"
     ]
    }
   ],
   "source": [
    "# Polimorfismo: todos os objetos podem usar o método exibir_informacoes, cada um com sua própria implementação\n",
    "print(carro.exibir_informacoes())             # Saída: Carro: Ford Focus, Portas: 4\n",
    "print(moto.exibir_informacoes())              # Saída: Moto: Yamaha MT-07, Cilindradas: 689cc\n",
    "print(onibus.exibir_informacoes())            # Saída: Ônibus: Mercedes-Benz O500, Capacidade: 50 passageiros\n",
    "print(lancha.exibir_informacoes())            # Saída: Lancha: Bayliner VR5, Comprimento: 6 metros"
   ]
  },
  {
   "cell_type": "markdown",
   "metadata": {},
   "source": [
    "## 3. Encapsulamento e Métodos Especiais\n",
    "\n",
    "### Encapsulamento\n",
    "\n",
    "Encapsulamento é uma forma de proteger e organizar dados dentro de uma classe. Ele impede que partes internas da classe sejam acessadas diretamente, tornando-as acessíveis apenas através de métodos específicos. Isso garante segurança e controle sobre como esses dados são manipulados.\n",
    "\n",
    "#### Aplicação em Machine Learning\n",
    "Para cientistas de dados, encapsulamento ajuda a organizar classes de modelos. Parâmetros e dados do modelo podem ser protegidos, permitindo que sejam acessados apenas por métodos como `treinar` ou `prever`, em vez de serem manipulados diretamente. Assim, o modelo é mais seguro e fácil de controlar.\n",
    "\n",
    "### Métodos de Acesso\n",
    "Métodos de acesso (getters e setters) são utilizados para ler e modificar atributos protegidos. Eles garantem que as mudanças em um modelo sigam um padrão definido, tornando o código mais organizado e fácil de entender.\n",
    "\n",
    "### Métodos Especiais\n",
    "\n",
    "Métodos especiais são funções que têm nomes com dois sublinhados, como `__init__`, `__str__`, e `__repr__`. Eles permitem personalizar o comportamento dos objetos da classe, como definir a forma como um modelo deve ser exibido ou como ele deve ser inicializado.\n",
    "\n",
    "#### Aplicação em Machine Learning\n",
    "Métodos como `__str__` e `__repr__` ajudam a fornecer representações amigáveis do modelo em logs ou relatórios, enquanto o método `__call__` permite que o modelo seja usado como uma função para fazer previsões. Esses métodos tornam as classes de modelos mais intuitivas para o trabalho em MLOps e facilitam o monitoramento e a depuração.\n"
   ]
  },
  {
   "cell_type": "code",
   "execution_count": 15,
   "metadata": {},
   "outputs": [],
   "source": [
    "class Produto:\n",
    "    # Construtor da classe que define os atributos do objeto\n",
    "    def __init__(self, nome, preco):\n",
    "        # Atributos privados: o nome e o preço do produto são 'encapsulados'\n",
    "        # para impedir que sejam acessados ou modificados diretamente de fora da classe\n",
    "        self.__nome = nome  # Atributo privado: nome do produto\n",
    "        self.__preco = preco  # Atributo privado: preço do produto\n",
    "\n",
    "    # Método público para acessar o preço do produto de forma controlada\n",
    "    def get_preco(self):\n",
    "        # Retorna o valor do atributo privado __preco\n",
    "        return self.__preco\n",
    "\n",
    "    # Método público para atualizar o preço do produto de forma segura\n",
    "    def set_preco(self, novo_preco):\n",
    "        # Apenas modifica o preço se for um valor positivo\n",
    "        self.__preco = novo_preco\n",
    "\n",
    "    # Método especial __str__: define a forma amigável de exibir o produto\n",
    "    def __str__(self):\n",
    "        # Retorna uma representação em string que mostra nome e preço\n",
    "        return f\"Produto: {self.__nome}, Preço: {self.__preco:.2f}\"\n",
    "\n",
    "    # Método especial __repr__: define uma representação oficial do objeto\n",
    "    def __repr__(self):\n",
    "        # Retorna uma string que mostra o código necessário para criar o produto\n",
    "        return f\"Produto('{self.__nome}', {self.__preco})\""
   ]
  },
  {
   "cell_type": "code",
   "execution_count": 17,
   "metadata": {},
   "outputs": [],
   "source": [
    "# Criando um objeto da classe Produto\n",
    "produto_caneta = Produto(\"Caneta\", 1.50)"
   ]
  },
  {
   "cell_type": "code",
   "execution_count": 18,
   "metadata": {},
   "outputs": [
    {
     "name": "stdout",
     "output_type": "stream",
     "text": [
      "1.5\n"
     ]
    }
   ],
   "source": [
    "# Demonstrando encapsulamento: acessar e modificar atributos privados com métodos\n",
    "print(produto_caneta.get_preco())  # Saída esperada: 1.5"
   ]
  },
  {
   "cell_type": "code",
   "execution_count": 19,
   "metadata": {},
   "outputs": [
    {
     "name": "stdout",
     "output_type": "stream",
     "text": [
      "2.0\n"
     ]
    }
   ],
   "source": [
    "# Atualizando o preço do produto de forma controlada\n",
    "produto_caneta.set_preco(2.00)\n",
    "print(produto_caneta.get_preco())  # Saída esperada: 2.0"
   ]
  },
  {
   "cell_type": "code",
   "execution_count": 20,
   "metadata": {},
   "outputs": [
    {
     "name": "stdout",
     "output_type": "stream",
     "text": [
      "Produto: Caneta, Preço: 2.00\n",
      "Produto('Caneta', 2.0)\n"
     ]
    }
   ],
   "source": [
    "# Demonstrando o uso dos métodos especiais\n",
    "print(produto_caneta)          # Saída esperada: Produto: Caneta, Preço: 2.00\n",
    "print(repr(produto_caneta))    # Saída esperada: Produto('Caneta', 2.0)"
   ]
  },
  {
   "cell_type": "markdown",
   "metadata": {},
   "source": [
    "# Parte 4: Prática de POO\n",
    "\n",
    "## 1. Exercícios Práticos de POO\n",
    "\n",
    "### Objetivos:\n",
    "- Propor exercícios práticos que envolvam a criação de classes, o uso de herança e polimorfismo.\n",
    "- Incluir desafios que incentivem a aplicação dos conceitos de encapsulamento.\n",
    "\n",
    "### Conteúdo:\n",
    "\n",
    "#### A. Exercícios de Criação de Classes e Herança\n",
    "1. Criar uma classe `Animal` com um método `emitir_som` e classes filhas que representem diferentes animais.\n",
    "2. Implementar uma classe `Veiculo` e classes derivadas como `Carro` e `Moto`, com atributos e métodos específicos.\n",
    "\n",
    "#### B. Desafios de Encapsulamento\n",
    "1. Adicionar atributos privados em uma classe existente e criar métodos públicos para acessá-los.\n",
    "2. Modificar uma classe para incluir métodos especiais, como `__str__` e `__repr__`.\n",
    "\n",
    "### Exemplos de Código para os Exercícios:"
   ]
  },
  {
   "cell_type": "markdown",
   "metadata": {},
   "source": [
    "# Exemplos práticos:"
   ]
  },
  {
   "cell_type": "markdown",
   "metadata": {},
   "source": [
    "Criação de Classes e Herança \n",
    "\n",
    "1. Criar uma classe `Animal` com um método `emitir_som` e classes filhas que representem diferentes animais."
   ]
  },
  {
   "cell_type": "code",
   "execution_count": 21,
   "metadata": {},
   "outputs": [],
   "source": [
    "# Exemplo para Exercício A.1\n",
    "class Animal:\n",
    "    def emitir_som(self):\n",
    "        pass\n",
    "\n",
    "class Cachorro(Animal):\n",
    "    def emitir_som(self):\n",
    "        return \"Au Au\"\n",
    "\n",
    "class Gato(Animal):\n",
    "    def emitir_som(self):\n",
    "        return \"Miau\""
   ]
  },
  {
   "cell_type": "code",
   "execution_count": 22,
   "metadata": {},
   "outputs": [
    {
     "data": {
      "text/plain": [
       "'Au Au'"
      ]
     },
     "execution_count": 22,
     "metadata": {},
     "output_type": "execute_result"
    }
   ],
   "source": [
    "Cachorro().emitir_som()"
   ]
  },
  {
   "cell_type": "code",
   "execution_count": 23,
   "metadata": {},
   "outputs": [
    {
     "data": {
      "text/plain": [
       "'Miau'"
      ]
     },
     "execution_count": 23,
     "metadata": {},
     "output_type": "execute_result"
    }
   ],
   "source": [
    "Gato().emitir_som()"
   ]
  },
  {
   "cell_type": "markdown",
   "metadata": {},
   "source": [
    "Criação de Classes e Herança\n",
    "\n",
    "2. Implementar uma classe `Veiculo` e classes derivadas como `Carro` e `Moto`, com atributos e métodos específicos."
   ]
  },
  {
   "cell_type": "code",
   "execution_count": 24,
   "metadata": {},
   "outputs": [],
   "source": [
    "# Exemplo para Exercício A.2\n",
    "class Veiculo:\n",
    "    def __init__(self, marca, modelo):\n",
    "        self.marca = marca\n",
    "        self.modelo = modelo\n",
    "\n",
    "class Carro(Veiculo):\n",
    "    def buzinar(self):\n",
    "        return \"Buzina de Carro\"\n",
    "\n",
    "class Moto(Veiculo):\n",
    "    def buzinar(self):\n",
    "        return \"Buzina de Moto\""
   ]
  },
  {
   "cell_type": "code",
   "execution_count": 25,
   "metadata": {},
   "outputs": [
    {
     "name": "stdout",
     "output_type": "stream",
     "text": [
      "Carro: Buzina de Carro\n"
     ]
    }
   ],
   "source": [
    "# Criando instâncias de Carro\n",
    "meu_carro = Carro(\"Toyota\", \"Corolla\")\n",
    "\n",
    "# Chamando o método buzinar\n",
    "print(f\"Carro: {meu_carro.buzinar()}\")  # Saída esperada: Carro: Buzina de Carro"
   ]
  },
  {
   "cell_type": "code",
   "execution_count": 26,
   "metadata": {},
   "outputs": [
    {
     "name": "stdout",
     "output_type": "stream",
     "text": [
      "Moto: Buzina de Moto\n"
     ]
    }
   ],
   "source": [
    "# Criando instâncias de Moto\n",
    "minha_moto = Moto(\"Honda\", \"CBR\")\n",
    "\n",
    "# Chamando o método buzinar\n",
    "print(f\"Moto: {minha_moto.buzinar()}\")  # Saída esperada: Moto: Buzina de Moto"
   ]
  },
  {
   "cell_type": "markdown",
   "metadata": {},
   "source": [
    "Desafios de Encapsulamento\n",
    "1. Adicionar atributos privados em uma classe existente e criar métodos públicos para acessá-los."
   ]
  },
  {
   "cell_type": "code",
   "execution_count": 27,
   "metadata": {},
   "outputs": [
    {
     "name": "stdout",
     "output_type": "stream",
     "text": [
      "Nome do Produto: Caneta\n",
      "Preço do Produto: 1.5\n"
     ]
    }
   ],
   "source": [
    "# Definição da classe Produto com encapsulamento\n",
    "class Produto:\n",
    "    def __init__(self, nome, preco):\n",
    "        self.__nome = nome  # Atributo privado: nome\n",
    "        self.__preco = preco  # Atributo privado: preco\n",
    "\n",
    "    # Método público para acessar o nome do produto\n",
    "    def get_nome(self):\n",
    "        return self.__nome\n",
    "\n",
    "    # Método público para acessar o preço do produto\n",
    "    def get_preco(self):\n",
    "        return self.__preco\n",
    "\n",
    "# Criando uma instância da classe Produto\n",
    "produto = Produto(\"Caneta\", 1.50)\n",
    "\n",
    "# Acessando os atributos privados através dos métodos públicos\n",
    "print(f\"Nome do Produto: {produto.get_nome()}\")  # Saída esperada: Nome do Produto: Caneta\n",
    "print(f\"Preço do Produto: {produto.get_preco()}\")  # Saída esperada: Preço do Produto: 1.50\n"
   ]
  },
  {
   "cell_type": "markdown",
   "metadata": {},
   "source": [
    "Desafios de Encapsulamento\n",
    "\n",
    "2. Modificar uma classe para incluir métodos especiais, como `__str__` e `__repr__`."
   ]
  },
  {
   "cell_type": "code",
   "execution_count": 28,
   "metadata": {},
   "outputs": [
    {
     "name": "stdout",
     "output_type": "stream",
     "text": [
      "Pessoa: Alice, Idade: 30\n",
      "Pessoa('Alice', 30)\n"
     ]
    }
   ],
   "source": [
    "# Definição da classe Pessoa com métodos especiais __str__ e __repr__\n",
    "class Pessoa:\n",
    "    def __init__(self, nome, idade):\n",
    "        self.nome = nome  # Atributo público: nome\n",
    "        self.idade = idade  # Atributo público: idade\n",
    "\n",
    "    # Método especial para representação em string (informal)\n",
    "    def __str__(self):\n",
    "        return f\"Pessoa: {self.nome}, Idade: {self.idade}\"\n",
    "\n",
    "    # Método especial para representação oficial (formal)\n",
    "    def __repr__(self):\n",
    "        return f\"Pessoa('{self.nome}', {self.idade})\"\n",
    "\n",
    "# Criando uma instância da classe Pessoa\n",
    "pessoa = Pessoa(\"Alice\", 30)\n",
    "\n",
    "# Imprimindo a instância (usa __str__)\n",
    "print(pessoa)  # Saída esperada: Pessoa: Alice, Idade: 30\n",
    "\n",
    "# Obtendo a representação oficial da instância (usa __repr__)\n",
    "print(repr(pessoa))  # Saída esperada: Pessoa('Alice', 30)\n"
   ]
  },
  {
   "cell_type": "markdown",
   "metadata": {},
   "source": [
    "# Exercícios de Programação Orientada a Objetos em Python\n"
   ]
  },
  {
   "cell_type": "markdown",
   "metadata": {},
   "source": [
    "\n",
    "## Conceitos Básicos de POO\n",
    "1. Crie uma classe chamada `Livro` com atributos `titulo` e `autor`. Adicione um método `__init__` para inicializar os atributos.\n",
    "\n",
    "2. Adicione um método `descrever` na classe `Livro` que imprime \"O livro [titulo] foi escrito por [autor].\"\n",
    "\n",
    "3. Crie uma instância da classe `Livro` e chame o método `descrever`.\n"
   ]
  },
  {
   "cell_type": "code",
   "execution_count": 34,
   "metadata": {},
   "outputs": [],
   "source": [
    "class Livro:\n",
    "    def __init__ (self,titulo,autor):\n",
    "        self.titulo = titulo\n",
    "        self.autor = autor\n",
    "    def descever(self):\n",
    "        return f'O livro {self.titulo} foi escrito por {self.autor}'"
   ]
  },
  {
   "cell_type": "code",
   "execution_count": 35,
   "metadata": {},
   "outputs": [],
   "source": [
    "livro1 = Livro('pequeno principe','Machado de assis')"
   ]
  },
  {
   "cell_type": "code",
   "execution_count": 36,
   "metadata": {},
   "outputs": [
    {
     "data": {
      "text/plain": [
       "'O livro pequeno principe foi escrito por Machado de assis'"
      ]
     },
     "execution_count": 36,
     "metadata": {},
     "output_type": "execute_result"
    }
   ],
   "source": [
    "livro1.descever()"
   ]
  },
  {
   "cell_type": "markdown",
   "metadata": {},
   "source": [
    "\n",
    "## Herança e Polimorfismo\n",
    "4. Crie uma classe `Animal` com um método `emitir_som` que imprime \"Este animal faz um som.\"\n",
    "\n",
    "5. Crie duas subclasses de `Animal`: `Cachorro` e `Gato`. Sobrescreva o método `emitir_som` em ambas as subclasses para imprimir sons específicos.\n",
    "\n",
    "6. Crie instâncias de `Cachorro` e `Gato` e chame o método `emitir_som` em cada uma.\n"
   ]
  },
  {
   "cell_type": "code",
   "execution_count": 37,
   "metadata": {},
   "outputs": [],
   "source": [
    "# Exercício 4\n",
    "class Animal:\n",
    "    def emitir_som (self):\n",
    "        return \"Este animal faz um som.\" "
   ]
  },
  {
   "cell_type": "code",
   "execution_count": 38,
   "metadata": {},
   "outputs": [],
   "source": [
    "# Exercício 5\n",
    "class Cachorro (Animal):\n",
    "    def emitir_som (self):\n",
    "        return 'Auuuuuuuuuuuuuuuuuuuuuuuuuuuuuuuuuuuu'"
   ]
  },
  {
   "cell_type": "code",
   "execution_count": 39,
   "metadata": {},
   "outputs": [],
   "source": [
    "# Exercício 5\n",
    "class Gato (Animal):\n",
    "    def emitir_som (self):\n",
    "        return 'miauuuuuuuuuuuuuuuuuuuuuuuuu'"
   ]
  },
  {
   "cell_type": "code",
   "execution_count": 41,
   "metadata": {},
   "outputs": [
    {
     "name": "stdout",
     "output_type": "stream",
     "text": [
      "miauuuuuuuuuuuuuuuuuuuuuuuuu\n",
      "Auuuuuuuuuuuuuuuuuuuuuuuuuuuuuuuuuuuu\n"
     ]
    }
   ],
   "source": [
    "# Exercício 6\n",
    "print(Gato().emitir_som())\n",
    "print(Cachorro().emitir_som())"
   ]
  },
  {
   "cell_type": "markdown",
   "metadata": {},
   "source": [
    "\n",
    "## Encapsulamento e Métodos Especiais\n",
    "7. Na classe `Livro`, torne os atributos `titulo` e `autor` privados e crie métodos `get_titulo` e `get_autor` para acessá-los.\n",
    "\n",
    "8. Adicione um método especial `__str__` à classe `Livro` que retorna \"Livro: [titulo] por [autor].\"\n",
    "\n",
    "9. Crie uma classe `Estante` com um atributo privado `livros` (uma lista) e métodos para adicionar e listar livros.\n",
    "\n",
    "10. Crie uma instância da classe `Estante`, adicione algumas instâncias de `Livro` e liste os livros na estante.\n"
   ]
  },
  {
   "cell_type": "code",
   "execution_count": 9,
   "metadata": {},
   "outputs": [
    {
     "name": "stdout",
     "output_type": "stream",
     "text": [
      "Livro: rei leão por autor: mufaza\n"
     ]
    }
   ],
   "source": [
    "# Exercício 7 e 8\n",
    "class Livro:\n",
    "    def __init__(self,titulo,autor):\n",
    "        self.__titulo = titulo\n",
    "        self.__autor = autor\n",
    "    def get_titulo(self):\n",
    "        return self.__titulo\n",
    "    def get_autor(self):\n",
    "        return self.__autor\n",
    "        \n",
    "    def __str__(self):\n",
    "        return f\"Livro: {self.__titulo} por autor: {self.__autor}\"\n",
    "\n",
    "livro_2 = Livro('rei leão','mufaza')\n",
    "\n",
    "print(livro_2)"
   ]
  },
  {
   "cell_type": "code",
   "execution_count": 10,
   "metadata": {},
   "outputs": [],
   "source": [
    "# Exercício 9\n",
    "class Estante :\n",
    "    def __init__(self):\n",
    "        self.__livros = []\n",
    "    def adicionar(self,livro):\n",
    "        if isinstance(livro, Livro):\n",
    "            self.__livros.append(livro)\n",
    "            print(f\"Livro '{livro.get_titulo()}' adicionado com sucesso!\")\n",
    "        else:\n",
    "            print(\"Erro: O objeto não é um livro.\")\n",
    "    def listar(self):\n",
    "        if not self.__livros:\n",
    "            print(\"A estante está vazia.\")\n",
    "        else:\n",
    "            print(\"Livros na estante:\")\n",
    "            for livro in self.__livros:\n",
    "                print(livro)\n",
    "    \n",
    "livro3 = Livro('medicina macabra','Lindsey')\n",
    "livro4 = Livro('A seleção', 'Kiera cass')\n",
    "livro5 = Livro('filhos da degradação', 'felipe')\n",
    "        "
   ]
  },
  {
   "cell_type": "code",
   "execution_count": 11,
   "metadata": {},
   "outputs": [
    {
     "name": "stdout",
     "output_type": "stream",
     "text": [
      "Livro 'rei leão' adicionado com sucesso!\n",
      "Livro 'medicina macabra' adicionado com sucesso!\n",
      "Livro 'A seleção' adicionado com sucesso!\n",
      "Livro 'filhos da degradação' adicionado com sucesso!\n",
      "Livros na estante:\n",
      "Livro: rei leão por autor: mufaza\n",
      "Livro: medicina macabra por autor: Lindsey\n",
      "Livro: A seleção por autor: Kiera cass\n",
      "Livro: filhos da degradação por autor: felipe\n"
     ]
    }
   ],
   "source": [
    "# Exercício 10\n",
    "estante = Estante()\n",
    "\n",
    "estante.adicionar(livro_2)\n",
    "estante.adicionar(livro3)\n",
    "estante.adicionar(livro4)\n",
    "estante.adicionar(livro5)\n",
    "\n",
    "estante.listar()"
   ]
  }
 ],
 "metadata": {
  "kernelspec": {
   "display_name": "Python 3 (ipykernel)",
   "language": "python",
   "name": "python3"
  },
  "language_info": {
   "codemirror_mode": {
    "name": "ipython",
    "version": 3
   },
   "file_extension": ".py",
   "mimetype": "text/x-python",
   "name": "python",
   "nbconvert_exporter": "python",
   "pygments_lexer": "ipython3",
   "version": "3.9.13"
  }
 },
 "nbformat": 4,
 "nbformat_minor": 4
}
