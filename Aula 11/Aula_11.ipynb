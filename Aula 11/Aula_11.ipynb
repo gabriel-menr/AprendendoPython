{
 "cells": [
  {
   "cell_type": "markdown",
   "metadata": {},
   "source": [
    "# 1 - Analisar os Dados\n",
    "Nesta etapa são realizadas análises para entender os dados que estamos trabalhando. \n",
    "\n",
    "Geralmente existe algum documento ou texto informando a origem e a finalidade dos dados, mas ainda é necessário análisar coisas como:\n",
    "* Quais valores são mais frequentes;\n",
    "* Faixa etária;\n",
    "* Quantidade/porcentagem de valores nulos;\n",
    "* \n",
    "\n",
    "A primeira coisa, mais importante a se fazer, é importar a biblioteca que nos permite analisar e manipular tabelas, o `pandas`.\n",
    "\n",
    "Para importar o pandas, usamos o comando `import pandas as pd`, que em tradução, seria algo como \"importar o pandas como pd\", ou seja, para utilizarmos a biblioteca pandas, iremos utilizar a sigla `pd`.\n",
    "\n",
    "Se por algum motivo der erro ao executar o comando `import pandas as pd`, provavelmente o pandas não estará instalado no computador em questão. Para instalar o pandas, basta executar, em uma célula de código, o comando `!pip install pandas`\n",
    "\n",
    "Detalhe importante: Ao abrir um jupyter notebook (arquivo com extensão `.ipynb`), verificar se a versão do python que esta sendo executada é a versão do anaconda e se o arquivo está marcado como confiável (em inglês, `trust`)"
   ]
  },
  {
   "cell_type": "code",
   "execution_count": 1,
   "metadata": {},
   "outputs": [],
   "source": [
    "# Importar a biblioteca pandas com o apelido pd\n",
    "import pandas as pd"
   ]
  },
  {
   "cell_type": "markdown",
   "metadata": {},
   "source": [
    "Após importat a biblioteca pandas, devemos realizar a leitura da base de dados. Para isto, o arquivo jupyter notebook (arquivo com extensão `.ipynb`) e a base de dados necessitam estar na mesma pasta.\n",
    "\n",
    "Para ler o arquivo de dados (arquivo com extensão `.csv`), criamos uma variável, geralmente chamada de df (abreviação de Data Frame, em portugês seria \"Quadro de Dados\"), e atribuímos à variável, com o sinal `=`, a leitura da base de dados com pd.read_csv('nome_do_arquivo.csv').\n",
    "\n",
    "Vale ressaltar que os dados geralmente vem no formato `.csv` (`C`omma `S`eparated `V`alues, em portugês, Valores separadps por vírgula), mas em alguns raros casos, os dados podem vir no formato do excel `.xlsx` e, nestes casos, o comando para ler estes arquivos é bem intuitivo, sendo, ao invés de `pd.read_csv('nome_do_arquivo.csv')` fica `pd.read_excel('nome_do_arquivo.xlsx)`\n",
    "\n",
    "\n",
    "A fonte dos dados da aula de hoje está disponível em:\n",
    "https://www.kaggle.com/datasets/jackdaoud/marketing-data?select=ifood_df.csv\n",
    "\n",
    "A base de dados que iremos utilizar hoje foi fornecida pelo ifood, gerada ao realizar uma pesquisa averiguando o perfil dos clientes durante 2 anos e se eles iriam ou não aceitar a campanha de aderir ao clube ifood. \n",
    "\n",
    "Na pasta do google drive em que esta aula se encontra existe uma imagem chamada `metadados.png` com informações do que cada coluna representa."
   ]
  },
  {
   "cell_type": "code",
   "execution_count": 2,
   "metadata": {},
   "outputs": [],
   "source": [
    "# Realiza a leitura da base de dados\n",
    "df = pd.read_csv('ifood.csv')"
   ]
  },
  {
   "cell_type": "code",
   "execution_count": 3,
   "metadata": {},
   "outputs": [
    {
     "data": {
      "text/html": [
       "<div>\n",
       "<style scoped>\n",
       "    .dataframe tbody tr th:only-of-type {\n",
       "        vertical-align: middle;\n",
       "    }\n",
       "\n",
       "    .dataframe tbody tr th {\n",
       "        vertical-align: top;\n",
       "    }\n",
       "\n",
       "    .dataframe thead th {\n",
       "        text-align: right;\n",
       "    }\n",
       "</style>\n",
       "<table border=\"1\" class=\"dataframe\">\n",
       "  <thead>\n",
       "    <tr style=\"text-align: right;\">\n",
       "      <th></th>\n",
       "      <th>ultima_compra</th>\n",
       "      <th>visitas</th>\n",
       "      <th>online</th>\n",
       "      <th>loja</th>\n",
       "      <th>catalogo</th>\n",
       "      <th>descontos</th>\n",
       "      <th>vinho</th>\n",
       "      <th>doces</th>\n",
       "      <th>fruta</th>\n",
       "      <th>carne</th>\n",
       "      <th>...</th>\n",
       "      <th>renda</th>\n",
       "      <th>total_gasto</th>\n",
       "      <th>adolescentes</th>\n",
       "      <th>criancas</th>\n",
       "      <th>estado_civil</th>\n",
       "      <th>educacao</th>\n",
       "      <th>tempo_cliente</th>\n",
       "      <th>reclamacao</th>\n",
       "      <th>idade</th>\n",
       "      <th>aceitou_campanha</th>\n",
       "    </tr>\n",
       "  </thead>\n",
       "  <tbody>\n",
       "    <tr>\n",
       "      <th>0</th>\n",
       "      <td>58</td>\n",
       "      <td>7</td>\n",
       "      <td>8</td>\n",
       "      <td>4</td>\n",
       "      <td>10</td>\n",
       "      <td>3</td>\n",
       "      <td>635</td>\n",
       "      <td>88</td>\n",
       "      <td>88</td>\n",
       "      <td>546</td>\n",
       "      <td>...</td>\n",
       "      <td>58138.0</td>\n",
       "      <td>1529</td>\n",
       "      <td>0</td>\n",
       "      <td>0</td>\n",
       "      <td>solteiro</td>\n",
       "      <td>graduado</td>\n",
       "      <td>2822</td>\n",
       "      <td>0</td>\n",
       "      <td>63</td>\n",
       "      <td>1</td>\n",
       "    </tr>\n",
       "    <tr>\n",
       "      <th>1</th>\n",
       "      <td>38</td>\n",
       "      <td>5</td>\n",
       "      <td>1</td>\n",
       "      <td>2</td>\n",
       "      <td>1</td>\n",
       "      <td>2</td>\n",
       "      <td>11</td>\n",
       "      <td>1</td>\n",
       "      <td>1</td>\n",
       "      <td>6</td>\n",
       "      <td>...</td>\n",
       "      <td>46344.0</td>\n",
       "      <td>21</td>\n",
       "      <td>1</td>\n",
       "      <td>1</td>\n",
       "      <td>solteiro</td>\n",
       "      <td>graduado</td>\n",
       "      <td>2272</td>\n",
       "      <td>0</td>\n",
       "      <td>66</td>\n",
       "      <td>0</td>\n",
       "    </tr>\n",
       "    <tr>\n",
       "      <th>2</th>\n",
       "      <td>26</td>\n",
       "      <td>4</td>\n",
       "      <td>8</td>\n",
       "      <td>10</td>\n",
       "      <td>2</td>\n",
       "      <td>1</td>\n",
       "      <td>426</td>\n",
       "      <td>21</td>\n",
       "      <td>49</td>\n",
       "      <td>127</td>\n",
       "      <td>...</td>\n",
       "      <td>71613.0</td>\n",
       "      <td>734</td>\n",
       "      <td>0</td>\n",
       "      <td>0</td>\n",
       "      <td>uniao_estavel</td>\n",
       "      <td>graduado</td>\n",
       "      <td>2471</td>\n",
       "      <td>0</td>\n",
       "      <td>55</td>\n",
       "      <td>0</td>\n",
       "    </tr>\n",
       "  </tbody>\n",
       "</table>\n",
       "<p>3 rows × 21 columns</p>\n",
       "</div>"
      ],
      "text/plain": [
       "   ultima_compra  visitas  online  loja  catalogo  descontos  vinho  doces  \\\n",
       "0             58        7       8     4        10          3    635     88   \n",
       "1             38        5       1     2         1          2     11      1   \n",
       "2             26        4       8    10         2          1    426     21   \n",
       "\n",
       "   fruta  carne  ...    renda  total_gasto  adolescentes  criancas  \\\n",
       "0     88    546  ...  58138.0         1529             0         0   \n",
       "1      1      6  ...  46344.0           21             1         1   \n",
       "2     49    127  ...  71613.0          734             0         0   \n",
       "\n",
       "    estado_civil  educacao tempo_cliente  reclamacao  idade  aceitou_campanha  \n",
       "0       solteiro  graduado          2822           0     63                 1  \n",
       "1       solteiro  graduado          2272           0     66                 0  \n",
       "2  uniao_estavel  graduado          2471           0     55                 0  \n",
       "\n",
       "[3 rows x 21 columns]"
      ]
     },
     "execution_count": 3,
     "metadata": {},
     "output_type": "execute_result"
    }
   ],
   "source": [
    "# Exibe as 3 linhas iniciais da tabela\n",
    "df.head(3)"
   ]
  },
  {
   "cell_type": "markdown",
   "metadata": {},
   "source": [
    "Repare que a quantidade de colunas muito grande acaba não exibindo todas as colunas. Para resolver isto, podemos solicitar para mostrar as colunas que desejamos."
   ]
  },
  {
   "cell_type": "code",
   "execution_count": 4,
   "metadata": {},
   "outputs": [
    {
     "data": {
      "text/plain": [
       "Index(['ultima_compra', 'visitas', 'online', 'loja', 'catalogo', 'descontos',\n",
       "       'vinho', 'doces', 'fruta', 'carne', 'peixe', 'renda', 'total_gasto',\n",
       "       'adolescentes', 'criancas', 'estado_civil', 'educacao', 'tempo_cliente',\n",
       "       'reclamacao', 'idade', 'aceitou_campanha'],\n",
       "      dtype='object')"
      ]
     },
     "execution_count": 4,
     "metadata": {},
     "output_type": "execute_result"
    }
   ],
   "source": [
    "# Exibe todas as colunas\n",
    "df.columns"
   ]
  },
  {
   "cell_type": "code",
   "execution_count": 5,
   "metadata": {},
   "outputs": [
    {
     "data": {
      "text/html": [
       "<div>\n",
       "<style scoped>\n",
       "    .dataframe tbody tr th:only-of-type {\n",
       "        vertical-align: middle;\n",
       "    }\n",
       "\n",
       "    .dataframe tbody tr th {\n",
       "        vertical-align: top;\n",
       "    }\n",
       "\n",
       "    .dataframe thead th {\n",
       "        text-align: right;\n",
       "    }\n",
       "</style>\n",
       "<table border=\"1\" class=\"dataframe\">\n",
       "  <thead>\n",
       "    <tr style=\"text-align: right;\">\n",
       "      <th></th>\n",
       "      <th>ultima_compra</th>\n",
       "      <th>visitas</th>\n",
       "      <th>online</th>\n",
       "      <th>loja</th>\n",
       "      <th>catalogo</th>\n",
       "      <th>descontos</th>\n",
       "      <th>vinho</th>\n",
       "      <th>doces</th>\n",
       "      <th>fruta</th>\n",
       "      <th>carne</th>\n",
       "    </tr>\n",
       "  </thead>\n",
       "  <tbody>\n",
       "    <tr>\n",
       "      <th>0</th>\n",
       "      <td>58</td>\n",
       "      <td>7</td>\n",
       "      <td>8</td>\n",
       "      <td>4</td>\n",
       "      <td>10</td>\n",
       "      <td>3</td>\n",
       "      <td>635</td>\n",
       "      <td>88</td>\n",
       "      <td>88</td>\n",
       "      <td>546</td>\n",
       "    </tr>\n",
       "    <tr>\n",
       "      <th>1</th>\n",
       "      <td>38</td>\n",
       "      <td>5</td>\n",
       "      <td>1</td>\n",
       "      <td>2</td>\n",
       "      <td>1</td>\n",
       "      <td>2</td>\n",
       "      <td>11</td>\n",
       "      <td>1</td>\n",
       "      <td>1</td>\n",
       "      <td>6</td>\n",
       "    </tr>\n",
       "  </tbody>\n",
       "</table>\n",
       "</div>"
      ],
      "text/plain": [
       "   ultima_compra  visitas  online  loja  catalogo  descontos  vinho  doces  \\\n",
       "0             58        7       8     4        10          3    635     88   \n",
       "1             38        5       1     2         1          2     11      1   \n",
       "\n",
       "   fruta  carne  \n",
       "0     88    546  \n",
       "1      1      6  "
      ]
     },
     "execution_count": 5,
     "metadata": {},
     "output_type": "execute_result"
    }
   ],
   "source": [
    "# Exibe as duas linhas iniciais da metade das colunas\n",
    "df[['ultima_compra', 'visitas', 'online', 'loja', 'catalogo', 'descontos',\n",
    "       'vinho', 'doces', 'fruta', 'carne']].head(2)"
   ]
  },
  {
   "cell_type": "code",
   "execution_count": 6,
   "metadata": {},
   "outputs": [
    {
     "data": {
      "text/html": [
       "<div>\n",
       "<style scoped>\n",
       "    .dataframe tbody tr th:only-of-type {\n",
       "        vertical-align: middle;\n",
       "    }\n",
       "\n",
       "    .dataframe tbody tr th {\n",
       "        vertical-align: top;\n",
       "    }\n",
       "\n",
       "    .dataframe thead th {\n",
       "        text-align: right;\n",
       "    }\n",
       "</style>\n",
       "<table border=\"1\" class=\"dataframe\">\n",
       "  <thead>\n",
       "    <tr style=\"text-align: right;\">\n",
       "      <th></th>\n",
       "      <th>peixe</th>\n",
       "      <th>renda</th>\n",
       "      <th>total_gasto</th>\n",
       "      <th>adolescentes</th>\n",
       "      <th>criancas</th>\n",
       "      <th>estado_civil</th>\n",
       "      <th>educacao</th>\n",
       "      <th>tempo_cliente</th>\n",
       "      <th>reclamacao</th>\n",
       "      <th>idade</th>\n",
       "      <th>aceitou_campanha</th>\n",
       "    </tr>\n",
       "  </thead>\n",
       "  <tbody>\n",
       "    <tr>\n",
       "      <th>0</th>\n",
       "      <td>172</td>\n",
       "      <td>58138.0</td>\n",
       "      <td>1529</td>\n",
       "      <td>0</td>\n",
       "      <td>0</td>\n",
       "      <td>solteiro</td>\n",
       "      <td>graduado</td>\n",
       "      <td>2822</td>\n",
       "      <td>0</td>\n",
       "      <td>63</td>\n",
       "      <td>1</td>\n",
       "    </tr>\n",
       "    <tr>\n",
       "      <th>1</th>\n",
       "      <td>2</td>\n",
       "      <td>46344.0</td>\n",
       "      <td>21</td>\n",
       "      <td>1</td>\n",
       "      <td>1</td>\n",
       "      <td>solteiro</td>\n",
       "      <td>graduado</td>\n",
       "      <td>2272</td>\n",
       "      <td>0</td>\n",
       "      <td>66</td>\n",
       "      <td>0</td>\n",
       "    </tr>\n",
       "  </tbody>\n",
       "</table>\n",
       "</div>"
      ],
      "text/plain": [
       "   peixe    renda  total_gasto  adolescentes  criancas estado_civil  educacao  \\\n",
       "0    172  58138.0         1529             0         0     solteiro  graduado   \n",
       "1      2  46344.0           21             1         1     solteiro  graduado   \n",
       "\n",
       "   tempo_cliente  reclamacao  idade  aceitou_campanha  \n",
       "0           2822           0     63                 1  \n",
       "1           2272           0     66                 0  "
      ]
     },
     "execution_count": 6,
     "metadata": {},
     "output_type": "execute_result"
    }
   ],
   "source": [
    "# Exibe as duas linhas iniciais da outra metade das colunas\n",
    "df[['peixe', 'renda', 'total_gasto', 'adolescentes', 'criancas', 'estado_civil', \n",
    "'educacao', 'tempo_cliente', 'reclamacao', 'idade', 'aceitou_campanha']].head(2)"
   ]
  },
  {
   "cell_type": "code",
   "execution_count": 7,
   "metadata": {},
   "outputs": [
    {
     "data": {
      "text/plain": [
       "ultima_compra       0\n",
       "visitas             0\n",
       "online              0\n",
       "loja                0\n",
       "catalogo            0\n",
       "descontos           0\n",
       "vinho               0\n",
       "doces               0\n",
       "fruta               0\n",
       "carne               0\n",
       "peixe               0\n",
       "renda               0\n",
       "total_gasto         0\n",
       "adolescentes        0\n",
       "criancas            0\n",
       "estado_civil        0\n",
       "educacao            0\n",
       "tempo_cliente       0\n",
       "reclamacao          0\n",
       "idade               0\n",
       "aceitou_campanha    0\n",
       "dtype: int64"
      ]
     },
     "execution_count": 7,
     "metadata": {},
     "output_type": "execute_result"
    }
   ],
   "source": [
    "# Exibe quantidade de valores nulos por coluna\n",
    "df.isnull().sum()"
   ]
  },
  {
   "cell_type": "markdown",
   "metadata": {},
   "source": [
    "Nossa base de dados não possui valores nulos, não sendo necessário realizar o tratamento de valores nulos."
   ]
  },
  {
   "cell_type": "code",
   "execution_count": 8,
   "metadata": {},
   "outputs": [
    {
     "name": "stdout",
     "output_type": "stream",
     "text": [
      "<class 'pandas.core.frame.DataFrame'>\n",
      "RangeIndex: 2205 entries, 0 to 2204\n",
      "Data columns (total 21 columns):\n",
      " #   Column            Non-Null Count  Dtype  \n",
      "---  ------            --------------  -----  \n",
      " 0   ultima_compra     2205 non-null   int64  \n",
      " 1   visitas           2205 non-null   int64  \n",
      " 2   online            2205 non-null   int64  \n",
      " 3   loja              2205 non-null   int64  \n",
      " 4   catalogo          2205 non-null   int64  \n",
      " 5   descontos         2205 non-null   int64  \n",
      " 6   vinho             2205 non-null   int64  \n",
      " 7   doces             2205 non-null   int64  \n",
      " 8   fruta             2205 non-null   int64  \n",
      " 9   carne             2205 non-null   int64  \n",
      " 10  peixe             2205 non-null   int64  \n",
      " 11  renda             2205 non-null   float64\n",
      " 12  total_gasto       2205 non-null   int64  \n",
      " 13  adolescentes      2205 non-null   int64  \n",
      " 14  criancas          2205 non-null   int64  \n",
      " 15  estado_civil      2205 non-null   object \n",
      " 16  educacao          2205 non-null   object \n",
      " 17  tempo_cliente     2205 non-null   int64  \n",
      " 18  reclamacao        2205 non-null   int64  \n",
      " 19  idade             2205 non-null   int64  \n",
      " 20  aceitou_campanha  2205 non-null   int64  \n",
      "dtypes: float64(1), int64(18), object(2)\n",
      "memory usage: 361.9+ KB\n"
     ]
    }
   ],
   "source": [
    "# Exibe o tipo de dados das colunas\n",
    "df.info()"
   ]
  },
  {
   "cell_type": "code",
   "execution_count": 9,
   "metadata": {},
   "outputs": [
    {
     "data": {
      "text/html": [
       "<div>\n",
       "<style scoped>\n",
       "    .dataframe tbody tr th:only-of-type {\n",
       "        vertical-align: middle;\n",
       "    }\n",
       "\n",
       "    .dataframe tbody tr th {\n",
       "        vertical-align: top;\n",
       "    }\n",
       "\n",
       "    .dataframe thead th {\n",
       "        text-align: right;\n",
       "    }\n",
       "</style>\n",
       "<table border=\"1\" class=\"dataframe\">\n",
       "  <thead>\n",
       "    <tr style=\"text-align: right;\">\n",
       "      <th></th>\n",
       "      <th>count</th>\n",
       "      <th>mean</th>\n",
       "      <th>std</th>\n",
       "      <th>min</th>\n",
       "      <th>25%</th>\n",
       "      <th>50%</th>\n",
       "      <th>75%</th>\n",
       "      <th>max</th>\n",
       "    </tr>\n",
       "  </thead>\n",
       "  <tbody>\n",
       "    <tr>\n",
       "      <th>ultima_compra</th>\n",
       "      <td>2205.0</td>\n",
       "      <td>49.009070</td>\n",
       "      <td>28.932111</td>\n",
       "      <td>0.0</td>\n",
       "      <td>24.0</td>\n",
       "      <td>49.0</td>\n",
       "      <td>74.0</td>\n",
       "      <td>99.0</td>\n",
       "    </tr>\n",
       "    <tr>\n",
       "      <th>visitas</th>\n",
       "      <td>2205.0</td>\n",
       "      <td>5.336961</td>\n",
       "      <td>2.413535</td>\n",
       "      <td>0.0</td>\n",
       "      <td>3.0</td>\n",
       "      <td>6.0</td>\n",
       "      <td>7.0</td>\n",
       "      <td>20.0</td>\n",
       "    </tr>\n",
       "    <tr>\n",
       "      <th>online</th>\n",
       "      <td>2205.0</td>\n",
       "      <td>4.100680</td>\n",
       "      <td>2.737424</td>\n",
       "      <td>0.0</td>\n",
       "      <td>2.0</td>\n",
       "      <td>4.0</td>\n",
       "      <td>6.0</td>\n",
       "      <td>27.0</td>\n",
       "    </tr>\n",
       "    <tr>\n",
       "      <th>loja</th>\n",
       "      <td>2205.0</td>\n",
       "      <td>5.823583</td>\n",
       "      <td>3.241796</td>\n",
       "      <td>0.0</td>\n",
       "      <td>3.0</td>\n",
       "      <td>5.0</td>\n",
       "      <td>8.0</td>\n",
       "      <td>13.0</td>\n",
       "    </tr>\n",
       "    <tr>\n",
       "      <th>catalogo</th>\n",
       "      <td>2205.0</td>\n",
       "      <td>2.645351</td>\n",
       "      <td>2.798647</td>\n",
       "      <td>0.0</td>\n",
       "      <td>0.0</td>\n",
       "      <td>2.0</td>\n",
       "      <td>4.0</td>\n",
       "      <td>28.0</td>\n",
       "    </tr>\n",
       "    <tr>\n",
       "      <th>descontos</th>\n",
       "      <td>2205.0</td>\n",
       "      <td>2.318367</td>\n",
       "      <td>1.886107</td>\n",
       "      <td>0.0</td>\n",
       "      <td>1.0</td>\n",
       "      <td>2.0</td>\n",
       "      <td>3.0</td>\n",
       "      <td>15.0</td>\n",
       "    </tr>\n",
       "    <tr>\n",
       "      <th>vinho</th>\n",
       "      <td>2205.0</td>\n",
       "      <td>306.164626</td>\n",
       "      <td>337.493839</td>\n",
       "      <td>0.0</td>\n",
       "      <td>24.0</td>\n",
       "      <td>178.0</td>\n",
       "      <td>507.0</td>\n",
       "      <td>1493.0</td>\n",
       "    </tr>\n",
       "    <tr>\n",
       "      <th>doces</th>\n",
       "      <td>2205.0</td>\n",
       "      <td>27.128345</td>\n",
       "      <td>41.130468</td>\n",
       "      <td>0.0</td>\n",
       "      <td>1.0</td>\n",
       "      <td>8.0</td>\n",
       "      <td>34.0</td>\n",
       "      <td>262.0</td>\n",
       "    </tr>\n",
       "    <tr>\n",
       "      <th>fruta</th>\n",
       "      <td>2205.0</td>\n",
       "      <td>26.403175</td>\n",
       "      <td>39.784484</td>\n",
       "      <td>0.0</td>\n",
       "      <td>2.0</td>\n",
       "      <td>8.0</td>\n",
       "      <td>33.0</td>\n",
       "      <td>199.0</td>\n",
       "    </tr>\n",
       "    <tr>\n",
       "      <th>carne</th>\n",
       "      <td>2205.0</td>\n",
       "      <td>165.312018</td>\n",
       "      <td>217.784507</td>\n",
       "      <td>0.0</td>\n",
       "      <td>16.0</td>\n",
       "      <td>68.0</td>\n",
       "      <td>232.0</td>\n",
       "      <td>1725.0</td>\n",
       "    </tr>\n",
       "    <tr>\n",
       "      <th>peixe</th>\n",
       "      <td>2205.0</td>\n",
       "      <td>37.756463</td>\n",
       "      <td>54.824635</td>\n",
       "      <td>0.0</td>\n",
       "      <td>3.0</td>\n",
       "      <td>12.0</td>\n",
       "      <td>50.0</td>\n",
       "      <td>259.0</td>\n",
       "    </tr>\n",
       "    <tr>\n",
       "      <th>renda</th>\n",
       "      <td>2205.0</td>\n",
       "      <td>51622.094785</td>\n",
       "      <td>20713.063826</td>\n",
       "      <td>1730.0</td>\n",
       "      <td>35196.0</td>\n",
       "      <td>51287.0</td>\n",
       "      <td>68281.0</td>\n",
       "      <td>113734.0</td>\n",
       "    </tr>\n",
       "    <tr>\n",
       "      <th>total_gasto</th>\n",
       "      <td>2205.0</td>\n",
       "      <td>562.764626</td>\n",
       "      <td>575.936911</td>\n",
       "      <td>4.0</td>\n",
       "      <td>56.0</td>\n",
       "      <td>343.0</td>\n",
       "      <td>964.0</td>\n",
       "      <td>2491.0</td>\n",
       "    </tr>\n",
       "    <tr>\n",
       "      <th>adolescentes</th>\n",
       "      <td>2205.0</td>\n",
       "      <td>0.506576</td>\n",
       "      <td>0.544380</td>\n",
       "      <td>0.0</td>\n",
       "      <td>0.0</td>\n",
       "      <td>0.0</td>\n",
       "      <td>1.0</td>\n",
       "      <td>2.0</td>\n",
       "    </tr>\n",
       "    <tr>\n",
       "      <th>criancas</th>\n",
       "      <td>2205.0</td>\n",
       "      <td>0.442177</td>\n",
       "      <td>0.537132</td>\n",
       "      <td>0.0</td>\n",
       "      <td>0.0</td>\n",
       "      <td>0.0</td>\n",
       "      <td>1.0</td>\n",
       "      <td>2.0</td>\n",
       "    </tr>\n",
       "    <tr>\n",
       "      <th>tempo_cliente</th>\n",
       "      <td>2205.0</td>\n",
       "      <td>2512.718367</td>\n",
       "      <td>202.563647</td>\n",
       "      <td>2159.0</td>\n",
       "      <td>2339.0</td>\n",
       "      <td>2515.0</td>\n",
       "      <td>2688.0</td>\n",
       "      <td>2858.0</td>\n",
       "    </tr>\n",
       "    <tr>\n",
       "      <th>reclamacao</th>\n",
       "      <td>2205.0</td>\n",
       "      <td>0.009070</td>\n",
       "      <td>0.094827</td>\n",
       "      <td>0.0</td>\n",
       "      <td>0.0</td>\n",
       "      <td>0.0</td>\n",
       "      <td>0.0</td>\n",
       "      <td>1.0</td>\n",
       "    </tr>\n",
       "    <tr>\n",
       "      <th>idade</th>\n",
       "      <td>2205.0</td>\n",
       "      <td>51.095692</td>\n",
       "      <td>11.705801</td>\n",
       "      <td>24.0</td>\n",
       "      <td>43.0</td>\n",
       "      <td>50.0</td>\n",
       "      <td>61.0</td>\n",
       "      <td>80.0</td>\n",
       "    </tr>\n",
       "    <tr>\n",
       "      <th>aceitou_campanha</th>\n",
       "      <td>2205.0</td>\n",
       "      <td>0.151020</td>\n",
       "      <td>0.358150</td>\n",
       "      <td>0.0</td>\n",
       "      <td>0.0</td>\n",
       "      <td>0.0</td>\n",
       "      <td>0.0</td>\n",
       "      <td>1.0</td>\n",
       "    </tr>\n",
       "  </tbody>\n",
       "</table>\n",
       "</div>"
      ],
      "text/plain": [
       "                   count          mean           std     min      25%  \\\n",
       "ultima_compra     2205.0     49.009070     28.932111     0.0     24.0   \n",
       "visitas           2205.0      5.336961      2.413535     0.0      3.0   \n",
       "online            2205.0      4.100680      2.737424     0.0      2.0   \n",
       "loja              2205.0      5.823583      3.241796     0.0      3.0   \n",
       "catalogo          2205.0      2.645351      2.798647     0.0      0.0   \n",
       "descontos         2205.0      2.318367      1.886107     0.0      1.0   \n",
       "vinho             2205.0    306.164626    337.493839     0.0     24.0   \n",
       "doces             2205.0     27.128345     41.130468     0.0      1.0   \n",
       "fruta             2205.0     26.403175     39.784484     0.0      2.0   \n",
       "carne             2205.0    165.312018    217.784507     0.0     16.0   \n",
       "peixe             2205.0     37.756463     54.824635     0.0      3.0   \n",
       "renda             2205.0  51622.094785  20713.063826  1730.0  35196.0   \n",
       "total_gasto       2205.0    562.764626    575.936911     4.0     56.0   \n",
       "adolescentes      2205.0      0.506576      0.544380     0.0      0.0   \n",
       "criancas          2205.0      0.442177      0.537132     0.0      0.0   \n",
       "tempo_cliente     2205.0   2512.718367    202.563647  2159.0   2339.0   \n",
       "reclamacao        2205.0      0.009070      0.094827     0.0      0.0   \n",
       "idade             2205.0     51.095692     11.705801    24.0     43.0   \n",
       "aceitou_campanha  2205.0      0.151020      0.358150     0.0      0.0   \n",
       "\n",
       "                      50%      75%       max  \n",
       "ultima_compra        49.0     74.0      99.0  \n",
       "visitas               6.0      7.0      20.0  \n",
       "online                4.0      6.0      27.0  \n",
       "loja                  5.0      8.0      13.0  \n",
       "catalogo              2.0      4.0      28.0  \n",
       "descontos             2.0      3.0      15.0  \n",
       "vinho               178.0    507.0    1493.0  \n",
       "doces                 8.0     34.0     262.0  \n",
       "fruta                 8.0     33.0     199.0  \n",
       "carne                68.0    232.0    1725.0  \n",
       "peixe                12.0     50.0     259.0  \n",
       "renda             51287.0  68281.0  113734.0  \n",
       "total_gasto         343.0    964.0    2491.0  \n",
       "adolescentes          0.0      1.0       2.0  \n",
       "criancas              0.0      1.0       2.0  \n",
       "tempo_cliente      2515.0   2688.0    2858.0  \n",
       "reclamacao            0.0      0.0       1.0  \n",
       "idade                50.0     61.0      80.0  \n",
       "aceitou_campanha      0.0      0.0       1.0  "
      ]
     },
     "execution_count": 9,
     "metadata": {},
     "output_type": "execute_result"
    }
   ],
   "source": [
    "# Exibe informações descritivas a respeito das colunas numéricas\n",
    "df.describe().T"
   ]
  },
  {
   "cell_type": "code",
   "execution_count": 10,
   "metadata": {},
   "outputs": [
    {
     "data": {
      "text/html": [
       "<div>\n",
       "<style scoped>\n",
       "    .dataframe tbody tr th:only-of-type {\n",
       "        vertical-align: middle;\n",
       "    }\n",
       "\n",
       "    .dataframe tbody tr th {\n",
       "        vertical-align: top;\n",
       "    }\n",
       "\n",
       "    .dataframe thead th {\n",
       "        text-align: right;\n",
       "    }\n",
       "</style>\n",
       "<table border=\"1\" class=\"dataframe\">\n",
       "  <thead>\n",
       "    <tr style=\"text-align: right;\">\n",
       "      <th></th>\n",
       "      <th>count</th>\n",
       "      <th>unique</th>\n",
       "      <th>top</th>\n",
       "      <th>freq</th>\n",
       "    </tr>\n",
       "  </thead>\n",
       "  <tbody>\n",
       "    <tr>\n",
       "      <th>estado_civil</th>\n",
       "      <td>2205</td>\n",
       "      <td>5</td>\n",
       "      <td>casado</td>\n",
       "      <td>854</td>\n",
       "    </tr>\n",
       "    <tr>\n",
       "      <th>educacao</th>\n",
       "      <td>2205</td>\n",
       "      <td>5</td>\n",
       "      <td>graduado</td>\n",
       "      <td>1113</td>\n",
       "    </tr>\n",
       "  </tbody>\n",
       "</table>\n",
       "</div>"
      ],
      "text/plain": [
       "             count unique       top  freq\n",
       "estado_civil  2205      5    casado   854\n",
       "educacao      2205      5  graduado  1113"
      ]
     },
     "execution_count": 10,
     "metadata": {},
     "output_type": "execute_result"
    }
   ],
   "source": [
    "# Exibe informações descritivas a respeito das colunas não numéricas\n",
    "df.describe(include='O').T"
   ]
  },
  {
   "cell_type": "markdown",
   "metadata": {},
   "source": [
    "De acordo com a informação da coluna (`aceitou_campanha`) que é a classe alvo, existem apenas valores 1 e 0.\n",
    "\n",
    "Desta forma, também é interessante analizarmos quantas vezes cada valor aparece nesta coluna. Para isto, usamos o comando value_counts:"
   ]
  },
  {
   "cell_type": "code",
   "execution_count": 11,
   "metadata": {},
   "outputs": [
    {
     "data": {
      "text/plain": [
       "0    1872\n",
       "1     333\n",
       "Name: aceitou_campanha, dtype: int64"
      ]
     },
     "execution_count": 11,
     "metadata": {},
     "output_type": "execute_result"
    }
   ],
   "source": [
    "df.aceitou_campanha.value_counts()"
   ]
  },
  {
   "cell_type": "markdown",
   "metadata": {},
   "source": [
    "Um insight interessante que já podemos ter é que a minoria dos clientes aceitou contratar o clube ifood e talvez seja interessante mudar a estratégia de marketing que esta sendo utilizada..."
   ]
  },
  {
   "cell_type": "markdown",
   "metadata": {},
   "source": [
    "# 2 - Tratamento de Dados\n",
    "\n",
    "Nesta etapa se enquadram 3 etapas:\n",
    "* Tratamento de valores nulos;\n",
    "* Converter dados textuais para numéricos;\n",
    "* Separar em X e y\n",
    "* Separar em X e y de Treinamento e Teste\n",
    "* Normalizar os dados.\n",
    "\n",
    "Como vimos durante nossa análise dos dados, não temos dados nulos e temos apenas duas colunas com valores textuais (as colunas `estado_civil` e `educacao`)"
   ]
  },
  {
   "cell_type": "markdown",
   "metadata": {},
   "source": [
    "### 2.1 - Converter dados textuais para numéricos"
   ]
  },
  {
   "cell_type": "code",
   "execution_count": 12,
   "metadata": {},
   "outputs": [
    {
     "data": {
      "text/plain": [
       "graduado         1113\n",
       "doutorado         476\n",
       "mestrado          364\n",
       "segundo_grau      198\n",
       "primeiro_grau      54\n",
       "Name: educacao, dtype: int64"
      ]
     },
     "execution_count": 12,
     "metadata": {},
     "output_type": "execute_result"
    }
   ],
   "source": [
    "# Verifica quais valores aparecem na coluna educacao e quantas vezes aparecem\n",
    "df.educacao.value_counts()"
   ]
  },
  {
   "cell_type": "markdown",
   "metadata": {},
   "source": [
    "Por se tratar de uma quantidade relativamente pequena de valores únicos, iremos usar o loc.\n",
    "\n",
    "```Python\n",
    "df.loc[df['educacao'] == 'primeiro_grau', 'educacao'] = 1\n",
    "df.loc[df['educacao'] == 'segundo_grau', 'educacao'] = 2\n",
    "df.loc[df['educacao'] == 'graduado', 'educacao'] = 3         \n",
    "df.loc[df['educacao'] == 'mestrado', 'educacao'] = 4         \n",
    "df.loc[df['educacao'] == 'doutorado', 'educacao'] = 5     \n",
    "# Converte a coluna educacao para o tipo de dados numérico  \n",
    "df['educacao'] = pd.to_numeric(df['educacao'])    \n",
    "```"
   ]
  },
  {
   "cell_type": "code",
   "execution_count": 13,
   "metadata": {},
   "outputs": [],
   "source": [
    "# Criação de um dicionário para mapeamento de strings para números\n",
    "mapeamento_educacao = {\n",
    "    'primeiro_grau': 1,\n",
    "    'segundo_grau': 2,\n",
    "    'graduado': 3,\n",
    "    'mestrado': 4,\n",
    "    'doutorado': 5\n",
    "}\n",
    "\n",
    "# Utilizando o método replace para substituir os valores com base no dicionário\n",
    "df['educacao'] = df['educacao'].replace(mapeamento_educacao).astype(int)"
   ]
  },
  {
   "cell_type": "code",
   "execution_count": 14,
   "metadata": {},
   "outputs": [
    {
     "data": {
      "text/plain": [
       "casado           854\n",
       "uniao_estavel    568\n",
       "solteiro         477\n",
       "divorciado       230\n",
       "viuvo             76\n",
       "Name: estado_civil, dtype: int64"
      ]
     },
     "execution_count": 14,
     "metadata": {},
     "output_type": "execute_result"
    }
   ],
   "source": [
    "# Verifica quais valores aparecem na coluna estado_civil e quantas vezes aparecem\n",
    "df.estado_civil.value_counts()"
   ]
  },
  {
   "cell_type": "code",
   "execution_count": 15,
   "metadata": {},
   "outputs": [],
   "source": [
    "# Criação de um dicionário para mapeamento de strings para números\n",
    "mapeamento_estado_civil = {\n",
    "    'solteiro': 1,\n",
    "    'uniao_estavel': 2,\n",
    "    'casado': 3,\n",
    "    'divorciado': 4,\n",
    "    'viuvo': 5\n",
    "}\n",
    "\n",
    "# Utilizando o método replace para substituir os valores com base no dicionário\n",
    "df['estado_civil'] = df['estado_civil'].replace(mapeamento_estado_civil).astype(int)"
   ]
  },
  {
   "cell_type": "code",
   "execution_count": 16,
   "metadata": {},
   "outputs": [
    {
     "name": "stdout",
     "output_type": "stream",
     "text": [
      "<class 'pandas.core.frame.DataFrame'>\n",
      "RangeIndex: 2205 entries, 0 to 2204\n",
      "Data columns (total 21 columns):\n",
      " #   Column            Non-Null Count  Dtype  \n",
      "---  ------            --------------  -----  \n",
      " 0   ultima_compra     2205 non-null   int64  \n",
      " 1   visitas           2205 non-null   int64  \n",
      " 2   online            2205 non-null   int64  \n",
      " 3   loja              2205 non-null   int64  \n",
      " 4   catalogo          2205 non-null   int64  \n",
      " 5   descontos         2205 non-null   int64  \n",
      " 6   vinho             2205 non-null   int64  \n",
      " 7   doces             2205 non-null   int64  \n",
      " 8   fruta             2205 non-null   int64  \n",
      " 9   carne             2205 non-null   int64  \n",
      " 10  peixe             2205 non-null   int64  \n",
      " 11  renda             2205 non-null   float64\n",
      " 12  total_gasto       2205 non-null   int64  \n",
      " 13  adolescentes      2205 non-null   int64  \n",
      " 14  criancas          2205 non-null   int64  \n",
      " 15  estado_civil      2205 non-null   int32  \n",
      " 16  educacao          2205 non-null   int32  \n",
      " 17  tempo_cliente     2205 non-null   int64  \n",
      " 18  reclamacao        2205 non-null   int64  \n",
      " 19  idade             2205 non-null   int64  \n",
      " 20  aceitou_campanha  2205 non-null   int64  \n",
      "dtypes: float64(1), int32(2), int64(18)\n",
      "memory usage: 344.7 KB\n"
     ]
    }
   ],
   "source": [
    "# Verifica o tipo de dados das colunas\n",
    "df.info()"
   ]
  },
  {
   "cell_type": "markdown",
   "metadata": {},
   "source": [
    "### 2.2 Separar os dados em X e y"
   ]
  },
  {
   "cell_type": "code",
   "execution_count": 17,
   "metadata": {},
   "outputs": [],
   "source": [
    "X = df.drop('aceitou_campanha', axis = 1)\n",
    "y = df[['aceitou_campanha']]"
   ]
  },
  {
   "cell_type": "markdown",
   "metadata": {},
   "source": [
    "### 2.3 Separar em X e y de treinamento e teste\n",
    "\n",
    "A quantidade de dados utilizados para o teste geralmente  fica entre 40% e 20%. Esta porcentagem de dados para testes é definida no parâmetro test_size.\n",
    "\n",
    "Geralmente é bom ter muitos dados para treinar o modelo (o termo \"muitos\" pode ser subjetivo, mas diria que uma boa quantidade é de 10.000 para cima.), mas como temos uma quantidade pequena de dados (um pouco mais de 2000 registros), irei separar apenas 15% para teste e irá sobrar 85% para treinar o modelo. "
   ]
  },
  {
   "cell_type": "code",
   "execution_count": 18,
   "metadata": {},
   "outputs": [],
   "source": [
    "from sklearn.model_selection import train_test_split\n",
    "\n",
    "# Separa os dados em treinamento e teste com 15% para teste\n",
    "X_train, X_test, y_train, y_test = train_test_split(X, y, test_size=0.15, random_state=42)"
   ]
  },
  {
   "cell_type": "markdown",
   "metadata": {},
   "source": [
    "### 2.4 Normalizar os dados"
   ]
  },
  {
   "cell_type": "code",
   "execution_count": 19,
   "metadata": {},
   "outputs": [],
   "source": [
    "# Importa a biblioteca para normalizar os dados com Min Max \n",
    "from sklearn.preprocessing import MinMaxScaler\n",
    "\n",
    "# Cria um ainstância do normalizador\n",
    "normalizador = MinMaxScaler()\n",
    "\n",
    "# Normaliza o X_train e aprende quais são os valores mínimos e máximos de cada coluna de X\n",
    "X_train = normalizador.fit_transform(X_train)\n",
    "\n",
    "# Normaliza o X_trest com os valores mínimos e máximos de cada coluna de X do X_train\n",
    "X_test = normalizador.transform(X_test)"
   ]
  },
  {
   "cell_type": "markdown",
   "metadata": {},
   "source": [
    "# 3 - Vamos treinar um modelo!!"
   ]
  },
  {
   "cell_type": "code",
   "execution_count": 20,
   "metadata": {},
   "outputs": [],
   "source": [
    "# Bibliotecas apara avaliar desempenho de modelos de machine learning de classificação\n",
    "from sklearn.metrics import classification_report, confusion_matrix\n",
    "\n",
    "# Bibliotecas de Gráficos\n",
    "import matplotlib.pyplot as plt\n",
    "import seaborn as sns"
   ]
  },
  {
   "cell_type": "code",
   "execution_count": 21,
   "metadata": {},
   "outputs": [],
   "source": [
    "def avaliar_model(y_test, y_pred):\n",
    "    # Criando a matriz de confusão\n",
    "    conf_matrix = confusion_matrix(y_test, y_pred)\n",
    "\n",
    "    # Plotando a matriz de confusão com um heatmap\n",
    "    plt.figure(figsize=(8,6))\n",
    "    sns.heatmap(conf_matrix, annot=True, fmt='g', cmap=\"Blues\")\n",
    "    plt.xlabel('Predicted')\n",
    "    plt.ylabel('Actual')\n",
    "    plt.title('Confusion Matrix')\n",
    "    plt.show()\n",
    "\n",
    "    # Exibindo o classification report\n",
    "    print(classification_report(y_test, y_pred))"
   ]
  },
  {
   "cell_type": "code",
   "execution_count": 22,
   "metadata": {},
   "outputs": [
    {
     "name": "stderr",
     "output_type": "stream",
     "text": [
      "C:\\Users\\Rosemary\\AppData\\Local\\Temp\\ipykernel_6656\\1323164729.py:8: DataConversionWarning: A column-vector y was passed when a 1d array was expected. Please change the shape of y to (n_samples,), for example using ravel().\n",
      "  clf.fit(X_train, y_train)\n"
     ]
    },
    {
     "data": {
      "image/png": "[encoded data removed]",
      "text/plain": [
       "<Figure size 800x600 with 2 Axes>"
      ]
     },
     "metadata": {},
     "output_type": "display_data"
    },
    {
     "name": "stdout",
     "output_type": "stream",
     "text": [
      "              precision    recall  f1-score   support\n",
      "\n",
      "           0       0.87      0.99      0.93       281\n",
      "           1       0.75      0.18      0.29        50\n",
      "\n",
      "    accuracy                           0.87       331\n",
      "   macro avg       0.81      0.58      0.61       331\n",
      "weighted avg       0.85      0.87      0.83       331\n",
      "\n"
     ]
    }
   ],
   "source": [
    "from sklearn.ensemble import ExtraTreesClassifier\n",
    "\n",
    "\n",
    "\n",
    "# Cria uma instância do modelo\n",
    "clf = ExtraTreesClassifier()\n",
    "# Treina o modelo com a base de treinamento\n",
    "clf.fit(X_train, y_train)\n",
    "\n",
    "# Realiza a predição dos valores de teste\n",
    "y_pred = clf.predict(X_test)\n",
    "\n",
    "avaliar_model(y_test, y_pred)"
   ]
  },
  {
   "cell_type": "markdown",
   "metadata": {},
   "source": [
    "Bons resultados de acurácia são acurácias acima de 95%. O que não significa que nosso resultado obtido tenha sido horroroso, podemos deduzir dois pontos:\n",
    "* Tivemos poucos dados para treinar o modelo e é necessário que sejam coletados mais dados, ou;\n",
    "* Os dados não posuem uma correlação muito boa para prever bem nossa classe alvo."
   ]
  },
  {
   "cell_type": "markdown",
   "metadata": {},
   "source": [
    "# 4 - E se quisermos testar o nosso algoritmo treinado em novos dados??\n",
    "\n",
    "Podemos preencher manualmente uma planilha no excel, usar o formulário do google ou ja receber uma planilha pronta (em csv ou xlsx).\n",
    "\n",
    "Importante notar que geralmente, os dados novos geralmente não possuem a classe alvo, sendo papel do nosso modelo treinado prever para a classe alvo."
   ]
  },
  {
   "cell_type": "code",
   "execution_count": null,
   "metadata": {},
   "outputs": [],
   "source": [
    "# Repare que estamos lendo um arquivo de excel, não um csv\n",
    "df = pd.read_excel('dados_novos.xlsx')"
   ]
  },
  {
   "cell_type": "code",
   "execution_count": null,
   "metadata": {},
   "outputs": [],
   "source": [
    "df.head()"
   ]
  },
  {
   "cell_type": "code",
   "execution_count": null,
   "metadata": {},
   "outputs": [],
   "source": [
    "df.shape"
   ]
  },
  {
   "cell_type": "markdown",
   "metadata": {},
   "source": [
    "Assim como realizamos o tratamento dos dados anteriormente, agora também temos que converter dados textuais para numéricos e em seguida normalizar com os valores de df_normalizar\n",
    "\n",
    "Para converter os dados textuais para numéricos é muito simples, basta usar os mesmos códigos de antes:"
   ]
  },
  {
   "cell_type": "code",
   "execution_count": null,
   "metadata": {},
   "outputs": [],
   "source": [
    "# Criação de um dicionário para mapeamento de strings para números\n",
    "mapeamento_educacao = {\n",
    "    'primeiro_grau': 1,\n",
    "    'segundo_grau': 2,\n",
    "    'graduado': 3,\n",
    "    'mestrado': 4,\n",
    "    'doutorado': 5\n",
    "}\n",
    "\n",
    "# Utilizando o método replace para substituir os valores com base no dicionário\n",
    "df['educacao'] = df['educacao'].replace(mapeamento_educacao).astype(int)\n",
    "\n",
    "# Criação de um dicionário para mapeamento de strings para números\n",
    "mapeamento_estado_civil = {\n",
    "    'solteiro': 1,\n",
    "    'uniao_estavel': 2,\n",
    "    'casado': 3,\n",
    "    'divorciado': 4,\n",
    "    'viuvo': 5\n",
    "}\n",
    "\n",
    "# Utilizando o método replace para substituir os valores com base no dicionário\n",
    "df['estado_civil'] = df['estado_civil'].replace(mapeamento_estado_civil).astype(int)"
   ]
  },
  {
   "cell_type": "markdown",
   "metadata": {},
   "source": [
    "Agora só queremos fazer previsões nos novos dados, logo, não precisamos separar em treinamento e teste.\n",
    "\n",
    "Como mencionado anteriormente, os novos dados necessitam ser normalizados com os valores utilizados nos dados de treinamento do modelo."
   ]
  },
  {
   "cell_type": "code",
   "execution_count": null,
   "metadata": {},
   "outputs": [],
   "source": [
    "# Normaliza o dataframe com novos dados com os valores mínimos e máximos de cada coluna de X do X_train\n",
    "X = normalizador.transform(df)"
   ]
  },
  {
   "cell_type": "markdown",
   "metadata": {},
   "source": [
    "Agora, é importante notar, que os novos dados que desejamos prever, não possuem a classe alvo, logo não é possível calcular a acurácia nem a matriz de confusão.\n",
    "\n",
    "Também não é necessário realizar a separação da base em treinamento e teste (pois temos já treinamos e testamos o modelo), basta usar o df_norm para o modelo prever os valores da classe alvo\n",
    "\n",
    "Após realizar a previsão de cada registro, será criada uma lista de valores preditos que poderemos alocar na classe alvo do Data Frame df"
   ]
  },
  {
   "cell_type": "code",
   "execution_count": null,
   "metadata": {},
   "outputs": [],
   "source": [
    "# Realiza a predição dos valores de teste\n",
    "y_pred = clf.predict(X)\n",
    "\n",
    "# Criamos a coluna aceitou_campanha\n",
    "# e alocamos os valores preditos para\n",
    "# a coluna \n",
    "df['aceitou_campanha'] = y_pred\n",
    "\n",
    "# Exibe os dados novos e os respectivos valores preditos\n",
    "df"
   ]
  },
  {
   "cell_type": "markdown",
   "metadata": {},
   "source": [
    "# Exercícios\n",
    "\n",
    "A base de dados `preco_carros.csv` possui informaçõs sobre valores de carros no reino unido.\n",
    "\n",
    "\n",
    "## Contexto\n",
    "Os dados foram extraídos de vários sites na República Tcheca e na Alemanha durante um período de mais de um ano. Originalmente, eu queria construir um modelo para estimar se um carro é uma boa ou má compra com base na postagem. \n",
    "Mas não consegui criar um modelo com o qual pudesse ficar satisfeito e agora não tenho utilidade para esses dados. Eu acredito muito em dados abertos, então aqui vai.\n",
    "\n",
    "## OBS\n",
    "Os dados foram ajustados lentamente ao longo do ano e algumas das fontes foram completamente desestruturadas, portanto, como resultado, os dados estão sujos, há valores ausentes e alguns valores obviamente errados (por exemplo, números de telefone raspados como quilometragem, etc.)\n",
    "\n",
    "Existem aproximadamente 3,5 milhões de linhas e as seguintes colunas:\n",
    "\n",
    "maker - normalizou todas as letras minúsculas\n",
    "\n",
    "modelo - tudo normalizado em minúsculas\n",
    "\n",
    "quilometragem - em KM\n",
    "\n",
    "ano_fabricação\n",
    "\n",
    "engine_displacement - em ccm\n",
    "\n",
    "engine_power - em kW\n",
    "\n",
    "body_type - quase nunca presente, mas raspei apenas carros pessoais, sem motocicletas ou veículos utilitários\n",
    "\n",
    "color_slug - também quase nunca presente\n",
    "\n",
    "stk_year - ano do último controle de emissão\n",
    "\n",
    "transmissão - automática ou manual\n",
    "\n",
    "porta_contagem\n",
    "\n",
    "assento_contagem\n",
    "\n",
    "fuel_type - gasolina, diesel, elétrico\n",
    "\n",
    "\n",
    "# Exercício\n",
    "\n",
    "1 - Realize a leitura da base de dados;\n",
    "\n",
    "2 - Realize uma análise da base de dados (Tipo de dados das colunas, quantidade e porcentagem de valores nulos por coluna, descrição de valores...);\n",
    "\n",
    "3 - Realize o tratamento de valores nulos de acordo com o que vimos sábado passado;\n",
    "\n",
    "4 - Realize a conversão dos valores textuais para numéricos;\n",
    "\n",
    "5 - Separe os dados em X e y (A classe alvo vai ser o tipo de combustível, coluna \"fuel_type\");\n",
    "\n",
    "6 - Separe os dados em X e y de Treinamento e Teste (30% para teste)\n",
    "\n",
    "7 - Realize a normalização do X de treinamento e em seguida X de teste;\n",
    "\n",
    "8 - Aplique a base de treinamento em no mínimo 4 modelos;\n",
    "\n",
    "9 - Verifique qual modelo resultou nas melhores métricas;"
   ]
  },
  {
   "cell_type": "code",
   "execution_count": null,
   "metadata": {},
   "outputs": [],
   "source": []
  },
  {
   "cell_type": "code",
   "execution_count": null,
   "metadata": {},
   "outputs": [],
   "source": []
  },
  {
   "cell_type": "code",
   "execution_count": null,
   "metadata": {},
   "outputs": [],
   "source": []
  },
  {
   "cell_type": "code",
   "execution_count": null,
   "metadata": {},
   "outputs": [],
   "source": []
  },
  {
   "cell_type": "code",
   "execution_count": null,
   "metadata": {},
   "outputs": [],
   "source": []
  },
  {
   "cell_type": "code",
   "execution_count": null,
   "metadata": {},
   "outputs": [],
   "source": []
  },
  {
   "cell_type": "code",
   "execution_count": null,
   "metadata": {},
   "outputs": [],
   "source": []
  },
  {
   "cell_type": "code",
   "execution_count": null,
   "metadata": {},
   "outputs": [],
   "source": []
  },
  {
   "cell_type": "code",
   "execution_count": null,
   "metadata": {},
   "outputs": [],
   "source": []
  },
  {
   "cell_type": "code",
   "execution_count": null,
   "metadata": {},
   "outputs": [],
   "source": []
  },
  {
   "cell_type": "code",
   "execution_count": null,
   "metadata": {},
   "outputs": [],
   "source": []
  },
  {
   "cell_type": "code",
   "execution_count": null,
   "metadata": {},
   "outputs": [],
   "source": []
  },
  {
   "cell_type": "code",
   "execution_count": null,
   "metadata": {},
   "outputs": [],
   "source": []
  },
  {
   "cell_type": "code",
   "execution_count": null,
   "metadata": {},
   "outputs": [],
   "source": []
  },
  {
   "cell_type": "code",
   "execution_count": null,
   "metadata": {},
   "outputs": [],
   "source": []
  },
  {
   "cell_type": "code",
   "execution_count": null,
   "metadata": {},
   "outputs": [],
   "source": []
  },
  {
   "cell_type": "code",
   "execution_count": null,
   "metadata": {},
   "outputs": [],
   "source": []
  },
  {
   "cell_type": "code",
   "execution_count": null,
   "metadata": {},
   "outputs": [],
   "source": []
  },
  {
   "cell_type": "code",
   "execution_count": null,
   "metadata": {},
   "outputs": [],
   "source": []
  },
  {
   "cell_type": "code",
   "execution_count": null,
   "metadata": {},
   "outputs": [],
   "source": []
  },
  {
   "cell_type": "code",
   "execution_count": null,
   "metadata": {},
   "outputs": [],
   "source": []
  },
  {
   "cell_type": "code",
   "execution_count": null,
   "metadata": {},
   "outputs": [],
   "source": []
  },
  {
   "cell_type": "code",
   "execution_count": null,
   "metadata": {},
   "outputs": [],
   "source": []
  },
  {
   "cell_type": "code",
   "execution_count": null,
   "metadata": {},
   "outputs": [],
   "source": []
  },
  {
   "cell_type": "code",
   "execution_count": null,
   "metadata": {},
   "outputs": [],
   "source": []
  },
  {
   "cell_type": "code",
   "execution_count": null,
   "metadata": {},
   "outputs": [],
   "source": []
  },
  {
   "cell_type": "code",
   "execution_count": null,
   "metadata": {},
   "outputs": [],
   "source": []
  },
  {
   "cell_type": "code",
   "execution_count": null,
   "metadata": {},
   "outputs": [],
   "source": []
  },
  {
   "cell_type": "code",
   "execution_count": null,
   "metadata": {},
   "outputs": [],
   "source": []
  },
  {
   "cell_type": "code",
   "execution_count": null,
   "metadata": {},
   "outputs": [],
   "source": []
  },
  {
   "cell_type": "code",
   "execution_count": null,
   "metadata": {},
   "outputs": [],
   "source": []
  },
  {
   "cell_type": "code",
   "execution_count": null,
   "metadata": {},
   "outputs": [],
   "source": []
  },
  {
   "cell_type": "code",
   "execution_count": null,
   "metadata": {},
   "outputs": [],
   "source": []
  },
  {
   "cell_type": "code",
   "execution_count": null,
   "metadata": {},
   "outputs": [],
   "source": []
  },
  {
   "cell_type": "code",
   "execution_count": null,
   "metadata": {},
   "outputs": [],
   "source": []
  },
  {
   "cell_type": "code",
   "execution_count": null,
   "metadata": {},
   "outputs": [],
   "source": []
  },
  {
   "cell_type": "code",
   "execution_count": null,
   "metadata": {},
   "outputs": [],
   "source": []
  },
  {
   "cell_type": "code",
   "execution_count": null,
   "metadata": {},
   "outputs": [],
   "source": []
  },
  {
   "cell_type": "code",
   "execution_count": null,
   "metadata": {},
   "outputs": [],
   "source": []
  }
 ],
 "metadata": {
  "kernelspec": {
   "display_name": "Python 3 (ipykernel)",
   "language": "python",
   "name": "python3"
  },
  "language_info": {
   "codemirror_mode": {
    "name": "ipython",
    "version": 3
   },
   "file_extension": ".py",
   "mimetype": "text/x-python",
   "name": "python",
   "nbconvert_exporter": "python",
   "pygments_lexer": "ipython3",
   "version": "3.9.13"
  },
  "vscode": {
   "interpreter": {
    "hash": "f43ba6cefd8f24580ff42e8af3aabb69fa421e7aad4e479f4a62a25e10b01fe1"
   }
  }
 },
 "nbformat": 4,
 "nbformat_minor": 2
}
