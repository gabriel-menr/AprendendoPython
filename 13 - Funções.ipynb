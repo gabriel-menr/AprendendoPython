{
 "cells": [
  {
   "cell_type": "markdown",
   "metadata": {},
   "source": [
    "# Parte 1: Introdução às Funções\n",
    "\n",
    "## 1. Definição e Uso de Funções\n",
    "\n",
    "### Objetivos:\n",
    "- Explicar o que são funções em Python.\n",
    "- Discutir por que as funções são úteis na programação.\n",
    "- Apresentar a estrutura básica de uma função.\n",
    "\n",
    "### Conteúdo:\n",
    "\n",
    "#### A. O que são Funções?\n",
    "- Funções são blocos de código reutilizáveis que são usados para realizar uma tarefa específica.\n",
    "- Elas ajudam a tornar o código mais organizado, legível e permitem a reutilização de código.\n",
    "- Funções podem ser chamadas várias vezes dentro de um programa, potencialmente com diferentes argumentos.\n",
    "\n",
    "#### B. Estrutura Básica de uma Função\n",
    "- **Definição da Função**: Usa-se a palavra-chave `def` seguida pelo nome da função e parênteses `()`.\n",
    "- **Parâmetros da Função**: Variáveis listadas dentro dos parênteses. São os inputs da função.\n",
    "- **Corpo da Função**: Bloco de código onde a tarefa da função é realizada.\n",
    "- **Retorno da Função**: Opcionalmente, funções podem retornar valores usando a palavra-chave `return`.\n",
    "\n",
    "### Exemplo de Código:\n",
    "\n",
    "\n"
   ]
  },
  {
   "cell_type": "code",
   "execution_count": 1,
   "metadata": {},
   "outputs": [
    {
     "name": "stdout",
     "output_type": "stream",
     "text": [
      "Olá, Alice!\n"
     ]
    }
   ],
   "source": [
    "# Exemplo de função em Python\n",
    "\n",
    "# Definindo uma função\n",
    "def saudar(nome):\n",
    "    \"\"\"\n",
    "    Função para saudar uma pessoa.\n",
    "    Parâmetros:\n",
    "    nome (str): Nome da pessoa a ser saudada.\n",
    "    \"\"\"\n",
    "    # Criando uma mensagem de saudação\n",
    "    mensagem = f\"Olá, {nome}!\"\n",
    "    # Retornando a mensagem\n",
    "    return mensagem\n",
    "\n",
    "# Chamando a função e passando um argumento\n",
    "resultado = saudar(\"Alice\")\n",
    "print(resultado)  # Saída esperada: \"Olá, Alice!\""
   ]
  },
  {
   "cell_type": "code",
   "execution_count": 2,
   "metadata": {},
   "outputs": [
    {
     "name": "stdout",
     "output_type": "stream",
     "text": [
      "Olá, Pedro!\n"
     ]
    }
   ],
   "source": [
    "# Chamando a função e passando um argumento\n",
    "resultado = saudar(\"Pedro\")\n",
    "print(resultado)  # Saída esperada: \"Olá, Pedro!\""
   ]
  },
  {
   "cell_type": "code",
   "execution_count": 3,
   "metadata": {},
   "outputs": [
    {
     "name": "stdout",
     "output_type": "stream",
     "text": [
      "Olá, Roberta!\n"
     ]
    }
   ],
   "source": [
    "# Chamando a função e passando um argumento\n",
    "resultado = saudar(\"Roberta\")\n",
    "print(resultado)  # Saída esperada: \"Olá, Roberta!\""
   ]
  },
  {
   "cell_type": "code",
   "execution_count": 4,
   "metadata": {},
   "outputs": [
    {
     "ename": "TypeError",
     "evalue": "saudar() missing 1 required positional argument: 'nome'",
     "output_type": "error",
     "traceback": [
      "\u001b[1;31m---------------------------------------------------------------------------\u001b[0m",
      "\u001b[1;31mTypeError\u001b[0m                                 Traceback (most recent call last)",
      "Cell \u001b[1;32mIn[4], line 2\u001b[0m\n\u001b[0;32m      1\u001b[0m \u001b[38;5;66;03m# Chamando a função sem passar um argumento\u001b[39;00m\n\u001b[1;32m----> 2\u001b[0m resultado \u001b[38;5;241m=\u001b[39m saudar()\n",
      "\u001b[1;31mTypeError\u001b[0m: saudar() missing 1 required positional argument: 'nome'"
     ]
    }
   ],
   "source": [
    "# Chamando a função sem passar um argumento\n",
    "resultado = saudar()"
   ]
  },
  {
   "cell_type": "code",
   "execution_count": 5,
   "metadata": {},
   "outputs": [
    {
     "name": "stdout",
     "output_type": "stream",
     "text": [
      "8\n"
     ]
    }
   ],
   "source": [
    "# Exemplo de função para somar dois números\n",
    "\n",
    "# Definindo a função\n",
    "def somar(num1, num2):\n",
    "    \"\"\"\n",
    "    Função para somar dois números.\n",
    "    Parâmetros:\n",
    "    num1 (int, float): Primeiro número a ser somado.\n",
    "    num2 (int, float): Segundo número a ser somado.\n",
    "    \"\"\"\n",
    "    # Realizando a soma\n",
    "    resultado = num1 + num2\n",
    "    # Retornando o resultado\n",
    "    return resultado\n",
    "\n",
    "# Chamando a função e passando dois números\n",
    "soma = somar(5, 3)\n",
    "print(soma)  # Saída esperada: 8"
   ]
  },
  {
   "cell_type": "code",
   "execution_count": 6,
   "metadata": {},
   "outputs": [
    {
     "name": "stdout",
     "output_type": "stream",
     "text": [
      "35\n"
     ]
    }
   ],
   "source": [
    "soma = somar(5, 30)\n",
    "print(soma)  # Saída esperada: 35"
   ]
  },
  {
   "cell_type": "code",
   "execution_count": 7,
   "metadata": {},
   "outputs": [
    {
     "ename": "TypeError",
     "evalue": "somar() missing 1 required positional argument: 'num2'",
     "output_type": "error",
     "traceback": [
      "\u001b[1;31m---------------------------------------------------------------------------\u001b[0m",
      "\u001b[1;31mTypeError\u001b[0m                                 Traceback (most recent call last)",
      "Cell \u001b[1;32mIn[7], line 2\u001b[0m\n\u001b[0;32m      1\u001b[0m \u001b[38;5;66;03m# Chamar a função sem os parâmetros definidos\u001b[39;00m\n\u001b[1;32m----> 2\u001b[0m soma \u001b[38;5;241m=\u001b[39m somar(\u001b[38;5;241m5\u001b[39m, )\n\u001b[0;32m      3\u001b[0m \u001b[38;5;28mprint\u001b[39m(soma)\n",
      "\u001b[1;31mTypeError\u001b[0m: somar() missing 1 required positional argument: 'num2'"
     ]
    }
   ],
   "source": [
    "# Chamar a função sem os parâmetros definidos\n",
    "soma = somar(5, )\n",
    "print(soma)  # Saída esperada: 35"
   ]
  },
  {
   "cell_type": "markdown",
   "metadata": {},
   "source": [
    "## 3. Parâmetros e Argumentos\n",
    "\n",
    "### Objetivos:\n",
    "- Explicar os tipos de parâmetros em funções: obrigatórios e opcionais.\n",
    "- Clarificar a diferença entre parâmetros e argumentos.\n",
    "\n",
    "### Conteúdo:\n",
    "\n",
    "#### A. Tipos de Parâmetros\n",
    "- **Parâmetros Obrigatórios**: São aqueles que a função espera receber e sem os quais não pode operar corretamente.\n",
    "- **Parâmetros Opcionais**: Frequentemente definidos com valores padrão, que a função usará caso não sejam fornecidos argumentos para eles.\n",
    "\n",
    "#### B. Diferença entre Parâmetros e Argumentos\n",
    "- **Parâmetros** são as variáveis listadas na definição de uma função.\n",
    "- **Argumentos** são os valores reais fornecidos à função quando ela é chamada.\n",
    "\n",
    "### Exemplo de Código:"
   ]
  },
  {
   "cell_type": "code",
   "execution_count": 8,
   "metadata": {},
   "outputs": [
    {
     "name": "stdout",
     "output_type": "stream",
     "text": [
      "Meu nome é Alice e tenho 25 anos.\n",
      "Meu nome é Bob e tenho 30 anos.\n"
     ]
    }
   ],
   "source": [
    "# Exemplo de função com parâmetros obrigatórios e opcionais\n",
    "\n",
    "def introduzir(nome, idade=30):\n",
    "    \"\"\"\n",
    "    Função para introduzir uma pessoa, mostrando seu nome e idade.\n",
    "    Parâmetros:\n",
    "    nome (str): Nome da pessoa (obrigatório).\n",
    "    idade (int): Idade da pessoa (opcional, padrão 30).\n",
    "    \"\"\"\n",
    "    # Construindo a mensagem de introdução\n",
    "    mensagem = f\"Meu nome é {nome} e tenho {idade} anos.\"\n",
    "    return mensagem\n",
    "\n",
    "# Chamando a função com ambos os parâmetros\n",
    "print(introduzir(\"Alice\", 25))  # Saída: Meu nome é Alice e tenho 25 anos.\n",
    "\n",
    "# Chamando a função apenas com o parâmetro obrigatório\n",
    "print(introduzir(\"Bob\"))  # Saída: Meu nome é Bob e tenho 30 anos."
   ]
  },
  {
   "cell_type": "code",
   "execution_count": 9,
   "metadata": {},
   "outputs": [
    {
     "ename": "TypeError",
     "evalue": "introduzir() missing 1 required positional argument: 'nome'",
     "output_type": "error",
     "traceback": [
      "\u001b[1;31m---------------------------------------------------------------------------\u001b[0m",
      "\u001b[1;31mTypeError\u001b[0m                                 Traceback (most recent call last)",
      "Cell \u001b[1;32mIn[9], line 2\u001b[0m\n\u001b[0;32m      1\u001b[0m \u001b[38;5;66;03m# Chamando a função sem parâmetros obrigatório\u001b[39;00m\n\u001b[1;32m----> 2\u001b[0m introduzir()\n",
      "\u001b[1;31mTypeError\u001b[0m: introduzir() missing 1 required positional argument: 'nome'"
     ]
    }
   ],
   "source": [
    "# Chamando a função sem parâmetros obrigatório\n",
    "introduzir()"
   ]
  },
  {
   "cell_type": "code",
   "execution_count": null,
   "metadata": {},
   "outputs": [],
   "source": []
  },
  {
   "cell_type": "markdown",
   "metadata": {},
   "source": [
    "# Parte 2: Aprofundamento em Funções\n",
    "\n",
    "## 1. Escopo de Variáveis\n",
    "\n",
    "### Objetivos:\n",
    "- Ensinar o conceito de escopo de variáveis em Python.\n",
    "- Diferenciar entre variáveis locais e globais.\n",
    "- Discutir boas práticas no uso de variáveis em funções.\n",
    "\n",
    "### Conteúdo:\n",
    "\n",
    "#### A. Variáveis Locais e Globais\n",
    "- **Variáveis Locais**: Variáveis definidas dentro de uma função, acessíveis apenas dentro dessa função.\n",
    "- **Variáveis Globais**: Variáveis definidas fora de qualquer função, acessíveis em qualquer parte do código.\n",
    "\n",
    "#### B. Boas Práticas no Uso de Variáveis\n",
    "- Evitar o uso excessivo de variáveis globais, pois podem levar a erros difíceis de rastrear.\n",
    "- Preferir variáveis locais para manter o código mais claro e modular.\n",
    "\n",
    "### Exemplo de Código:"
   ]
  },
  {
   "cell_type": "code",
   "execution_count": 12,
   "metadata": {},
   "outputs": [
    {
     "name": "stdout",
     "output_type": "stream",
     "text": [
      "50\n"
     ]
    }
   ],
   "source": [
    "# Exemplo demonstrando escopo local e global de variáveis\n",
    "\n",
    "# Variável global\n",
    "numero = 10  # Esta variável é global e pode ser acessada em qualquer parte do código\n",
    "\n",
    "def multiplicar(valor):\n",
    "    # Variável local\n",
    "    resultado_mult = numero * valor  # 'resultado' é uma variável local, acessível apenas dentro desta função\n",
    "    return resultado_mult\n",
    "\n",
    "# Chamando a função e imprimindo o resultado\n",
    "print(multiplicar(5))  # Saída esperada: 50"
   ]
  },
  {
   "cell_type": "code",
   "execution_count": 14,
   "metadata": {},
   "outputs": [
    {
     "ename": "NameError",
     "evalue": "name 'resultado_mult' is not defined",
     "output_type": "error",
     "traceback": [
      "\u001b[1;31m---------------------------------------------------------------------------\u001b[0m",
      "\u001b[1;31mNameError\u001b[0m                                 Traceback (most recent call last)",
      "Cell \u001b[1;32mIn[14], line 2\u001b[0m\n\u001b[0;32m      1\u001b[0m \u001b[38;5;66;03m# Tentativa de acessar a variável local fora da função resultará em erro\u001b[39;00m\n\u001b[1;32m----> 2\u001b[0m \u001b[38;5;28mprint\u001b[39m(resultado_mult)\n",
      "\u001b[1;31mNameError\u001b[0m: name 'resultado_mult' is not defined"
     ]
    }
   ],
   "source": [
    "# Tentativa de acessar a variável local fora da função resultará em erro\n",
    "print(resultado_mult)  # Isso causará um erro porque 'resultado' é local para a função multiplicar"
   ]
  },
  {
   "cell_type": "markdown",
   "metadata": {},
   "source": [
    "# Parte 2: Aprofundamento em Funções\n",
    "\n",
    "## 2. Valores de Retorno\n",
    "\n",
    "### Objetivos:\n",
    "- Ensinar como as funções podem retornar valores.\n",
    "- Explicar o uso de `return` para retornar valores simples e múltiplos.\n",
    "- Discutir como `return` também pode ser usado para encerrar a execução de uma função.\n",
    "\n",
    "### Conteúdo:\n",
    "\n",
    "#### A. Retorno de Valores Simples\n",
    "- Uma função pode retornar um único valor usando a palavra-chave `return`.\n",
    "\n",
    "#### B. Retorno de Múltiplos Valores\n",
    "- Uma função pode retornar vários valores, geralmente na forma de uma tupla.\n",
    "\n",
    "#### C. Uso de `return` para Encerrar a Função\n",
    "- A palavra-chave `return` também pode ser usada para sair de uma função, encerrando sua execução.\n",
    "\n",
    "### Exemplo de Código:"
   ]
  },
  {
   "cell_type": "code",
   "execution_count": 15,
   "metadata": {},
   "outputs": [
    {
     "name": "stdout",
     "output_type": "stream",
     "text": [
      "Soma: 15, Multiplicação: 50\n"
     ]
    }
   ],
   "source": [
    "# Exemplo de função com valores de retorno simples e múltiplos\n",
    "\n",
    "def calcular_operacoes(a, b):\n",
    "    \"\"\"\n",
    "    Função para calcular a soma e multiplicação de dois números.\n",
    "    Parâmetros:\n",
    "    a (int, float): Primeiro número.\n",
    "    b (int, float): Segundo número.\n",
    "    \n",
    "    Retorna:\n",
    "    soma (int, float): Soma de a e b.\n",
    "    multiplicacao (int, float): Multiplicação de a e b.\n",
    "    \"\"\"\n",
    "    soma = a + b\n",
    "    multiplicacao = a * b\n",
    "    # Retornando múltiplos valores\n",
    "    return soma, multiplicacao\n",
    "\n",
    "# Chamando a função e desempacotando os valores retornados\n",
    "soma_resultado, multiplicacao_resultado = calcular_operacoes(10, 5)\n",
    "print(f\"Soma: {soma_resultado}, Multiplicação: {multiplicacao_resultado}\")\n",
    "# Saída esperada: Soma: 15, Multiplicação: 50"
   ]
  },
  {
   "cell_type": "markdown",
   "metadata": {},
   "source": [
    "# Parte 2: Aprofundamento em Funções\n",
    "\n",
    "## 3. Funções como Objetos de Primeira Classe\n",
    "\n",
    "### Objetivos:\n",
    "- Ensinar como funções podem ser tratadas como objetos de primeira classe em Python.\n",
    "- Mostrar como atribuir funções a variáveis.\n",
    "- Explicar como passar funções como argumentos para outras funções.\n",
    "\n",
    "### Conteúdo:\n",
    "\n",
    "#### A. Atribuição de Funções a Variáveis\n",
    "- Em Python, funções são objetos e podem ser atribuídas a variáveis.\n",
    "\n",
    "#### B. Passagem de Funções como Argumentos\n",
    "- Funções podem ser passadas como argumentos para outras funções.\n",
    "\n",
    "### Exemplo de Código:"
   ]
  },
  {
   "cell_type": "code",
   "execution_count": 16,
   "metadata": {},
   "outputs": [
    {
     "name": "stdout",
     "output_type": "stream",
     "text": [
      "Olá, Alice!\n"
     ]
    }
   ],
   "source": [
    "# Exemplo de funções como objetos de primeira classe\n",
    "\n",
    "# Definindo uma função simples\n",
    "def saudar(nome):\n",
    "    return f\"Olá, {nome}!\"\n",
    "\n",
    "# Atribuindo a função a uma variável\n",
    "funcao_saudar = saudar\n",
    "# Chamando a função através da variável\n",
    "print(funcao_saudar(\"Alice\"))  # Saída: Olá, Alice!"
   ]
  },
  {
   "cell_type": "code",
   "execution_count": 17,
   "metadata": {},
   "outputs": [
    {
     "data": {
      "text/plain": [
       "'Olá, Alice!'"
      ]
     },
     "execution_count": 17,
     "metadata": {},
     "output_type": "execute_result"
    }
   ],
   "source": [
    "funcao_saudar(\"Alice\")"
   ]
  },
  {
   "cell_type": "code",
   "execution_count": 18,
   "metadata": {},
   "outputs": [
    {
     "name": "stdout",
     "output_type": "stream",
     "text": [
      "Olá, Alice!\n"
     ]
    }
   ],
   "source": [
    "print(funcao_saudar(\"Alice\"))"
   ]
  },
  {
   "cell_type": "code",
   "execution_count": null,
   "metadata": {},
   "outputs": [],
   "source": [
    "# Definindo uma função que aceita outra função como argumento\n",
    "def executar_funcao(funcao, argumento):\n",
    "    return funcao(argumento)\n",
    "\n",
    "# Passando a função 'saudar' como argumento\n",
    "resultado = executar_funcao(saudar, \"Bob\")\n",
    "print(resultado)  # Saída: Olá, Bob!"
   ]
  },
  {
   "cell_type": "markdown",
   "metadata": {},
   "source": [
    "# Exercícios de Python - Funções e Exceções\n"
   ]
  },
  {
   "cell_type": "markdown",
   "metadata": {},
   "source": [
    "\n",
    "## Definição e Uso de Funções\n",
    "1. Escreva uma função `greet` que imprima \"Olá, Mundo!\".\n",
    "2. Crie uma função `add` que some dois números e retorne o resultado.\n"
   ]
  },
  {
   "cell_type": "code",
   "execution_count": 19,
   "metadata": {},
   "outputs": [
    {
     "name": "stdout",
     "output_type": "stream",
     "text": [
      "Hello, world\n"
     ]
    }
   ],
   "source": [
    "# Exercício 1 \n",
    "def greet():\n",
    "    print('Hello, world')\n",
    "greet()"
   ]
  },
  {
   "cell_type": "code",
   "execution_count": 21,
   "metadata": {},
   "outputs": [
    {
     "data": {
      "text/plain": [
       "3"
      ]
     },
     "execution_count": 21,
     "metadata": {},
     "output_type": "execute_result"
    }
   ],
   "source": [
    "# Exercício 2\n",
    "def add (num1,num2):\n",
    "    soma = num1 + num2\n",
    "    return soma\n",
    "add(1,2)"
   ]
  },
  {
   "cell_type": "markdown",
   "metadata": {},
   "source": [
    "\n",
    "## Exemplos Básicos\n",
    "3. Desenvolva uma função `subtract` que subtraia dois números.\n",
    "4. Implemente uma função `multiply` que multiplique dois números e imprima o resultado.\n"
   ]
  },
  {
   "cell_type": "code",
   "execution_count": null,
   "metadata": {},
   "outputs": [],
   "source": [
    "# Exercício 3\n",
    "def subtract (num1,num2):\n",
    "    subtracao = num1 - num2\n",
    "    return subtracaom\n",
    "subtract(3,1)"
   ]
  },
  {
   "cell_type": "code",
   "execution_count": 23,
   "metadata": {},
   "outputs": [
    {
     "data": {
      "text/plain": [
       "25"
      ]
     },
     "execution_count": 23,
     "metadata": {},
     "output_type": "execute_result"
    }
   ],
   "source": [
    "# Exercício 4\n",
    "def multiply (num1,num2):\n",
    "    mult = num1 * num2\n",
    "    return mult\n",
    "multiply(5,5)"
   ]
  },
  {
   "cell_type": "markdown",
   "metadata": {},
   "source": [
    "\n",
    "## Parâmetros e Argumentos\n",
    "5. Crie uma função `power` que aceite um número e seu expoente como parâmetros.\n",
    "6. Escreva uma função `greet_person` que aceite um nome como parâmetro e imprima uma saudação.\n"
   ]
  },
  {
   "cell_type": "code",
   "execution_count": 24,
   "metadata": {},
   "outputs": [
    {
     "data": {
      "text/plain": [
       "4"
      ]
     },
     "execution_count": 24,
     "metadata": {},
     "output_type": "execute_result"
    }
   ],
   "source": [
    "# Exercício 5\n",
    "def power (num):\n",
    "    pow = num ** num \n",
    "    return pow\n",
    "power(2)"
   ]
  },
  {
   "cell_type": "code",
   "execution_count": 25,
   "metadata": {},
   "outputs": [
    {
     "data": {
      "text/plain": [
       "'ola Mohamed'"
      ]
     },
     "execution_count": 25,
     "metadata": {},
     "output_type": "execute_result"
    }
   ],
   "source": [
    "# Exercício 6\n",
    "def great_person (nome):\n",
    "    sauda = f'ola {nome}'\n",
    "    return sauda\n",
    "great_person('Mohamed')"
   ]
  },
  {
   "cell_type": "markdown",
   "metadata": {},
   "source": [
    "\n",
    "## Escopo de Variáveis\n",
    "7. Demonstre uma função que modifique uma variável global.\n",
    "8. Crie uma função com uma variável local e imprima seu valor.\n"
   ]
  },
  {
   "cell_type": "code",
   "execution_count": 6,
   "metadata": {},
   "outputs": [
    {
     "data": {
      "text/plain": [
       "20"
      ]
     },
     "execution_count": 6,
     "metadata": {},
     "output_type": "execute_result"
    }
   ],
   "source": [
    "# Exercício 7\n",
    "numero = 18\n",
    "def soma_numero (num):\n",
    "    global numero\n",
    "    numero_somado = num + numero\n",
    "    numero = numero_somado\n",
    "    return numero \n",
    "soma_numero(2)"
   ]
  },
  {
   "cell_type": "code",
   "execution_count": 32,
   "metadata": {},
   "outputs": [
    {
     "data": {
      "text/plain": [
       "'papas'"
      ]
     },
     "execution_count": 32,
     "metadata": {},
     "output_type": "execute_result"
    }
   ],
   "source": [
    "# Exercício 8\n",
    "def batata ():\n",
    "    chips = 'papas'\n",
    "    return chips\n",
    "batata()"
   ]
  },
  {
   "cell_type": "markdown",
   "metadata": {},
   "source": [
    "\n",
    "## Valores de Retorno\n",
    "9. Escreva uma função `divide` que divida dois números e retorne o resultado.\n",
    "10. Implemente uma função `stats` que retorne a soma, média, e o produto de uma lista de números.\n"
   ]
  },
  {
   "cell_type": "code",
   "execution_count": 33,
   "metadata": {},
   "outputs": [
    {
     "data": {
      "text/plain": [
       "2.0"
      ]
     },
     "execution_count": 33,
     "metadata": {},
     "output_type": "execute_result"
    }
   ],
   "source": [
    "# Exercício 9\n",
    "def divide (num1,num2):\n",
    "    div = num1 / num2\n",
    "    return div\n",
    "divide(4,2)"
   ]
  },
  {
   "cell_type": "code",
   "execution_count": 42,
   "metadata": {},
   "outputs": [
    {
     "data": {
      "text/plain": [
       "(30, 3.0, 13824)"
      ]
     },
     "execution_count": 42,
     "metadata": {},
     "output_type": "execute_result"
    }
   ],
   "source": [
    "# Exercício 10\n",
    "lista = [1,2,3,6,4,4,4,3,2,1]\n",
    "\n",
    "def stats (lista_num):\n",
    "    soma_lista = sum(lista_num)\n",
    "    media_lista = sum(lista_num)/len(lista_num)\n",
    "    produto = 1\n",
    "    for item in lista_num:\n",
    "        produto *= item\n",
    "        \n",
    "\n",
    "    return soma_lista, media_lista, produto\n",
    "\n",
    "stats(lista)\n",
    "\n",
    "    "
   ]
  },
  {
   "cell_type": "markdown",
   "metadata": {},
   "source": [
    "\n",
    "## Funções como Objetos de Primeira Classe\n",
    "11. Atribua a função `add` a uma variável e chame-a através dessa variável.\n",
    "12. Escreva uma função `apply` que receba uma função e um valor, e aplique a função ao valor.\n"
   ]
  },
  {
   "cell_type": "code",
   "execution_count": 5,
   "metadata": {},
   "outputs": [
    {
     "name": "stdout",
     "output_type": "stream",
     "text": [
      "A soma da 6\n"
     ]
    }
   ],
   "source": [
    "# Exercício 11\n",
    "def add (num1,num2):\n",
    "    resultado = num1 + num2\n",
    "    print(f'A soma da {resultado}')\n",
    "soma = add\n",
    "soma(2,4)"
   ]
  },
  {
   "cell_type": "code",
   "execution_count": 7,
   "metadata": {},
   "outputs": [
    {
     "data": {
      "text/plain": [
       "22"
      ]
     },
     "execution_count": 7,
     "metadata": {},
     "output_type": "execute_result"
    }
   ],
   "source": [
    "# Exercício 12\n",
    "def apply (funcao,valor):\n",
    "    return funcao(valor)\n",
    "# A função soma é uma função feita no exercicio 7\n",
    "apply(soma_numero,2)"
   ]
  },
  {
   "cell_type": "markdown",
   "metadata": {},
   "source": [
    "\n",
    "## Exceções\n",
    "13. Crie uma função que lance uma exceção `ValueError` e a capture.\n",
    "14. Desenvolva uma função que lance e capture uma exceção `TypeError`.\n"
   ]
  },
  {
   "cell_type": "code",
   "execution_count": 11,
   "metadata": {},
   "outputs": [
    {
     "data": {
      "text/plain": [
       "\"Error: o valor incerido não é possivel trasformar em int: invalid literal for int() with base 10: 'casa'\""
      ]
     },
     "execution_count": 11,
     "metadata": {},
     "output_type": "execute_result"
    }
   ],
   "source": [
    "# Exercício 13\n",
    "def transforma_int(num):\n",
    "    try:\n",
    "        resultado = int(num)\n",
    "        return resultado\n",
    "    except ValueError as e:\n",
    "        return f'Error: o valor incerido não é possivel trasformar em int: {e}'\n",
    "transforma_int('casa')"
   ]
  },
  {
   "cell_type": "code",
   "execution_count": 12,
   "metadata": {},
   "outputs": [
    {
     "data": {
      "text/plain": [
       "\"Error: O valor incerido em 1 ou e não é do tipo numerico: unsupported operand type(s) for +: 'int' and 'str'\""
      ]
     },
     "execution_count": 12,
     "metadata": {},
     "output_type": "execute_result"
    }
   ],
   "source": [
    "# Exercício 14\n",
    "def soma(num1,num2):\n",
    "    try:\n",
    "        resultado = num1 + num2\n",
    "        return resultado \n",
    "    except TypeError as e:\n",
    "        return f'Error: O valor incerido em {num1} ou {num2} não é do tipo numerico: {e}'\n",
    "soma(1,'e')"
   ]
  },
  {
   "cell_type": "markdown",
   "metadata": {},
   "source": [
    "\n",
    "## Exercícios Adicionais\n",
    "15. Escreva uma função que aceite um número variável de argumentos e retorne a soma.\n",
    "16. Implemente uma função `is_positive` que verifique se um número é positivo.\n",
    "17. Crie uma função `print_args` que imprima todos os argumentos recebidos.\n",
    "18. Desenvolva uma função `make_full_name` que aceite nome e sobrenome e retorne o nome completo.\n",
    "19. Escreva uma função que use `return` para terminar prematuramente se receber um número negativo.\n",
    "20. Crie uma função `apply_discount` que aplique um desconto a um preço e retorne o preço com desconto.\n"
   ]
  },
  {
   "cell_type": "code",
   "execution_count": 14,
   "metadata": {},
   "outputs": [
    {
     "data": {
      "text/plain": [
       "10"
      ]
     },
     "execution_count": 14,
     "metadata": {},
     "output_type": "execute_result"
    }
   ],
   "source": [
    "# Exercício 15\n",
    "def soma (*numeros):\n",
    "    valor = 0\n",
    "    for numero in numeros:\n",
    "        valor += numero\n",
    "    return valor\n",
    "soma(1,2,3,4)"
   ]
  },
  {
   "cell_type": "code",
   "execution_count": 16,
   "metadata": {},
   "outputs": [
    {
     "name": "stdout",
     "output_type": "stream",
     "text": [
      "-5 is not positive\n",
      "5 is positive\n"
     ]
    }
   ],
   "source": [
    "# Exercício 16\n",
    "def is_positive (num):\n",
    "    if num < 0:\n",
    "        return f'{num} is not positive'\n",
    "    else:\n",
    "        return f'{num} is positive'\n",
    "\n",
    "print(is_positive(-5))\n",
    "print(is_positive(5))"
   ]
  },
  {
   "cell_type": "code",
   "execution_count": 21,
   "metadata": {},
   "outputs": [
    {
     "name": "stdout",
     "output_type": "stream",
     "text": [
      "1\n",
      "2\n",
      "3\n",
      "v\n",
      "t\n",
      "6\n",
      "g\n",
      "casa\n",
      "None\n",
      "1 2 3 v t 6 g casa\n"
     ]
    }
   ],
   "source": [
    "# Exercício 17\n",
    "def print_args(*args):\n",
    "    for arg in args:\n",
    "        print(arg)\n",
    "# Não entendi se era pra so imprimir todos os argumentos ou gerar uma string com todos os args concatenados \n",
    "def print_args_string(*args):\n",
    "    resultado = \" \".join(map(str, args))\n",
    "    return resultado\n",
    "    \n",
    "print(print_args(1,2,3,'v','t',6,'g','casa'))\n",
    "print(print_args_string(1,2,3,'v','t',6,'g','casa'))"
   ]
  },
  {
   "cell_type": "code",
   "execution_count": 3,
   "metadata": {},
   "outputs": [
    {
     "name": "stdout",
     "output_type": "stream",
     "text": [
      "O nome completo é: Gabriel Menino\n"
     ]
    }
   ],
   "source": [
    "# Exercício 18\n",
    "def make_full_name(nome,sobrenome):\n",
    "    print(f'O nome completo é: {nome} {sobrenome}')\n",
    "make_full_name('Gabriel','Menino')"
   ]
  },
  {
   "cell_type": "code",
   "execution_count": 24,
   "metadata": {},
   "outputs": [
    {
     "name": "stdout",
     "output_type": "stream",
     "text": [
      "2\n",
      "None\n"
     ]
    }
   ],
   "source": [
    "# Exercício 19\n",
    "def positive (num):\n",
    "    if num < 0 :\n",
    "        return\n",
    "    else:\n",
    "        return num\n",
    "print(positive(2))\n",
    "print(positive(-2))"
   ]
  },
  {
   "cell_type": "code",
   "execution_count": 25,
   "metadata": {},
   "outputs": [
    {
     "data": {
      "text/plain": [
       "'o valor apos o desconto 50.0'"
      ]
     },
     "execution_count": 25,
     "metadata": {},
     "output_type": "execute_result"
    }
   ],
   "source": [
    "# Exercício 20\n",
    "def apply_discount (valor,desconto):\n",
    "    qnt_desconto = valor * (desconto/100)\n",
    "    valor_descontado = valor - qnt_desconto\n",
    "    return f'o valor apos o desconto {valor_descontado}'\n",
    "\n",
    "apply_discount(100,50)"
   ]
  }
 ],
 "metadata": {
  "kernelspec": {
   "display_name": "Python 3 (ipykernel)",
   "language": "python",
   "name": "python3"
  },
  "language_info": {
   "codemirror_mode": {
    "name": "ipython",
    "version": 3
   },
   "file_extension": ".py",
   "mimetype": "text/x-python",
   "name": "python",
   "nbconvert_exporter": "python",
   "pygments_lexer": "ipython3",
   "version": "3.9.13"
  }
 },
 "nbformat": 4,
 "nbformat_minor": 4
}
