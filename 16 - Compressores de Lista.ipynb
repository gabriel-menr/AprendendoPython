{
 "cells": [
  {
   "cell_type": "markdown",
   "metadata": {},
   "source": [
    "# Introdução aos Compressores de Lista \n",
    "\n",
    "## 1. Conceito de Compressores de Lista\n",
    "### Objetivos:\n",
    "- Explicar o que são compressores de lista (list comprehensions) em Python e por que são úteis.\n",
    "- Comparar compressores de lista com loops tradicionais para demonstrar sua eficiência e legibilidade.\n",
    "\n",
    "### Conteúdo:\n",
    "\n",
    "#### A. O que são Compressores de Lista\n",
    "- Compressores de lista são uma forma concisa de criar listas em Python.\n",
    "- Eles permitem gerar novas listas aplicando uma expressão a cada item em uma sequência ou iterável.\n",
    "\n",
    "#### B. Comparação com Loops Tradicionais\n",
    "- Compressores de lista são geralmente mais concisos e legíveis do que loops tradicionais.\n",
    "- Eles podem substituir loops for e certas funções de map/filter.\n",
    "\n",
    "### Exemplo de Código:"
   ]
  },
  {
   "cell_type": "code",
   "execution_count": 1,
   "metadata": {},
   "outputs": [
    {
     "name": "stdout",
     "output_type": "stream",
     "text": [
      "[0, 1, 4, 9, 16, 25, 36, 49, 64, 81]\n"
     ]
    }
   ],
   "source": [
    "# Usando um loop for tradicional\n",
    "quadrados = []\n",
    "for i in range(10):\n",
    "    quadrados.append(i * i)\n",
    "\n",
    "print(quadrados)  # Saída: [0, 1, 4, 9, 16, 25, 36, 49, 64, 81]"
   ]
  },
  {
   "cell_type": "code",
   "execution_count": 2,
   "metadata": {},
   "outputs": [
    {
     "name": "stdout",
     "output_type": "stream",
     "text": [
      "[0, 1, 4, 9, 16, 25, 36, 49, 64, 81]\n"
     ]
    }
   ],
   "source": [
    "# Usando um compressor de lista\n",
    "quadrados_compreensao = [i * i for i in range(10)]\n",
    "\n",
    "print(quadrados_compreensao)  # Saída: [0, 1, 4, 9, 16, 25, 36, 49, 64, 81]"
   ]
  },
  {
   "cell_type": "markdown",
   "metadata": {},
   "source": [
    "# Introdução aos Compressores de Lista\n",
    "\n",
    "## 2. Estrutura Básica\n",
    "\n",
    "### Objetivos:\n",
    "- Explicar a sintaxe básica dos compressores de lista em Python.\n",
    "- Fornecer exemplos básicos de compressores de lista para criar listas simples.\n",
    "\n",
    "### Conteúdo:\n",
    "\n",
    "#### A. Sintaxe dos Compressores de Lista\n",
    "- Compressores de lista são uma forma compacta de criar listas.\n",
    "- Sua sintaxe básica inclui uma expressão seguida de um ou mais `for` ou `if`.\n",
    "\n",
    "#### B. Exemplos Básicos de Compressores de Lista\n",
    "- Demonstração de como criar listas simples usando compressores de lista.\n",
    "\n",
    "### Exemplo de Código:"
   ]
  },
  {
   "cell_type": "code",
   "execution_count": 3,
   "metadata": {},
   "outputs": [
    {
     "name": "stdout",
     "output_type": "stream",
     "text": [
      "[0, 1, 4, 9, 16, 25, 36, 49, 64, 81]\n"
     ]
    }
   ],
   "source": [
    "# Exemplo de compressores de lista para criar listas simples\n",
    "\n",
    "# Criando uma lista de quadrados de números de 0 a 9\n",
    "quadrados = [i ** 2 for i in range(10)]\n",
    "print(quadrados)  # Saída: [0, 1, 4, 9, 16, 25, 36, 49, 64, 81]"
   ]
  },
  {
   "cell_type": "code",
   "execution_count": 4,
   "metadata": {},
   "outputs": [
    {
     "name": "stdout",
     "output_type": "stream",
     "text": [
      "['Olá, Alice!', 'Olá, Bob!', 'Olá, Charlie!']\n"
     ]
    }
   ],
   "source": [
    "# Criando uma lista de strings formatadas\n",
    "nomes = ['Alice', 'Bob', 'Charlie']\n",
    "saudacoes = [f'Olá, {nome}!' for nome in nomes]\n",
    "print(saudacoes)  # Saída: ['Olá, Alice!', 'Olá, Bob!', 'Olá, Charlie!']"
   ]
  },
  {
   "cell_type": "code",
   "execution_count": 5,
   "metadata": {},
   "outputs": [
    {
     "name": "stdout",
     "output_type": "stream",
     "text": [
      "[0, 2, 4, 6, 8]\n"
     ]
    }
   ],
   "source": [
    "# Utilizando uma condição dentro de um compressor de lista\n",
    "pares = [x for x in range(10) if x % 2 == 0]\n",
    "\n",
    "print(pares)  # Saída: [0, 2, 4, 6, 8]"
   ]
  },
  {
   "cell_type": "code",
   "execution_count": null,
   "metadata": {},
   "outputs": [],
   "source": [
    "pares_for = []\n",
    "for x in range(10):\n",
    "    if x % 2 == 0:\n",
    "        pares_for.append(x)\n",
    "\n",
    "print(pares_for) # Saída: [0, 2, 4, 6, 8]"
   ]
  },
  {
   "cell_type": "markdown",
   "metadata": {},
   "source": [
    "# Introdução aos Compressores de Lista\n",
    "\n",
    "## 3. Compressores de Lista Avançados\n",
    "\n",
    "### Objetivos:\n",
    "- Demonstrar o uso de condições em compressores de lista.\n",
    "- Apresentar exemplos de compressores de lista aninhados.\n",
    "\n",
    "### Conteúdo:\n",
    "\n",
    "#### A. Uso de Condições em Compressores de Lista\n",
    "- Compressores de lista podem incluir condições para filtrar os elementos da lista resultante.\n",
    "\n",
    "#### B. Compressores de Lista Aninhados\n",
    "- É possível aninhar compressores de lista para criar listas complexas.\n",
    "\n",
    "### Exemplo de Código:"
   ]
  },
  {
   "cell_type": "code",
   "execution_count": 11,
   "metadata": {},
   "outputs": [
    {
     "name": "stdout",
     "output_type": "stream",
     "text": [
      "[1, 9, 25, 49, 81]\n"
     ]
    }
   ],
   "source": [
    "# Exemplo de compressor de lista com condição\n",
    "\n",
    "# Filtrando números ímpares e elevando ao quadrado\n",
    "impares_ao_quadrado = [x ** 2 for x in range(10) if x % 2 != 0]\n",
    "print(impares_ao_quadrado)  # Saída: [1, 9, 25, 49, 81]"
   ]
  },
  {
   "cell_type": "code",
   "execution_count": 12,
   "metadata": {},
   "outputs": [
    {
     "name": "stdout",
     "output_type": "stream",
     "text": [
      "[[0, 1, 2], [0, 1, 2], [0, 1, 2]]\n"
     ]
    }
   ],
   "source": [
    "# Exemplo de compressor de lista aninhado\n",
    "\n",
    "# Criando uma matriz 3x3 com compressores de lista\n",
    "matriz = [[j for j in range(3)] for i in range(3)]\n",
    "print(matriz)  # Saída: [[0, 1, 2], [0, 1, 2], [0, 1, 2]]"
   ]
  },
  {
   "cell_type": "code",
   "execution_count": 13,
   "metadata": {},
   "outputs": [
    {
     "name": "stdout",
     "output_type": "stream",
     "text": [
      "[[1, 3], [1, 4], [2, 3], [2, 1], [2, 4], [3, 1], [3, 4]]\n"
     ]
    }
   ],
   "source": [
    "# Combinando elementos de duas listas se não forem iguais\n",
    "combinacoes = [[x, y] for x in [1, 2, 3] for y in [3, 1, 4] if x != y]\n",
    "print(combinacoes)  # Saída: [[1, 3], [1, 4], [2, 3], [2, 1], [2, 4], [3, 1], [3, 4]]"
   ]
  },
  {
   "cell_type": "markdown",
   "metadata": {},
   "source": [
    "# Exercícios"
   ]
  },
  {
   "cell_type": "markdown",
   "metadata": {},
   "source": [
    "\n",
    "### Exercício 1\n",
    "#### Crie uma lista de quadrados dos números de 1 a 10 usando um compressor de lista.\n",
    "\n"
   ]
  },
  {
   "cell_type": "code",
   "execution_count": 8,
   "metadata": {},
   "outputs": [
    {
     "name": "stdout",
     "output_type": "stream",
     "text": [
      "[0, 2, 4, 6, 8]\n"
     ]
    }
   ],
   "source": [
    "pares = [i for i in range(10) if i % 2 == 0]\n",
    "print(pares)"
   ]
  },
  {
   "cell_type": "markdown",
   "metadata": {},
   "source": [
    "\n",
    "### Exercício 2\n",
    "#### Use um compressor de lista para converter todas as strings em uma lista para maiúsculas.\n",
    "\n"
   ]
  },
  {
   "cell_type": "code",
   "execution_count": 20,
   "metadata": {},
   "outputs": [
    {
     "name": "stdout",
     "output_type": "stream",
     "text": [
      "['EU', 'NÃO', 'SEI']\n"
     ]
    }
   ],
   "source": [
    "lista = ['eu','não','sei']\n",
    "\n",
    "lista_maiusulo = [palavra.upper() for palavra in lista]\n",
    "print(lista_maiusulo) "
   ]
  },
  {
   "cell_type": "markdown",
   "metadata": {},
   "source": [
    "\n",
    "### Exercício 3\n",
    "#### Crie uma lista de todos os números pares de 0 a 20 usando um compressor de lista.\n",
    "\n"
   ]
  },
  {
   "cell_type": "code",
   "execution_count": 9,
   "metadata": {},
   "outputs": [
    {
     "name": "stdout",
     "output_type": "stream",
     "text": [
      "[0, 2, 4, 6, 8, 10, 12, 14, 16, 18, 20]\n"
     ]
    }
   ],
   "source": [
    "pares = [i for i in range(21) if i % 2 == 0]\n",
    "print(pares)"
   ]
  },
  {
   "cell_type": "markdown",
   "metadata": {},
   "source": [
    "\n",
    "### Exercício 4\n",
    "#### Use um compressor de lista para criar uma lista de tuplas (número, quadrado do número) para números de 1 a 5.\n",
    "\n"
   ]
  },
  {
   "cell_type": "code",
   "execution_count": 21,
   "metadata": {},
   "outputs": [
    {
     "data": {
      "text/plain": [
       "[(1, 1), (2, 4), (3, 9), (4, 16)]"
      ]
     },
     "execution_count": 21,
     "metadata": {},
     "output_type": "execute_result"
    }
   ],
   "source": [
    "lista = [(num,num*num) for num in range(1,5)]\n",
    "lista"
   ]
  },
  {
   "cell_type": "markdown",
   "metadata": {},
   "source": [
    "\n",
    "### Exercício 5\n",
    "#### Gere uma lista de números ímpares de 1 a 10 usando um compressor de lista.\n",
    "\n"
   ]
  },
  {
   "cell_type": "code",
   "execution_count": 10,
   "metadata": {},
   "outputs": [
    {
     "name": "stdout",
     "output_type": "stream",
     "text": [
      "[1, 3, 5, 7, 9]\n"
     ]
    }
   ],
   "source": [
    "impares = [i for i in range(1,10) if i % 2 != 0]\n",
    "print(impares)"
   ]
  },
  {
   "cell_type": "markdown",
   "metadata": {},
   "source": [
    "\n",
    "### Exercício 6\n",
    "#### Use um compressor de lista para criar uma lista de todos os caracteres de cada palavra em uma lista de palavras.\n",
    "\n"
   ]
  },
  {
   "cell_type": "code",
   "execution_count": 23,
   "metadata": {},
   "outputs": [
    {
     "data": {
      "text/plain": [
       "['c', 'a', 's', 'a', 'a', 'p', 'a', 'r', 't', 'a', 'm', 'e', 'n', 't', 'o']"
      ]
     },
     "execution_count": 23,
     "metadata": {},
     "output_type": "execute_result"
    }
   ],
   "source": [
    "lista = ['casa','apartamento']\n",
    "lista_letra = [letra for palavra in lista for letra in palavra ] \n",
    "lista_letra"
   ]
  },
  {
   "cell_type": "markdown",
   "metadata": {},
   "source": [
    "\n",
    "### Exercício 7\n",
    "#### Crie uma lista de comprimentos de cada palavra em uma frase usando um compressor de lista.\n",
    "\n"
   ]
  },
  {
   "cell_type": "code",
   "execution_count": 26,
   "metadata": {},
   "outputs": [
    {
     "data": {
      "text/plain": [
       "[1, 9, 4, 6]"
      ]
     },
     "execution_count": 26,
     "metadata": {},
     "output_type": "execute_result"
    }
   ],
   "source": [
    "frase = 'a largatixa come batata'\n",
    "lista = [len(palavra) for palavra in frase.split() ]\n",
    "lista"
   ]
  },
  {
   "cell_type": "markdown",
   "metadata": {},
   "source": [
    "\n",
    "### Exercício 8\n",
    "#### Use um compressor de lista para criar uma lista de todos os números divisíveis por 3 de 1 a 30.\n",
    "\n"
   ]
  },
  {
   "cell_type": "code",
   "execution_count": 28,
   "metadata": {},
   "outputs": [
    {
     "data": {
      "text/plain": [
       "[3, 6, 9, 12, 15, 18, 21, 24, 27]"
      ]
     },
     "execution_count": 28,
     "metadata": {},
     "output_type": "execute_result"
    }
   ],
   "source": [
    "lista = [num for num in range(1,30) if num %3 == 0]\n",
    "lista"
   ]
  },
  {
   "cell_type": "markdown",
   "metadata": {},
   "source": [
    "\n",
    "### Exercício 9\n",
    "#### Gere uma lista de 'par' ou 'ímpar' para os números de 1 a 10 usando um compressor de lista.\n",
    "\n"
   ]
  },
  {
   "cell_type": "code",
   "execution_count": 41,
   "metadata": {},
   "outputs": [
    {
     "data": {
      "text/plain": [
       "['impar', 'par', 'impar', 'par', 'impar', 'par', 'impar', 'par', 'impar']"
      ]
     },
     "execution_count": 41,
     "metadata": {},
     "output_type": "execute_result"
    }
   ],
   "source": [
    "lista_par = ['par' if num %2 == 0 else 'impar' for num in range(1,10)]\n",
    "lista_par"
   ]
  },
  {
   "cell_type": "markdown",
   "metadata": {},
   "source": [
    "\n",
    "### Exercício 10\n",
    "#### Crie uma lista de números primos menores que 20 usando um compressor de lista.\n",
    "\n"
   ]
  },
  {
   "cell_type": "code",
   "execution_count": 1,
   "metadata": {},
   "outputs": [
    {
     "data": {
      "text/plain": [
       "[2, 3, 5, 7, 11, 13, 17, 19]"
      ]
     },
     "execution_count": 1,
     "metadata": {},
     "output_type": "execute_result"
    }
   ],
   "source": [
    "def primo(num):\n",
    "    if num < 2:\n",
    "        return False\n",
    "    for i in range(2, int(num**0.5) + 1):\n",
    "        if num % i == 0:\n",
    "            return False\n",
    "    return True\n",
    "\n",
    "lista_primos = [n for n in range(1,20) if primo(n)]\n",
    "lista_primos"
   ]
  },
  {
   "cell_type": "markdown",
   "metadata": {},
   "source": [
    "\n",
    "### Exercício 11\n",
    "#### Use um compressor de lista com um `if` para criar uma lista de todos os números de 1 a 20 que são divisíveis por 2 ou 5.\n",
    "\n"
   ]
  },
  {
   "cell_type": "code",
   "execution_count": 4,
   "metadata": {},
   "outputs": [
    {
     "data": {
      "text/plain": [
       "[2, 4, 5, 6, 8, 10, 12, 14, 15, 16, 18, 20]"
      ]
     },
     "execution_count": 4,
     "metadata": {},
     "output_type": "execute_result"
    }
   ],
   "source": [
    "lista_11 = [num for num in range(1,21) if num %2 ==0 or num %5 == 0]\n",
    "lista_11"
   ]
  },
  {
   "cell_type": "markdown",
   "metadata": {},
   "source": [
    "\n",
    "### Exercício 12\n",
    "#### Crie uma lista dos primeiros 10 quadrados perfeitos (números cuja raiz quadrada é um inteiro) usando um compressor de lista.\n",
    "\n"
   ]
  },
  {
   "cell_type": "code",
   "execution_count": 5,
   "metadata": {},
   "outputs": [
    {
     "data": {
      "text/plain": [
       "[1, 4, 9, 16, 25, 36, 49, 64, 81, 100]"
      ]
     },
     "execution_count": 5,
     "metadata": {},
     "output_type": "execute_result"
    }
   ],
   "source": [
    "lista_quadrado = [n**2 for n in range(1, 11)]\n",
    "lista_quadrado"
   ]
  },
  {
   "cell_type": "markdown",
   "metadata": {},
   "source": [
    "\n",
    "### Exercício 13\n",
    "#### Use um compressor de lista para inverter a ordem dos caracteres em cada string de uma lista de strings.\n",
    "\n"
   ]
  },
  {
   "cell_type": "code",
   "execution_count": 7,
   "metadata": {},
   "outputs": [
    {
     "data": {
      "text/plain": [
       "['otapas', 'orrohcac', 'atragal']"
      ]
     },
     "execution_count": 7,
     "metadata": {},
     "output_type": "execute_result"
    }
   ],
   "source": [
    "lista = ['sapato','cachorro','lagarta']\n",
    "\n",
    "lista_inversa = [''.join(reversed(palavra)) for palavra in lista]\n",
    "lista_inversa"
   ]
  },
  {
   "cell_type": "markdown",
   "metadata": {},
   "source": [
    "\n",
    "### Exercício 14\n",
    "#### Crie uma lista de booleanos, onde True corresponde a elementos pares e False a ímpares em uma lista de números.\n",
    "\n"
   ]
  },
  {
   "cell_type": "code",
   "execution_count": 13,
   "metadata": {},
   "outputs": [
    {
     "data": {
      "text/plain": [
       "[False, False, True, True, False, False, True, True]"
      ]
     },
     "execution_count": 13,
     "metadata": {},
     "output_type": "execute_result"
    }
   ],
   "source": [
    "lista_de_numeros = [1,3,2,4,5,7,6,8]\n",
    "lista = [num %2 == 0 for num in lista_de_numeros]\n",
    "lista"
   ]
  },
  {
   "cell_type": "markdown",
   "metadata": {},
   "source": [
    "\n",
    "### Exercício 15\n",
    "#### Use um compressor de lista para criar uma lista de todas as vogais em uma string dada.\n",
    "\n"
   ]
  },
  {
   "cell_type": "code",
   "execution_count": 4,
   "metadata": {},
   "outputs": [
    {
     "data": {
      "text/plain": [
       "['a', 'a', 'a', 'e', 'o', 'u']"
      ]
     },
     "execution_count": 4,
     "metadata": {},
     "output_type": "execute_result"
    }
   ],
   "source": [
    "palavra = 'batatatetotu'\n",
    "vogais = 'aeiou'\n",
    "lista = [letra for letra in palavra if letra in vogais]\n",
    "lista"
   ]
  },
  {
   "cell_type": "markdown",
   "metadata": {},
   "source": [
    "\n",
    "### Exercício 16\n",
    "#### Crie uma lista de listas, onde cada sublista contém números de 1 a n, com n variando de 1 a 5, usando compressores de lista aninhados.\n",
    "\n"
   ]
  },
  {
   "cell_type": "code",
   "execution_count": 6,
   "metadata": {},
   "outputs": [
    {
     "data": {
      "text/plain": [
       "[[1], [1, 2], [1, 2, 3], [1, 2, 3, 4], [1, 2, 3, 4, 5]]"
      ]
     },
     "execution_count": 6,
     "metadata": {},
     "output_type": "execute_result"
    }
   ],
   "source": [
    "lista = [[num for num in range(1,n+1)]for n in range(1,6)]\n",
    "lista"
   ]
  },
  {
   "cell_type": "markdown",
   "metadata": {},
   "source": [
    "\n",
    "### Exercício 17\n",
    "#### Use um compressor de lista aninhado para criar a matriz identidade 3x3 em Python.\n",
    "\n"
   ]
  },
  {
   "cell_type": "code",
   "execution_count": 9,
   "metadata": {},
   "outputs": [
    {
     "data": {
      "text/plain": [
       "[[1, 0, 0], [0, 1, 0], [0, 0, 1]]"
      ]
     },
     "execution_count": 9,
     "metadata": {},
     "output_type": "execute_result"
    }
   ],
   "source": [
    "num = 3\n",
    "lista = [[1 if coluna == linha else 0 for coluna in range(num)] for linha in range(num)]\n",
    "lista"
   ]
  },
  {
   "cell_type": "markdown",
   "metadata": {},
   "source": [
    "\n",
    "### Exercício 18\n",
    "#### Gere uma lista de todos os pares possíveis de duas listas diferentes usando um compressor de lista.\n",
    "\n"
   ]
  },
  {
   "cell_type": "code",
   "execution_count": 10,
   "metadata": {},
   "outputs": [
    {
     "data": {
      "text/plain": [
       "[(1, 'a'),\n",
       " (1, 'b'),\n",
       " (1, 'c'),\n",
       " (1, 'd'),\n",
       " (2, 'a'),\n",
       " (2, 'b'),\n",
       " (2, 'c'),\n",
       " (2, 'd'),\n",
       " (3, 'a'),\n",
       " (3, 'b'),\n",
       " (3, 'c'),\n",
       " (3, 'd'),\n",
       " (4, 'a'),\n",
       " (4, 'b'),\n",
       " (4, 'c'),\n",
       " (4, 'd')]"
      ]
     },
     "execution_count": 10,
     "metadata": {},
     "output_type": "execute_result"
    }
   ],
   "source": [
    "lista1 = [1,2,3,4]\n",
    "lista2 = ['a','b','c','d']\n",
    "\n",
    "lista = [(x, y) for x in lista1 for y in lista2]\n",
    "lista"
   ]
  },
  {
   "cell_type": "markdown",
   "metadata": {},
   "source": [
    "\n",
    "### Exercício 19\n",
    "#### Crie uma lista de todos os elementos de uma lista de listas usando um compressor de lista.\n",
    "\n"
   ]
  },
  {
   "cell_type": "code",
   "execution_count": 20,
   "metadata": {},
   "outputs": [
    {
     "data": {
      "text/plain": [
       "[1, 1, 2, 2, 3]"
      ]
     },
     "execution_count": 20,
     "metadata": {},
     "output_type": "execute_result"
    }
   ],
   "source": [
    "lista1 = [[1],[1,2],[2,3]]\n",
    "lista = [num for valor in lista1 for num in valor]\n",
    "lista"
   ]
  },
  {
   "cell_type": "markdown",
   "metadata": {},
   "source": [
    "\n",
    "### Exercício 20\n",
    "#### Use um compressor de lista com múltiplos `if` para criar uma lista dos números de 1 a 100 que são divisíveis por 2 e 3, mas não por 5.\n"
   ]
  },
  {
   "cell_type": "code",
   "execution_count": 14,
   "metadata": {},
   "outputs": [
    {
     "data": {
      "text/plain": [
       "[6, 12, 18, 24, 36, 42, 48, 54, 66, 72, 78, 84, 96]"
      ]
     },
     "execution_count": 14,
     "metadata": {},
     "output_type": "execute_result"
    }
   ],
   "source": [
    "lista = [num for num in range(1,101) if num %2 == 0 if num %3 == 0 if num %5 != 0]\n",
    "lista"
   ]
  }
 ],
 "metadata": {
  "kernelspec": {
   "display_name": "Python 3 (ipykernel)",
   "language": "python",
   "name": "python3"
  },
  "language_info": {
   "codemirror_mode": {
    "name": "ipython",
    "version": 3
   },
   "file_extension": ".py",
   "mimetype": "text/x-python",
   "name": "python",
   "nbconvert_exporter": "python",
   "pygments_lexer": "ipython3",
   "version": "3.9.13"
  }
 },
 "nbformat": 4,
 "nbformat_minor": 4
}
