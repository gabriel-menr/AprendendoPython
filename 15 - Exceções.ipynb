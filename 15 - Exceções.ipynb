{
 "cells": [
  {
   "cell_type": "markdown",
   "metadata": {},
   "source": [
    "# Introdução às Exceções\n",
    "\n",
    "## 1. O que são Exceções?\n",
    "### Objetivos:\n",
    "- Explicar o conceito de exceções e erros em Python.\n",
    "- Apresentar tipos comuns de exceções como `ValueError`, `TypeError`, `IndexError`, etc.\n",
    "\n",
    "### Conteúdo:\n",
    "\n",
    "#### A. Conceito de Exceções e Erros\n",
    "- Exceções são erros que ocorrem durante a execução do programa, interrompendo o fluxo normal de instruções.\n",
    "\n",
    "#### B. Tipos Comuns de Exceções\n",
    "- `ValueError`: Ocorre quando uma função recebe um argumento do tipo certo, mas com valor inapropriado.\n",
    "- `TypeError`: Ocorre quando uma operação ou função é aplicada a um objeto de tipo inadequado.\n",
    "- `IndexError`: Ocorre quando tentamos acessar um índice fora do intervalo de uma lista, tupla, etc.\n",
    "\n",
    "### Exemplo de Código:"
   ]
  },
  {
   "cell_type": "code",
   "execution_count": 1,
   "metadata": {},
   "outputs": [
    {
     "data": {
      "text/plain": [
       "1"
      ]
     },
     "execution_count": 1,
     "metadata": {},
     "output_type": "execute_result"
    }
   ],
   "source": [
    "int('1')"
   ]
  },
  {
   "cell_type": "code",
   "execution_count": 2,
   "metadata": {},
   "outputs": [
    {
     "data": {
      "text/plain": [
       "2"
      ]
     },
     "execution_count": 2,
     "metadata": {},
     "output_type": "execute_result"
    }
   ],
   "source": [
    "int('1') + 1"
   ]
  },
  {
   "cell_type": "code",
   "execution_count": 3,
   "metadata": {},
   "outputs": [
    {
     "ename": "TypeError",
     "evalue": "can only concatenate str (not \"int\") to str",
     "output_type": "error",
     "traceback": [
      "\u001b[1;31m---------------------------------------------------------------------------\u001b[0m",
      "\u001b[1;31mTypeError\u001b[0m                                 Traceback (most recent call last)",
      "Cell \u001b[1;32mIn[3], line 1\u001b[0m\n\u001b[1;32m----> 1\u001b[0m \u001b[38;5;124m'\u001b[39m\u001b[38;5;124m1\u001b[39m\u001b[38;5;124m'\u001b[39m \u001b[38;5;241m+\u001b[39m \u001b[38;5;241m1\u001b[39m\n",
      "\u001b[1;31mTypeError\u001b[0m: can only concatenate str (not \"int\") to str"
     ]
    }
   ],
   "source": [
    "'1' + 1"
   ]
  },
  {
   "cell_type": "code",
   "execution_count": 4,
   "metadata": {},
   "outputs": [
    {
     "ename": "ValueError",
     "evalue": "invalid literal for int() with base 10: 'a'",
     "output_type": "error",
     "traceback": [
      "\u001b[1;31m---------------------------------------------------------------------------\u001b[0m",
      "\u001b[1;31mValueError\u001b[0m                                Traceback (most recent call last)",
      "Cell \u001b[1;32mIn[4], line 1\u001b[0m\n\u001b[1;32m----> 1\u001b[0m \u001b[38;5;28mint\u001b[39m(\u001b[38;5;124m'\u001b[39m\u001b[38;5;124ma\u001b[39m\u001b[38;5;124m'\u001b[39m)\n",
      "\u001b[1;31mValueError\u001b[0m: invalid literal for int() with base 10: 'a'"
     ]
    }
   ],
   "source": [
    "int('a')"
   ]
  },
  {
   "cell_type": "code",
   "execution_count": 5,
   "metadata": {},
   "outputs": [
    {
     "name": "stdout",
     "output_type": "stream",
     "text": [
      "Ocorreu um ValueError: invalid literal for int() with base 10: 'a'\n"
     ]
    }
   ],
   "source": [
    "# Exemplos demonstrando diferentes tipos de exceções em Python\n",
    "\n",
    "# Exemplo de ValueError\n",
    "try:\n",
    "    int('a')  # Tentativa de converter uma letra em inteiro\n",
    "except ValueError as e:\n",
    "    print(f\"Ocorreu um ValueError: {e}\")"
   ]
  },
  {
   "cell_type": "code",
   "execution_count": 6,
   "metadata": {},
   "outputs": [
    {
     "name": "stdout",
     "output_type": "stream",
     "text": [
      "Ocorreu um TypeError: can only concatenate str (not \"int\") to str\n"
     ]
    }
   ],
   "source": [
    "# Exemplo de TypeError\n",
    "try:\n",
    "    '2' + 2  # Tentativa de somar string com número\n",
    "except TypeError as e:\n",
    "    print(f\"Ocorreu um TypeError: {e}\")"
   ]
  },
  {
   "cell_type": "code",
   "execution_count": 7,
   "metadata": {},
   "outputs": [
    {
     "name": "stdout",
     "output_type": "stream",
     "text": [
      "Ocorreu um IndexError: list index out of range\n"
     ]
    }
   ],
   "source": [
    "lista = [1, 2, 3]\n",
    "# Exemplo de IndexError\n",
    "try:\n",
    "    print(lista[3])  # Tentativa de acessar um índice que não existe na lista\n",
    "except IndexError as e:\n",
    "    print(f\"Ocorreu um IndexError: {e}\")"
   ]
  },
  {
   "cell_type": "markdown",
   "metadata": {},
   "source": [
    "# Introdução às Exceções\n",
    "\n",
    "## 2. Tratamento Básico de Exceções\n",
    "\n",
    "### Objetivos:\n",
    "- Ensinar o uso básico de `try` e `except` para capturar e tratar exceções.\n",
    "- Apresentar um exemplo de tratamento de erro em uma função.\n",
    "\n",
    "### Conteúdo:\n",
    "\n",
    "#### A. Uso de try e except\n",
    "- `try`: Bloco onde se escreve código que pode gerar uma exceção.\n",
    "- `except`: Bloco onde se trata a exceção capturada pelo `try`.\n",
    "\n",
    "#### B. Exemplo de Tratamento de Erro em uma Função\n",
    "- Criar uma função que demonstra como lidar com exceções comuns.\n",
    "\n",
    "### Exemplo de Código:"
   ]
  },
  {
   "cell_type": "code",
   "execution_count": 8,
   "metadata": {},
   "outputs": [],
   "source": [
    "# Exemplo de função com tratamento básico de exceções\n",
    "\n",
    "def dividir(num1, num2):\n",
    "    \"\"\"\n",
    "    Função para dividir dois números com tratamento de exceção para divisão por zero.\n",
    "    Parâmetros:\n",
    "    num1 (int, float): Dividendo.\n",
    "    num2 (int, float): Divisor.\n",
    "    \n",
    "    Retorna:\n",
    "    O resultado da divisão ou uma mensagem de erro.\n",
    "    \"\"\"\n",
    "    try:\n",
    "        # Tentativa de divisão\n",
    "        resultado = num1 / num2\n",
    "        return resultado\n",
    "    except ZeroDivisionError:\n",
    "        # Tratando a exceção de divisão por zero\n",
    "        return \"Erro: Divisão por zero não é permitida.\""
   ]
  },
  {
   "cell_type": "code",
   "execution_count": 9,
   "metadata": {},
   "outputs": [
    {
     "name": "stdout",
     "output_type": "stream",
     "text": [
      "5.0\n"
     ]
    }
   ],
   "source": [
    "# Chamando a função com divisor não-zero\n",
    "print(dividir(10, 2))  # Saída esperada: 5.0"
   ]
  },
  {
   "cell_type": "code",
   "execution_count": 10,
   "metadata": {},
   "outputs": [
    {
     "name": "stdout",
     "output_type": "stream",
     "text": [
      "Erro: Divisão por zero não é permitida.\n"
     ]
    }
   ],
   "source": [
    "# Chamando a função com divisor zero\n",
    "print(dividir(10, 0))  # Saída esperada: Erro: Divisão por zero não é permitida."
   ]
  },
  {
   "cell_type": "markdown",
   "metadata": {},
   "source": [
    "# Aprofundamento em Exceções\n",
    "\n",
    "## 1. Uso de else e finally\n",
    "\n",
    "### Objetivos:\n",
    "- Compreender como e quando usar as cláusulas `else` e `finally` em blocos `try` em Python.\n",
    "\n",
    "### Conteúdo:\n",
    "\n",
    "#### A. Uso de else em blocos try\n",
    "- A cláusula `else` é executada apenas se nenhuma exceção for levantada no bloco `try`.\n",
    "- É útil para código que deve ser executado se o bloco `try` for bem-sucedido sem exceções.\n",
    "\n",
    "#### B. Uso de finally em blocos try\n",
    "- A cláusula `finally` é sempre executada após o `try`, independentemente de uma exceção ocorrer ou não.\n",
    "- É ideal para ações de limpeza que devem ser executadas sob quaisquer circunstâncias.\n"
   ]
  },
  {
   "cell_type": "code",
   "execution_count": 11,
   "metadata": {},
   "outputs": [],
   "source": [
    "# Definindo a função dividir_com_else\n",
    "def dividir_com_else(num1, num2):\n",
    "    \"\"\"\n",
    "    Tenta dividir dois números e utiliza a cláusula else para um caso sem erros.\n",
    "    \"\"\"\n",
    "    try:\n",
    "        # Tenta executar a divisão\n",
    "        resultado = num1 / num2\n",
    "    except ZeroDivisionError:\n",
    "        # Executado se ocorrer uma divisão por zero\n",
    "        return \"Erro: Divisão por zero.\"\n",
    "    else:\n",
    "        # Executado se não ocorrer exceção\n",
    "        return f\"Resultado: {resultado}\""
   ]
  },
  {
   "cell_type": "code",
   "execution_count": 12,
   "metadata": {},
   "outputs": [
    {
     "name": "stdout",
     "output_type": "stream",
     "text": [
      "Resultado: 5.0\n"
     ]
    }
   ],
   "source": [
    "# Chamadas da função dividir_com_else\n",
    "print(dividir_com_else(10, 2))  # Caso normal, deve retornar 5.0"
   ]
  },
  {
   "cell_type": "code",
   "execution_count": 13,
   "metadata": {},
   "outputs": [
    {
     "name": "stdout",
     "output_type": "stream",
     "text": [
      "Erro: Divisão por zero.\n"
     ]
    }
   ],
   "source": [
    "print(dividir_com_else(10, 0))  # Divisão por zero, deve retornar mensagem de erro"
   ]
  },
  {
   "cell_type": "code",
   "execution_count": 14,
   "metadata": {},
   "outputs": [],
   "source": [
    "# Definindo a função dividir_com_finally\n",
    "def dividir_com_finally(num1, num2):\n",
    "    \"\"\"\n",
    "    Tenta dividir dois números e utiliza a cláusula finally para execução garantida.\n",
    "    \"\"\"\n",
    "    try:\n",
    "        # Tenta executar a divisão\n",
    "        resultado = num1 / num2\n",
    "        print(resultado)\n",
    "    except ZeroDivisionError:\n",
    "        # Executado se ocorrer uma divisão por zero\n",
    "        return \"Erro: Divisão por zero.\"\n",
    "    finally:\n",
    "        # Sempre executado após o try e except\n",
    "        print(\"Execução do bloco finally.\")"
   ]
  },
  {
   "cell_type": "code",
   "execution_count": 15,
   "metadata": {},
   "outputs": [
    {
     "name": "stdout",
     "output_type": "stream",
     "text": [
      "5.0\n",
      "Execução do bloco finally.\n"
     ]
    }
   ],
   "source": [
    "# Chamadas da função dividir_com_finally\n",
    "dividir_com_finally(10, 2)  # Caso normal, deve retornar 5.0 e \"Execução do bloco finally.\""
   ]
  },
  {
   "cell_type": "code",
   "execution_count": 16,
   "metadata": {},
   "outputs": [
    {
     "name": "stdout",
     "output_type": "stream",
     "text": [
      "Execução do bloco finally.\n",
      "Erro: Divisão por zero.\n"
     ]
    }
   ],
   "source": [
    "print(dividir_com_finally(10, 0))  # Divisão por zero, deve retornar mensagem de erro e imprimir \"Execução do bloco finally.\""
   ]
  },
  {
   "cell_type": "code",
   "execution_count": 17,
   "metadata": {},
   "outputs": [],
   "source": [
    "# Definindo a função dividir_com_else_finally\n",
    "def dividir_com_else_finally(num1, num2):\n",
    "    \"\"\"\n",
    "    Combina as cláusulas else e finally em um bloco try para uma gestão completa de exceções.\n",
    "    \"\"\"\n",
    "    try:\n",
    "        # Tenta executar a divisão\n",
    "        resultado = num1 / num2\n",
    "    except ZeroDivisionError:\n",
    "        # Executado se ocorrer uma divisão por zero\n",
    "        return \"Erro: Divisão por zero.\"\n",
    "    else:\n",
    "        # Executado se não ocorrer exceção\n",
    "        return f\"Resultado: {resultado}\"\n",
    "    finally:\n",
    "        # Sempre executado após o try, except e else\n",
    "        print(\"Execução do bloco finally.\")"
   ]
  },
  {
   "cell_type": "code",
   "execution_count": 18,
   "metadata": {},
   "outputs": [
    {
     "name": "stdout",
     "output_type": "stream",
     "text": [
      "Execução do bloco finally.\n",
      "Resultado: 5.0\n"
     ]
    }
   ],
   "source": [
    "# Chamadas da função dividir_com_else_finally\n",
    "print(dividir_com_else_finally(10, 2))  # Caso normal, deve retornar 5.0 e imprimir \"Execução do bloco finally.\""
   ]
  },
  {
   "cell_type": "code",
   "execution_count": 19,
   "metadata": {},
   "outputs": [
    {
     "name": "stdout",
     "output_type": "stream",
     "text": [
      "Execução do bloco finally.\n",
      "Erro: Divisão por zero.\n"
     ]
    }
   ],
   "source": [
    "print(dividir_com_else_finally(10, 0))  # Divisão por zero, deve retornar mensagem de erro e imprimir \"Execução do bloco finally.\""
   ]
  },
  {
   "cell_type": "markdown",
   "metadata": {},
   "source": [
    "# Aprofundamento em Exceções\n",
    "\n",
    "## 2. Levantamento de Exceções\n",
    "\n",
    "### Objetivos:\n",
    "- Ensinar como e quando usar a palavra-chave `raise` para gerar uma exceção intencionalmente.\n",
    "- Mostrar como criar exceções personalizadas em Python.\n",
    "\n",
    "### Conteúdo:\n",
    "\n",
    "#### A. Uso de raise para Gerar Exceções\n",
    "- `raise` permite que o programador force a ocorrência de uma exceção específica.\n",
    "\n",
    "#### B. Criação de Exceções Personalizadas\n",
    "- Exceções personalizadas são úteis para representar condições de erro específicas do domínio do problema.\n",
    "\n",
    "### Exemplo de Código:\n"
   ]
  },
  {
   "cell_type": "code",
   "execution_count": 20,
   "metadata": {},
   "outputs": [],
   "source": [
    "# Exemplo demonstrando o levantamento de exceções e exceções personalizadas\n",
    "\n",
    "# Definindo uma exceção personalizada\n",
    "class ValorMuitoAltoError(Exception):\n",
    "    \"\"\"Exceção levantada quando um valor é muito alto.\"\"\"\n",
    "    def __init__(self, valor, mensagem=\"O valor é muito alto!\"):\n",
    "        self.valor = valor\n",
    "        self.mensagem = mensagem\n",
    "        super().__init__(mensagem)\n",
    "\n",
    "def verificar_valor(valor):\n",
    "    \"\"\"\n",
    "    Função que verifica se um valor é muito alto.\n",
    "    Parâmetros:\n",
    "    valor (int, float): Valor a ser verificado.\n",
    "    \"\"\"\n",
    "    if valor > 100:\n",
    "        # Levantando a exceção personalizada\n",
    "        raise ValorMuitoAltoError(valor)\n",
    "    return valor\n"
   ]
  },
  {
   "cell_type": "code",
   "execution_count": 21,
   "metadata": {},
   "outputs": [
    {
     "data": {
      "text/plain": [
       "50"
      ]
     },
     "execution_count": 21,
     "metadata": {},
     "output_type": "execute_result"
    }
   ],
   "source": [
    "# Testando a função com um valor aceitável\n",
    "verificar_valor(50)  # Saída esperada: 50"
   ]
  },
  {
   "cell_type": "code",
   "execution_count": 22,
   "metadata": {},
   "outputs": [
    {
     "ename": "ValorMuitoAltoError",
     "evalue": "O valor é muito alto!",
     "output_type": "error",
     "traceback": [
      "\u001b[1;31m---------------------------------------------------------------------------\u001b[0m",
      "\u001b[1;31mValorMuitoAltoError\u001b[0m                       Traceback (most recent call last)",
      "Cell \u001b[1;32mIn[22], line 2\u001b[0m\n\u001b[0;32m      1\u001b[0m \u001b[38;5;66;03m# Testando a função com um valor muito alto\u001b[39;00m\n\u001b[1;32m----> 2\u001b[0m verificar_valor(\u001b[38;5;241m200\u001b[39m)\n",
      "Cell \u001b[1;32mIn[20], line 19\u001b[0m, in \u001b[0;36mverificar_valor\u001b[1;34m(valor)\u001b[0m\n\u001b[0;32m     12\u001b[0m \u001b[38;5;250m\u001b[39m\u001b[38;5;124;03m\"\"\"\u001b[39;00m\n\u001b[0;32m     13\u001b[0m \u001b[38;5;124;03mFunção que verifica se um valor é muito alto.\u001b[39;00m\n\u001b[0;32m     14\u001b[0m \u001b[38;5;124;03mParâmetros:\u001b[39;00m\n\u001b[0;32m     15\u001b[0m \u001b[38;5;124;03mvalor (int, float): Valor a ser verificado.\u001b[39;00m\n\u001b[0;32m     16\u001b[0m \u001b[38;5;124;03m\"\"\"\u001b[39;00m\n\u001b[0;32m     17\u001b[0m \u001b[38;5;28;01mif\u001b[39;00m valor \u001b[38;5;241m>\u001b[39m \u001b[38;5;241m100\u001b[39m:\n\u001b[0;32m     18\u001b[0m     \u001b[38;5;66;03m# Levantando a exceção personalizada\u001b[39;00m\n\u001b[1;32m---> 19\u001b[0m     \u001b[38;5;28;01mraise\u001b[39;00m ValorMuitoAltoError(valor)\n\u001b[0;32m     20\u001b[0m \u001b[38;5;28;01mreturn\u001b[39;00m valor\n",
      "\u001b[1;31mValorMuitoAltoError\u001b[0m: O valor é muito alto!"
     ]
    }
   ],
   "source": [
    "# Testando a função com um valor muito alto\n",
    "verificar_valor(200)  # Saída esperada: 200"
   ]
  },
  {
   "cell_type": "code",
   "execution_count": 23,
   "metadata": {},
   "outputs": [
    {
     "name": "stdout",
     "output_type": "stream",
     "text": [
      "Capturada uma exceção: O valor é muito alto!\n"
     ]
    }
   ],
   "source": [
    "# Testando a função com um valor muito alto no try\n",
    "try:\n",
    "    verificar_valor(200)\n",
    "except ValorMuitoAltoError as e:\n",
    "    print(f\"Capturada uma exceção: {e}\")"
   ]
  },
  {
   "cell_type": "markdown",
   "metadata": {},
   "source": [
    "# Aprofundamento em Exceções\n",
    "\n",
    "## 3. Exceções e Funções\n",
    "\n",
    "### Objetivos:\n",
    "- Explicar como usar exceções para controlar o fluxo em funções.\n",
    "- Fornecer exemplos de funções com tratamento avançado de exceções.\n",
    "\n",
    "### Conteúdo:\n",
    "\n",
    "#### A. Uso de Exceções em Funções\n",
    "- As exceções podem ser usadas para gerenciar casos de erro em funções de maneira elegante.\n",
    "\n",
    "#### B. Funções com Tratamento Avançado de Exceções\n",
    "- Exemplos práticos que demonstram como usar exceções para lidar com condições de erro em funções.\n",
    "\n",
    "### Exemplo de Código:"
   ]
  },
  {
   "cell_type": "code",
   "execution_count": 68,
   "metadata": {},
   "outputs": [],
   "source": [
    "# Exemplo de função com tratamento avançado de exceções\n",
    "\n",
    "def calcular_quociente(num1, num2):\n",
    "    \"\"\"\n",
    "    Função para calcular o quociente de dois números com tratamento avançado de exceções.\n",
    "    Parâmetros:\n",
    "    num1 (int, float): Dividendo.\n",
    "    num2 (int, float): Divisor.\n",
    "    \n",
    "    Retorna:\n",
    "    O quociente da divisão ou uma mensagem de erro.\n",
    "    \"\"\"\n",
    "    try:\n",
    "        resultado = num1 / num2\n",
    "    except ZeroDivisionError:\n",
    "        return \"Erro: Não é possível dividir por zero.\"\n",
    "    except TypeError:\n",
    "        return \"Erro: Ambos os valores devem ser números.\"\n",
    "    else:\n",
    "        return f\"O resultado é {resultado}\"\n",
    "    finally:\n",
    "        print(\"Execução da função de divisão concluída.\")\n"
   ]
  },
  {
   "cell_type": "code",
   "execution_count": 25,
   "metadata": {},
   "outputs": [
    {
     "name": "stdout",
     "output_type": "stream",
     "text": [
      "Execução da função de divisão concluída.\n",
      "O resultado é 5.0\n"
     ]
    }
   ],
   "source": [
    "# Testando a função com valores válidos\n",
    "print(calcular_quociente(20, 4))  # Saída esperada: O resultado é 5.0"
   ]
  },
  {
   "cell_type": "code",
   "execution_count": 26,
   "metadata": {},
   "outputs": [
    {
     "name": "stdout",
     "output_type": "stream",
     "text": [
      "Execução da função de divisão concluída.\n",
      "Erro: Não é possível dividir por zero.\n"
     ]
    }
   ],
   "source": [
    "# Testando a função com divisão por zero\n",
    "print(calcular_quociente(20, 0))  # Saída esperada: Erro: Não é possível dividir por zero."
   ]
  },
  {
   "cell_type": "code",
   "execution_count": 27,
   "metadata": {},
   "outputs": [
    {
     "name": "stdout",
     "output_type": "stream",
     "text": [
      "Execução da função de divisão concluída.\n",
      "Erro: Ambos os valores devem ser números.\n"
     ]
    }
   ],
   "source": [
    "# Testando a função com tipo de dados incorreto\n",
    "print(calcular_quociente(20, \"dois\"))  # Saída esperada: Erro: Ambos os valores devem ser números."
   ]
  },
  {
   "cell_type": "markdown",
   "metadata": {},
   "source": [
    "# Mais exemplos de funções:"
   ]
  },
  {
   "cell_type": "markdown",
   "metadata": {},
   "source": [
    "#### A. Exercícios de Criação de Funções"
   ]
  },
  {
   "cell_type": "markdown",
   "metadata": {},
   "source": [
    "1. Escreva uma função que aceita dois números como argumentos e retorna sua soma.\n"
   ]
  },
  {
   "cell_type": "code",
   "execution_count": 28,
   "metadata": {},
   "outputs": [],
   "source": [
    "# Exemplo para o Exercício A.1\n",
    "def somar(num1, num2):\n",
    "    return num1 + num2"
   ]
  },
  {
   "cell_type": "markdown",
   "metadata": {},
   "source": [
    "2. Crie uma função que recebe uma lista de números e retorna a média."
   ]
  },
  {
   "cell_type": "code",
   "execution_count": 29,
   "metadata": {},
   "outputs": [],
   "source": [
    "# Exemplo para o Exercício A.2\n",
    "def calcular_media(numeros):\n",
    "    return sum(numeros) / len(numeros)"
   ]
  },
  {
   "cell_type": "markdown",
   "metadata": {},
   "source": [
    "#### B. Exercícios de Tratamento de Exceções"
   ]
  },
  {
   "cell_type": "markdown",
   "metadata": {},
   "source": [
    "1. Modifique a função de soma para tratar exceções onde os inputs não são números.\n"
   ]
  },
  {
   "cell_type": "code",
   "execution_count": 30,
   "metadata": {},
   "outputs": [],
   "source": [
    "# Exemplo para o Exercício B.1\n",
    "def somar_seguro(num1, num2):\n",
    "    try:\n",
    "        return num1 + num2\n",
    "    except TypeError:\n",
    "        return \"Ambos os valores devem ser números.\""
   ]
  },
  {
   "cell_type": "markdown",
   "metadata": {},
   "source": [
    "2. Crie uma função para dividir dois números que trata a exceção de divisão por zero."
   ]
  },
  {
   "cell_type": "code",
   "execution_count": 39,
   "metadata": {},
   "outputs": [],
   "source": [
    "# Exemplo para o Exercício B.2\n",
    "def dividir(num1, num2):\n",
    "    try:\n",
    "        return num1 / num2\n",
    "    except ZeroDivisionError:\n",
    "        return \"Divisão por zero não é permitida.\"\n",
    "   "
   ]
  },
  {
   "cell_type": "markdown",
   "metadata": {},
   "source": [
    "# Exercícios"
   ]
  },
  {
   "cell_type": "markdown",
   "metadata": {},
   "source": [
    "\n",
    "### Exercício 1\n",
    "#### Tente converter uma string para um número inteiro. Se houver um ValueError, imprima uma mensagem de erro.\n",
    "\n"
   ]
  },
  {
   "cell_type": "code",
   "execution_count": 55,
   "metadata": {},
   "outputs": [
    {
     "name": "stdout",
     "output_type": "stream",
     "text": [
      "Ocorreu um ValueError: invalid literal for int() with base 10: 'texto'\n"
     ]
    }
   ],
   "source": [
    "# Exercício 1\n",
    "try:\n",
    "    int('texto') \n",
    "except ValueError as e:\n",
    "    print(f\"Ocorreu um ValueError: {e}\")\n",
    "    "
   ]
  },
  {
   "cell_type": "markdown",
   "metadata": {},
   "source": [
    "\n",
    "### Exercício 2\n",
    "#### Crie uma lista com 5 elementos e tente acessar um índice que não existe. Trate o IndexError com uma mensagem de erro.\n",
    "\n"
   ]
  },
  {
   "cell_type": "code",
   "execution_count": 56,
   "metadata": {},
   "outputs": [
    {
     "name": "stdout",
     "output_type": "stream",
     "text": [
      "O valor procurado não existe\n"
     ]
    }
   ],
   "source": [
    "# Exercício 2\n",
    "lista = [1,2,3,4,5]\n",
    "\n",
    "try:\n",
    "    lista[5]\n",
    "except IndexError:\n",
    "    print('O valor procurado não existe')"
   ]
  },
  {
   "cell_type": "markdown",
   "metadata": {},
   "source": [
    "\n",
    "### Exercício 3\n",
    "#### Escreva uma função que recebe dois parâmetros e divide o primeiro pelo segundo. Trate o caso de divisão por zero com uma mensagem de erro.\n",
    "\n"
   ]
  },
  {
   "cell_type": "code",
   "execution_count": 74,
   "metadata": {},
   "outputs": [],
   "source": [
    "# Exercício 3\n",
    "def divisao (num1,num2):\n",
    "    try:\n",
    "        div = num1 / num2\n",
    "    except ZeroDivisionError:\n",
    "        return \"Erro: Não é possível dividir por zero.\"\n",
    "    else:\n",
    "        return f\"O resultado é {div}\""
   ]
  },
  {
   "cell_type": "code",
   "execution_count": 76,
   "metadata": {},
   "outputs": [
    {
     "data": {
      "text/plain": [
       "'Erro: Não é possível dividir por zero.'"
      ]
     },
     "execution_count": 76,
     "metadata": {},
     "output_type": "execute_result"
    }
   ],
   "source": [
    "divisao(2,0)"
   ]
  },
  {
   "cell_type": "markdown",
   "metadata": {},
   "source": [
    "\n",
    "### Exercício 4\n",
    "#### Utilize um bloco try-except para tratar um possível TypeError ao somar um número e uma string. Mostre uma mensagem de erro adequada.\n",
    "\n"
   ]
  },
  {
   "cell_type": "code",
   "execution_count": 78,
   "metadata": {},
   "outputs": [
    {
     "name": "stdout",
     "output_type": "stream",
     "text": [
      "o erro é unsupported operand type(s) for +: 'int' and 'str'\n"
     ]
    }
   ],
   "source": [
    "# Exercício 4\n",
    "try:\n",
    "    12 + \"batata\"\n",
    "except TypeError as e:\n",
    "    print(f'o erro é {e}')\n",
    "    "
   ]
  },
  {
   "cell_type": "markdown",
   "metadata": {},
   "source": [
    "\n",
    "### Exercício 5\n",
    "#### Tente abrir um arquivo que não existe e trate a exceção FileNotFoundError exibindo uma mensagem ao usuário.\n",
    "\n"
   ]
  },
  {
   "cell_type": "code",
   "execution_count": 79,
   "metadata": {},
   "outputs": [
    {
     "name": "stdout",
     "output_type": "stream",
     "text": [
      "o erro é [Errno 2] No such file or directory: 'batata.csv'\n"
     ]
    }
   ],
   "source": [
    "# Exercício 5\n",
    "import pandas as pd\n",
    "\n",
    "try:\n",
    "    casa = pd.read_csv('batata.csv')\n",
    "except FileNotFoundError as e :\n",
    "    print(f'o erro é {e}')"
   ]
  },
  {
   "cell_type": "markdown",
   "metadata": {},
   "source": [
    "\n",
    "### Exercício 6\n",
    "#### Utilize o bloco else para imprimir uma mensagem de \"Nenhuma exceção ocorreu\" quando seu bloco try executar sem erros.\n",
    "\n"
   ]
  },
  {
   "cell_type": "code",
   "execution_count": 6,
   "metadata": {},
   "outputs": [
    {
     "data": {
      "text/plain": [
       "'Nenhum erro de execução 2.8'"
      ]
     },
     "execution_count": 6,
     "metadata": {},
     "output_type": "execute_result"
    }
   ],
   "source": [
    "# Exercício 6\n",
    "def divisao (num1,num2):\n",
    "    try:\n",
    "        div = num1 / num2\n",
    "    except ZeroDivisionError:\n",
    "        return \"Erro: Não é possível dividir por zero.\"\n",
    "    else:\n",
    "        return f\"Nenhum erro de execução {div}\"\n",
    "\n",
    "divisao(14,5)"
   ]
  },
  {
   "cell_type": "markdown",
   "metadata": {},
   "source": [
    "\n",
    "### Exercício 7\n",
    "#### Use um bloco finally para garantir que uma determinada instrução será executada, independentemente de uma exceção ocorrer ou não.\n",
    "\n"
   ]
  },
  {
   "cell_type": "code",
   "execution_count": 12,
   "metadata": {},
   "outputs": [
    {
     "name": "stdout",
     "output_type": "stream",
     "text": [
      "Execução da função concluída.\n"
     ]
    },
    {
     "data": {
      "text/plain": [
       "'Ambos os valores devem ser números.'"
      ]
     },
     "execution_count": 12,
     "metadata": {},
     "output_type": "execute_result"
    }
   ],
   "source": [
    "# Exercício 7\n",
    "def soma (num1,num2):\n",
    "    try:\n",
    "        soma = num1 + num2\n",
    "    except TypeError:\n",
    "        return \"Ambos os valores devem ser números.\"\n",
    "    else:\n",
    "        return f'acertouu {soma}'\n",
    "    finally:\n",
    "        print(\"Execução da função concluída.\")\n",
    "soma(1,'r')"
   ]
  },
  {
   "cell_type": "markdown",
   "metadata": {},
   "source": [
    "\n",
    "### Exercício 8\n",
    "#### Levante uma exceção ValueError intencionalmente e trate-a com uma mensagem de erro específica.\n"
   ]
  },
  {
   "cell_type": "code",
   "execution_count": 19,
   "metadata": {},
   "outputs": [
    {
     "data": {
      "text/plain": [
       "'O valor galinha não pode ser convertida para um inteiro'"
      ]
     },
     "execution_count": 19,
     "metadata": {},
     "output_type": "execute_result"
    }
   ],
   "source": [
    "# Exercício 8\n",
    "def trasforma_int(var):\n",
    "    try: \n",
    "        resultado = int(var)\n",
    "    except ValueError:\n",
    "        return f'O valor {var} não pode ser convertida para um inteiro'\n",
    "    else:\n",
    "        return f\"O resultado é {resultado}\"\n",
    "trasforma_int('galinha')"
   ]
  },
  {
   "cell_type": "markdown",
   "metadata": {},
   "source": [
    "\n",
    "### Exercício 9\n",
    "#### Crie uma exceção personalizada chamada CustomError e use-a em um exemplo simples.\n"
   ]
  },
  {
   "cell_type": "code",
   "execution_count": 24,
   "metadata": {},
   "outputs": [
    {
     "name": "stdout",
     "output_type": "stream",
     "text": [
      "Erro: Número par não permitido: 2\n"
     ]
    }
   ],
   "source": [
    "# Exercício 9\n",
    "class CustomError(Exception):\n",
    "    \"\"\"Exceção para quando o numero for par\"\"\"\n",
    "    def __init__ (self,numero):\n",
    "        super().__init__(f\"Número par não permitido: {numero}\")\n",
    "        self.numero = numero\n",
    "def soma_impar (num1,num2):\n",
    "    \"\"\"Soma somente numeros impares\"\"\"\n",
    "    if num1 % 2 == 0:\n",
    "        raise CustomError(num1)\n",
    "    if num2 % 2 == 0:\n",
    "        raise CustomError(num2) \n",
    "    return num1 + num2\n",
    "try:\n",
    "    resultado = soma_impar(5, 2) \n",
    "    print(f\"Soma: {resultado}\")\n",
    "except CustomError as e:\n",
    "    print(f\"Erro: {e}\")"
   ]
  },
  {
   "cell_type": "markdown",
   "metadata": {},
   "source": [
    "\n",
    "### Exercício 10\n",
    "#### Escreva uma função que recebe um número e lança uma exceção se o número for negativo, caso contrário, retorna o número.\n"
   ]
  },
  {
   "cell_type": "code",
   "execution_count": 28,
   "metadata": {},
   "outputs": [
    {
     "name": "stdout",
     "output_type": "stream",
     "text": [
      "Erro: O numero inserido é negativo -4\n"
     ]
    }
   ],
   "source": [
    "# Exercício 10\n",
    "class NegativoError(Exception):\n",
    "    def __init__(self,numero):\n",
    "        super().__init__(f'O numero inserido é negativo {numero}')\n",
    "        self.numero = numero\n",
    "def confirma_positivo(numero):\n",
    "    if numero < 0:\n",
    "        raise NegativoError(numero)\n",
    "    return numero\n",
    "\n",
    "try:\n",
    "    resultado = confirma_positivo(-4)\n",
    "    print(f'O resultado é {resultado}')\n",
    "except NegativoError as e :\n",
    "     print(f\"Erro: {e}\")"
   ]
  },
  {
   "cell_type": "markdown",
   "metadata": {},
   "source": [
    "\n",
    "### Exercício 11\n",
    "#### Tente alterar um elemento de uma tupla (que é imutável) e trate a exceção TypeError que ocorrer.\n"
   ]
  },
  {
   "cell_type": "code",
   "execution_count": 29,
   "metadata": {},
   "outputs": [
    {
     "name": "stdout",
     "output_type": "stream",
     "text": [
      "O valor de uma tupla n pode ser modificado: 'tuple' object does not support item assignment\n",
      "(1, 3, 5, 8)\n"
     ]
    }
   ],
   "source": [
    "# Exercício 11\n",
    "tupla = (1,3,5,8)\n",
    "\n",
    "try:\n",
    "    tupla[2] = 15\n",
    "except TypeError as e :\n",
    "    print(f'O valor de uma tupla n pode ser modificado: {e}')\n",
    "print(tupla)"
   ]
  },
  {
   "cell_type": "markdown",
   "metadata": {},
   "source": [
    "\n",
    "### Exercício 12\n",
    "#### Crie uma função que tenta ler um arquivo e trata as exceções para erros de arquivo não encontrado ou erros de permissão.\n"
   ]
  },
  {
   "cell_type": "code",
   "execution_count": 35,
   "metadata": {},
   "outputs": [
    {
     "name": "stdout",
     "output_type": "stream",
     "text": [
      "O arquivo não encontrado.\n"
     ]
    }
   ],
   "source": [
    "# Exercício 12\n",
    "def ler_arquivo (caminho):\n",
    "    try:\n",
    "        with open(caminho, 'r') as arquivo:\n",
    "            conteudo = arquivo.read()\n",
    "            return conteudo\n",
    "    except FileNotFoundError:\n",
    "        print(f\"O arquivo não encontrado.\")\n",
    "    except PermissionError:\n",
    "        print(f\"Você não tem permissão pra entrar nesse arquivo.\")\n",
    "    \n",
    "ler_arquivo('batata.csv')"
   ]
  },
  {
   "cell_type": "markdown",
   "metadata": {},
   "source": [
    "\n",
    "### Exercício 13\n",
    "#### Faça uma função que recebe uma lista e um índice, e retorna o elemento naquele índice. Trate a exceção para um índice inválido.\n"
   ]
  },
  {
   "cell_type": "code",
   "execution_count": 38,
   "metadata": {},
   "outputs": [
    {
     "name": "stdout",
     "output_type": "stream",
     "text": [
      "A posição da lista ecolhida não existe. ERROR: list index out of range\n",
      "None\n",
      "2\n"
     ]
    }
   ],
   "source": [
    "# Exercício 13\n",
    "def busca_por_indice (lista,indice):\n",
    "    try:\n",
    "        resultado = lista[indice]\n",
    "        return resultado\n",
    "    except IndexError as e:\n",
    "        print(f'A posição da lista ecolhida não existe. ERROR: {e}')\n",
    "lista = [1,2,3,4,5,6,7,8,9]\n",
    "print(busca_por_indice(lista,10))\n",
    "print(busca_por_indice(lista,1))"
   ]
  },
  {
   "cell_type": "markdown",
   "metadata": {},
   "source": [
    "\n",
    "### Exercício 14\n",
    "#### Escreva uma função que pede ao usuário para digitar um número inteiro. Se um ValueError ocorrer, continue pedindo até que um número válido seja fornecido.\n"
   ]
  },
  {
   "cell_type": "code",
   "execution_count": 42,
   "metadata": {},
   "outputs": [
    {
     "name": "stdout",
     "output_type": "stream",
     "text": [
      "Escreva um numero inteiro: n\n",
      "O valor não é inteiro. Error: invalid literal for int() with base 10: 'n'\n",
      "Escreva um numero inteiro: d\n",
      "O valor não é inteiro. Error: invalid literal for int() with base 10: 'd'\n",
      "Escreva um numero inteiro: 5.5\n",
      "O valor não é inteiro. Error: invalid literal for int() with base 10: '5.5'\n",
      "Escreva um numero inteiro: 3\n"
     ]
    },
    {
     "data": {
      "text/plain": [
       "3"
      ]
     },
     "execution_count": 42,
     "metadata": {},
     "output_type": "execute_result"
    }
   ],
   "source": [
    "# Exercício 14\n",
    "def numero_int ():\n",
    "    while True:\n",
    "        try:\n",
    "            num = int(input('Escreva um numero inteiro: '))\n",
    "            return num\n",
    "        except ValueError as e:\n",
    "            print(f'O valor não é inteiro. Error: {e}')\n",
    "numero_int()"
   ]
  },
  {
   "cell_type": "markdown",
   "metadata": {},
   "source": [
    "\n",
    "### Exercício 15\n",
    "#### Crie uma função que tenta converter uma string para um número flutuante. Se funcionar, retorne o número; caso contrário, retorne None.\n"
   ]
  },
  {
   "cell_type": "code",
   "execution_count": 43,
   "metadata": {},
   "outputs": [
    {
     "name": "stdout",
     "output_type": "stream",
     "text": [
      "none\n",
      "O resultado é 5.5\n"
     ]
    }
   ],
   "source": [
    "# Exercício 15\n",
    "def trasforma_float(num):\n",
    "    try:\n",
    "        resultado = float(num)\n",
    "        return f'O resultado é {resultado}'\n",
    "    except ValueError:\n",
    "        return'none'\n",
    "   \n",
    "\n",
    "print(trasforma_float('batata'))\n",
    "print(trasforma_float('5.5'))"
   ]
  }
 ],
 "metadata": {
  "kernelspec": {
   "display_name": "Python 3 (ipykernel)",
   "language": "python",
   "name": "python3"
  },
  "language_info": {
   "codemirror_mode": {
    "name": "ipython",
    "version": 3
   },
   "file_extension": ".py",
   "mimetype": "text/x-python",
   "name": "python",
   "nbconvert_exporter": "python",
   "pygments_lexer": "ipython3",
   "version": "3.9.13"
  }
 },
 "nbformat": 4,
 "nbformat_minor": 4
}
